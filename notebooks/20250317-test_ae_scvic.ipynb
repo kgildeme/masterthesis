{
 "cells": [
  {
   "cell_type": "code",
   "execution_count": 1,
   "metadata": {},
   "outputs": [],
   "source": [
    "import os \n",
    "os.chdir(\"../\")"
   ]
  },
  {
   "cell_type": "code",
   "execution_count": 10,
   "metadata": {},
   "outputs": [],
   "source": [
    "\n",
    "import numpy as np\n",
    "from sklearn.model_selection import StratifiedShuffleSplit\n",
    "\n",
    "import torch\n",
    "from torch import nn\n",
    "from torch.nn import functional as F\n",
    "\n",
    "from cids.data import SCVICCIDSDataset, SCVICCIDSDatasetBinary, SCVIC_CIDS_CLASSES\n",
    "from cids.models.nn import MLP, Autoencoder\n",
    "from cids.util.metrics import auc_score\n",
    "from cids.util import misc_funcs as misc"
   ]
  },
  {
   "cell_type": "code",
   "execution_count": 3,
   "metadata": {},
   "outputs": [],
   "source": [
    "idxs = np.loadtxt(os.path.join(misc.data(), \"scvic/train_indices.txt\"), dtype=int)\n",
    "dataset = SCVICCIDSDataset(misc.data_raw(scvic=True), subset=idxs, network_data=True, host_data=True,\n",
    "                                    host_embeddings=False)\n"
   ]
  },
  {
   "cell_type": "code",
   "execution_count": 7,
   "metadata": {},
   "outputs": [
    {
     "name": "stdout",
     "output_type": "stream",
     "text": [
      "[376383 396532   5595 ... 573952 674069 126713]\n"
     ]
    }
   ],
   "source": [
    "train_idxs, val_idxs = next(StratifiedShuffleSplit(n_splits=1, test_size=0.2, random_state=42).split(np.zeros(len(dataset)), [d[-1] for d in dataset]))\n",
    "malicious_idxs = []\n",
    "benign_idxs = []\n",
    "for train_idx in train_idxs:\n",
    "    if dataset[train_idx][-1] != 0:\n",
    "        malicious_idxs.append(train_idx)\n",
    "    else:\n",
    "        benign_idxs.append(train_idx)\n",
    "\n",
    "train_idxs = np.asarray(benign_idxs)\n",
    "print(train_idxs)\n",
    "val_idxs = np.append(val_idxs, malicious_idxs)\n",
    "\n",
    "train_dataset = SCVICCIDSDatasetBinary(data=dataset.data, subset=train_idxs, network_data=True, host_data=True,\n",
    "                                    host_embeddings=False)\n",
    "val_dataset = SCVICCIDSDatasetBinary(data=dataset.data, subset=val_idxs, network_data=True, host_data=True,\n",
    "                                    host_embeddings=False)\n",
    "train_dl = torch.utils.data.DataLoader(train_dataset, batch_size=8, num_workers=1, shuffle=True)\n",
    "eval_dl = torch.utils.data.DataLoader(val_dataset, batch_size=8, num_workers=1, shuffle=False)"
   ]
  },
  {
   "cell_type": "code",
   "execution_count": 8,
   "metadata": {},
   "outputs": [
    {
     "data": {
      "text/plain": [
       "Autoencoder(\n",
       "  (encoder): MLP(\n",
       "    (input_layer): Linear(in_features=356, out_features=128, bias=True)\n",
       "    (hidden_layers): ModuleList()\n",
       "    (output_layer): Linear(in_features=128, out_features=15, bias=True)\n",
       "    (dropout): Identity()\n",
       "  )\n",
       "  (decoder): Sequential(\n",
       "    (0): MLP(\n",
       "      (input_layer): Linear(in_features=15, out_features=128, bias=True)\n",
       "      (hidden_layers): ModuleList()\n",
       "      (output_layer): Linear(in_features=128, out_features=356, bias=True)\n",
       "      (dropout): Identity()\n",
       "    )\n",
       "    (1): Sigmoid()\n",
       "  )\n",
       ")"
      ]
     },
     "execution_count": 8,
     "metadata": {},
     "output_type": "execute_result"
    }
   ],
   "source": [
    "device = \"cuda:2\"\n",
    "model_config = {\"input_dim\": 356, \"output_dim\": 15, \"hidden_dims\": [128]}\n",
    "encoder = MLP(**model_config)\n",
    "model_config[\"input_dim\"], model_config[\"output_dim\"] = model_config[\"output_dim\"], model_config[\"input_dim\"]\n",
    "decoder = MLP(**model_config)\n",
    "decoder = nn.Sequential(decoder, nn.Sigmoid())\n",
    "\n",
    "model = Autoencoder(encoder=encoder, decoder=decoder)\n",
    "model.to(device)"
   ]
  },
  {
   "cell_type": "code",
   "execution_count": 26,
   "metadata": {},
   "outputs": [
    {
     "name": "stdout",
     "output_type": "stream",
     "text": [
      "tensor(294750) tensor(0)\n"
     ]
    }
   ],
   "source": [
    "counts_benign = 0\n",
    "counts_mal = 0\n",
    "\n",
    "for train_data in train_dl:\n",
    "    lbl = train_data[-1]\n",
    "    counts_benign += lbl.shape[0] - lbl.sum()\n",
    "    counts_mal += lbl.sum()\n",
    "\n",
    "print(counts_benign, counts_mal)"
   ]
  },
  {
   "cell_type": "code",
   "execution_count": 24,
   "metadata": {},
   "outputs": [],
   "source": [
    "counts_benign = 0\n",
    "counts_mal = 0\n",
    "with torch.no_grad():\n",
    "    model.eval()\n",
    "    eval_loss = 0\n",
    "    eval_steps = 0\n",
    "    scores = []\n",
    "    labels = []\n",
    "    for eval_data in eval_dl:\n",
    "        eval_inp = torch.concat([torch.flatten(eval_data[i], start_dim=1) for i in range(len(eval_data) - 1)], dim=1)\n",
    "        eval_inp = eval_inp.to(device)\n",
    "        eval_out = model(eval_inp)\n",
    "        eval_labels = eval_data[-1].to(device)\n",
    "        counts_benign += eval_labels.shape[0] - eval_labels.sum()\n",
    "        counts_mal += eval_labels.sum()\n",
    "        loss_expanded = F.mse_loss(eval_inp, eval_out, reduction=\"none\")            \n",
    "        eval_loss += (loss_expanded.mean(dim=1) * (1 - eval_labels)).mean().item()\n",
    "        \n",
    "        scores.extend(torch.mean(loss_expanded, dim=1).detach().cpu().numpy())\n",
    "        labels.extend(eval_labels.detach().cpu().numpy())\n",
    "\n",
    "        eval_steps += 1\n",
    "    \n",
    "    eval_loss /= eval_steps\n",
    "    "
   ]
  },
  {
   "cell_type": "code",
   "execution_count": 25,
   "metadata": {},
   "outputs": [
    {
     "name": "stdout",
     "output_type": "stream",
     "text": [
      "tensor(73687, device='cuda:2') tensor(368438, device='cuda:2')\n",
      "442125 442125\n",
      "0.4040063032856825\n"
     ]
    }
   ],
   "source": [
    "eval_score = auc_score(labels, scores)\n",
    "print(counts_benign, counts_mal)\n",
    "print(len(labels), len(scores))\n",
    "print(eval_score)"
   ]
  },
  {
   "cell_type": "code",
   "execution_count": 20,
   "metadata": {},
   "outputs": [],
   "source": [
    "from sklearn.metrics import roc_curve\n",
    "from matplotlib import pyplot as plt"
   ]
  },
  {
   "cell_type": "code",
   "execution_count": 21,
   "metadata": {},
   "outputs": [
    {
     "data": {
      "image/png": "[encoded data removed]",
      "text/plain": [
       "<Figure size 640x480 with 1 Axes>"
      ]
     },
     "metadata": {},
     "output_type": "display_data"
    }
   ],
   "source": [
    "fpr, tpr, _ = roc_curve(labels, scores)\n",
    "plt.plot(fpr, tpr)\n",
    "plt.show()"
   ]
  },
  {
   "cell_type": "code",
   "execution_count": null,
   "metadata": {},
   "outputs": [],
   "source": []
  }
 ],
 "metadata": {
  "kernelspec": {
   "display_name": "cids3.12",
   "language": "python",
   "name": "python3"
  },
  "language_info": {
   "codemirror_mode": {
    "name": "ipython",
    "version": 3
   },
   "file_extension": ".py",
   "mimetype": "text/x-python",
   "name": "python",
   "nbconvert_exporter": "python",
   "pygments_lexer": "ipython3",
   "version": "3.12.8"
  }
 },
 "nbformat": 4,
 "nbformat_minor": 2
}
