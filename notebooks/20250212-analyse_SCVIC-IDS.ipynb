{
 "cells": [
  {
   "cell_type": "code",
   "execution_count": 1,
   "metadata": {},
   "outputs": [],
   "source": [
    "import os\n",
    "os.chdir(\"../\")"
   ]
  },
  {
   "cell_type": "code",
   "execution_count": 4,
   "metadata": {},
   "outputs": [],
   "source": [
    "import pickle as pkl\n",
    "\n",
    "\n",
    "import torch\n",
    "import numpy as np\n",
    "import matplotlib.pyplot as plt\n",
    "import pandas as pd"
   ]
  },
  {
   "cell_type": "code",
   "execution_count": 3,
   "metadata": {},
   "outputs": [],
   "source": [
    "data_dir = \"/work/gildemeister/SCVIC-CIDS-2021\""
   ]
  },
  {
   "cell_type": "markdown",
   "metadata": {},
   "source": [
    "## Analyse Normal Tensor"
   ]
  },
  {
   "cell_type": "code",
   "execution_count": 7,
   "metadata": {},
   "outputs": [],
   "source": [
    "with open(os.path.join(data_dir, \"CidsSampleNormal_Tensor_28.pkl\"), 'rb') as f:\n",
    "    data = pkl.load(f)\n",
    "    "
   ]
  },
  {
   "cell_type": "code",
   "execution_count": 15,
   "metadata": {},
   "outputs": [
    {
     "name": "stdout",
     "output_type": "stream",
     "text": [
      "<class 'list'>\n",
      "460547\n",
      "<class 'tuple'>\n",
      "4\n",
      "<class 'torch.Tensor'>\n",
      "torch.Size([132])\n",
      "<class 'torch.Tensor'>\n",
      "torch.Size([28, 8])\n",
      "<class 'str'>\n",
      "The Amazon SSM Agent service terminated unexpectedly.  It has done this 208 time(s).  The following corrective action will be taken in 30000 milliseconds: Restart the service. The Amazon SSM Agent service terminated with the following service-specific error: \n",
      "Incorrect function. The Amazon SSM Agent service entered the stopped state.\n",
      "<class 'str'>\n",
      "Benign\n"
     ]
    }
   ],
   "source": [
    "print(type(data))\n",
    "print(len(data))\n",
    "print(type(data[0]))\n",
    "print(len(data[0]))\n",
    "for i in range(len(data[0])):\n",
    "    print(type(data[0][i]))\n",
    "    if isinstance(data[0][i], torch.Tensor):\n",
    "        print(data[0][i].shape)\n",
    "    if isinstance(data[0][i], str):\n",
    "        print(data[0][i])"
   ]
  },
  {
   "cell_type": "markdown",
   "metadata": {},
   "source": [
    "The Normal data seems to contain the following:\n",
    "- first list of all quadruples\n",
    "- one quadruple contains networkflow-event, corresponding event features, event message and label\n",
    "- the size of flow-events is 132 and features is [28, 8], for event features n correspondes to number of events and m number of features"
   ]
  },
  {
   "cell_type": "markdown",
   "metadata": {},
   "source": [
    "## Analyse embeddings"
   ]
  },
  {
   "cell_type": "code",
   "execution_count": 16,
   "metadata": {},
   "outputs": [],
   "source": [
    "with open(os.path.join(data_dir, \"Msg2Vec_Bert_100.pkl\"), 'rb') as f:\n",
    "    data_embeddings = pkl.load(f)"
   ]
  },
  {
   "cell_type": "code",
   "execution_count": 64,
   "metadata": {},
   "outputs": [],
   "source": [
    "idxs = []\n",
    "for d in data:\n",
    "    index = data_embeddings[0].index(d[2])\n",
    "    idxs.append(index)\n"
   ]
  },
  {
   "cell_type": "code",
   "execution_count": 67,
   "metadata": {},
   "outputs": [
    {
     "name": "stdout",
     "output_type": "stream",
     "text": [
      "460547\n",
      "[12347, 4037, 4037, 4556, 713, 12320, 4839, 5461, 2088, 2917]\n",
      "[12347, 4037, 4037, 4556, 713, 12320, 4839, 5461, 2088, 2917, 10]\n"
     ]
    }
   ],
   "source": [
    "print(len(idxs))\n",
    "print(idxs[:10])\n",
    "print(idxs[:10] +[10])"
   ]
  },
  {
   "cell_type": "code",
   "execution_count": 68,
   "metadata": {},
   "outputs": [
    {
     "name": "stdout",
     "output_type": "stream",
     "text": [
      "<class 'tuple'>\n",
      "2\n",
      "<class 'list'>\n",
      "13077\n",
      "1\n",
      "A service was installed in the system.\n",
      "\n",
      "Service Name:  MpKsl3145a651\n",
      "Service File Name:  C:\\ProgramData\\Microsoft\\Windows Defender\\Definition Updates\\{2CC7546B-4D0D-4EC6-8261-F62AF62D7C37}\\MpKsl3145a651.sys\n",
      "Service Type:  kernel mode driver\n",
      "Service Start Type:  system start\n",
      "Service Account:   Installation Successful: Windows successfully installed the following update: Definition Update for Windows Defender Antivirus - KB2267602 (Definition 1.263.14.0) The WdiSystemHost service entered the running state. Installation Started: Windows has started installing the following update: Definition Update for Windows Defender Antivirus - KB2267602 (Definition 1.263.14.0) The Device Setup Manager service entered the stopped state. The TrustedInstaller service entered the running state. A service was installed in the system.\n",
      "\n",
      "Service Name:  MpKsl011c4429\n",
      "Service File Name:  C:\\ProgramData\\Microsoft\\Windows Defender\\Definition Updates\\{82BB466D-DC6D-4BDB-A1EF-94D550E09EAF}\\MpKsl011c4429.sys\n",
      "Service Type:  kernel mode driver\n",
      "Service Start Type:  system start\n",
      "Service Account:   Windows Update started downloading an update. The start type of the Background Intelligent Transfer Service service was changed from demand start to auto start. The SSDPSRV service entered the running state. The BITS service entered the running state. Cannot retrieve event message text. The DsSvc service entered the stopped state. The wuauserv service entered the running state. The AppXSvc service entered the running state. The ClipSVC service entered the running state. The StorSvc service entered the running state. The LicenseManager service entered the running state. The Device Setup Manager service entered the running state. The RemoteRegistry service entered the stopped state.\n",
      "2\n",
      "The TrustedInstaller service entered the running state. Installation Started: Windows has started installing the following update: Definition Update for Windows Defender Antivirus - KB2267602 (Definition 1.261.1230.0) A service was installed in the system.\n",
      "\n",
      "Service Name:  MpKsl30ebc44e\n",
      "Service File Name:  C:\\ProgramData\\Microsoft\\Windows Defender\\Definition Updates\\{25B180FE-C6DB-4547-92C9-3792C5996823}\\MpKsl30ebc44e.sys\n",
      "Service Type:  kernel mode driver\n",
      "Service Start Type:  system start\n",
      "Service Account:   The Amazon SSM Agent service terminated unexpectedly.  It has done this 5 time(s).  The following corrective action will be taken in 30000 milliseconds: Restart the service. The Amazon SSM Agent service terminated with the following service-specific error: \n",
      "Incorrect function. The Amazon SSM Agent service entered the stopped state. Cannot retrieve event message text. The DsSvc service entered the stopped state. The AppXSvc service entered the running state. The ClipSVC service entered the running state. The StorSvc service entered the running state. The LicenseManager service entered the running state. The wisvc service entered the running state. Windows Update started downloading an update. The start type of the Background Intelligent Transfer Service service was changed from demand start to auto start. The SSDPSRV service entered the running state. The BITS service entered the running state. The wlidsvc service entered the running state. The Update Orchestrator Service for Windows Update service entered the running state. The RemoteRegistry service entered the stopped state.\n",
      "3\n",
      "The AppX Deployment Service (AppXSVC) service entered the stopped state. The Amazon SSM Agent service terminated unexpectedly.  It has done this 10 time(s).  The following corrective action will be taken in 30000 milliseconds: Restart the service. The Amazon SSM Agent service terminated with the following service-specific error: \n",
      "Incorrect function. The Amazon SSM Agent service entered the stopped state.\n",
      "4\n",
      "The MapsBroker service entered the stopped state. The UALSVC service entered the running state. The VaultSvc service entered the running state. The Sync Host_27e9d service entered the running state. The Portable Device Enumerator Service service entered the stopped state. The sppsvc service entered the running state. The Distributed Transaction Coordinator service entered the running state. The MapsBroker service entered the running state. The DPS service entered the running state. The Connected Devices Platform Service service entered the running state. The Amazon SSM Agent service terminated unexpectedly.  It has done this 1 time(s).  The following corrective action will be taken in 30000 milliseconds: Restart the service. The Amazon SSM Agent service terminated with the following service-specific error: \n",
      "Incorrect function. The AmazonSSMAgent service entered the stopped state. The sppsvc service entered the stopped state.\n",
      "<class 'torch.Tensor'>\n",
      "torch.Size([13077, 100, 768])\n"
     ]
    }
   ],
   "source": [
    "print(type(data_embeddings))\n",
    "print(len(data_embeddings))\n",
    "print(type(data_embeddings[0]))\n",
    "print(len(data_embeddings[0]))\n",
    "for i in range(1, 5):\n",
    "    print(i)\n",
    "    print(data_embeddings[0][i])\n",
    "print(type(data_embeddings[1]))\n",
    "print(data_embeddings[1].shape)"
   ]
  },
  {
   "cell_type": "code",
   "execution_count": 32,
   "metadata": {},
   "outputs": [
    {
     "name": "stdout",
     "output_type": "stream",
     "text": [
      "torch.Size([13077, 100, 768])\n",
      "tensor(76800.)\n"
     ]
    }
   ],
   "source": [
    "embeddings = data_embeddings[1]\n",
    "print(embeddings.shape)\n",
    "print(torch.count_nonzero(embeddings) / embeddings.shape[0])"
   ]
  },
  {
   "cell_type": "markdown",
   "metadata": {},
   "source": [
    "## Analyse Attack"
   ]
  },
  {
   "cell_type": "code",
   "execution_count": 37,
   "metadata": {},
   "outputs": [],
   "source": [
    "with open(os.path.join(data_dir, \"CidsSampleAttack_Tensor_28.pkl\"), 'rb') as f:\n",
    "    data_attack = pkl.load(f)"
   ]
  },
  {
   "cell_type": "code",
   "execution_count": 38,
   "metadata": {},
   "outputs": [
    {
     "name": "stdout",
     "output_type": "stream",
     "text": [
      "<class 'list'>\n",
      "460547\n",
      "<class 'tuple'>\n",
      "4\n",
      "<class 'torch.Tensor'>\n",
      "torch.Size([132])\n",
      "<class 'torch.Tensor'>\n",
      "torch.Size([28, 8])\n",
      "<class 'str'>\n",
      "The Amazon SSM Agent service terminated unexpectedly.  It has done this 40 time(s).  The following corrective action will be taken in 30000 milliseconds: Restart the service. The Amazon SSM Agent service terminated with the following service-specific error: \n",
      "Incorrect function. The Amazon SSM Agent service entered the stopped state.\n",
      "<class 'str'>\n",
      "Bot\n"
     ]
    }
   ],
   "source": [
    "print(type(data_attack))\n",
    "print(len(data_attack))\n",
    "print(type(data_attack[0]))\n",
    "print(len(data_attack[0]))\n",
    "for i in range(len(data_attack[0])):\n",
    "    print(type(data_attack[0][i]))\n",
    "    if isinstance(data_attack[0][i], torch.Tensor):\n",
    "        print(data_attack[0][i].shape)\n",
    "    if isinstance(data_attack[0][i], str):\n",
    "        print(data_attack[0][i])"
   ]
  },
  {
   "cell_type": "code",
   "execution_count": 69,
   "metadata": {},
   "outputs": [
    {
     "name": "stdout",
     "output_type": "stream",
     "text": [
      "dict_keys(['Benign', 'Bot', 'DoS-SlowHTTPTest', 'DoS-Hulk', 'Brute Force -Web', 'Brute Force -XSS', 'SQL Injection', 'Infiltration', 'DoS-GoldenEye', 'DoS-Slowloris', 'DDOS-LOIC-HTTP', 'DDOS-LOIC-UDP', 'FTP-BruteForce', 'SSH-Bruteforce', 'DDOS-HOIC'])\n"
     ]
    },
    {
     "name": "stderr",
     "output_type": "stream",
     "text": [
      "/tmp/ipykernel_2906514/194705150.py:16: UserWarning: set_ticklabels() should only be used with a fixed number of ticks, i.e. after set_ticks() or using a FixedLocator.\n",
      "  axs[0].set_xticklabels(occurences.keys(), rotation=90)\n",
      "/tmp/ipykernel_2906514/194705150.py:21: UserWarning: set_ticklabels() should only be used with a fixed number of ticks, i.e. after set_ticks() or using a FixedLocator.\n",
      "  axs[1].set_xticklabels(occurences.keys(), rotation=90)\n"
     ]
    },
    {
     "data": {
      "image/png": "[encoded data removed]",
      "text/plain": [
       "<Figure size 1200x500 with 2 Axes>"
      ]
     },
     "metadata": {},
     "output_type": "display_data"
    }
   ],
   "source": [
    "occurences = {}\n",
    "for d in data:\n",
    "    label = d[3]\n",
    "    if label not in occurences:\n",
    "        occurences[label] = 0\n",
    "    occurences[label] += 1\n",
    "for d in data_attack:\n",
    "    label = d[3]\n",
    "    if label not in occurences:\n",
    "        occurences[label] = 0\n",
    "    occurences[label] += 1\n",
    "print(occurences.keys())\n",
    "fig, axs = plt.subplots(1, 2, figsize=(12, 5))\n",
    "axs[0].bar(occurences.keys(), occurences.values())\n",
    "axs[0].set_yscale('log')\n",
    "axs[0].set_xticklabels(occurences.keys(), rotation=90)\n",
    "axs[0].set_title(\"Number samples\")\n",
    "occurences.pop(\"Benign\")\n",
    "axs[1].bar(occurences.keys(), occurences.values())\n",
    "axs[1].set_yscale('log')\n",
    "axs[1].set_xticklabels(occurences.keys(), rotation=90)\n",
    "axs[1].set_title(\"Number samples without Benign\")\n",
    "\n",
    "plt.show()\n",
    "plt.close(fig)\n"
   ]
  },
  {
   "cell_type": "code",
   "execution_count": 62,
   "metadata": {},
   "outputs": [
    {
     "data": {
      "image/png": "[encoded data removed]",
      "text/plain": [
       "<Figure size 1700x500 with 3 Axes>"
      ]
     },
     "metadata": {},
     "output_type": "display_data"
    }
   ],
   "source": [
    "network_features_mean = torch.zeros_like(data[0][0])\n",
    "for d in data:\n",
    "    network_features_mean += d[0]\n",
    "network_features_mean /= len(data)\n",
    "network_attack_features_mean = torch.zeros_like(data_attack[0][0])\n",
    "for d in data_attack:\n",
    "    network_attack_features_mean += d[0]\n",
    "network_attack_features_mean /= len(data_attack)\n",
    "\n",
    "fig, axs = plt.subplots(1, 3, figsize=(17, 5))\n",
    "axs[0].bar(range(len(network_features_mean)), network_features_mean)\n",
    "axs[0].set_title(\"Mean network features\")\n",
    "axs[0].set_yscale('log')\n",
    "\n",
    "axs[1].bar(range(len(network_attack_features_mean)), network_attack_features_mean)\n",
    "axs[1].set_title(\"Mean network attack features\")\n",
    "axs[1].set_yscale('log')\n",
    "\n",
    "axs[2].bar(range(len(network_features_mean)), torch.abs(network_features_mean - network_attack_features_mean))\n",
    "axs[2].set_title(\"Difference\")\n",
    "axs[2].set_yscale('log')\n",
    "\n",
    "plt.show()\n",
    "plt.close(fig)"
   ]
  },
  {
   "cell_type": "code",
   "execution_count": 63,
   "metadata": {},
   "outputs": [
    {
     "name": "stdout",
     "output_type": "stream",
     "text": [
      "tensor(89.) tensor(54.) tensor(35.)\n",
      "tensor(89.) tensor(380.) tensor(291.)\n",
      "tensor(178.) tensor(608.) tensor(430.)\n",
      "tensor(89.) tensor(54.) tensor(35.)\n",
      "tensor(89.) tensor(121.6000) tensor(32.6000)\n",
      "tensor(0.) tensor(144.5434) tensor(144.5434)\n",
      "tensor(105.) tensor(54.) tensor(51.)\n",
      "tensor(105.) tensor(166.) tensor(61.)\n",
      "tensor(210.) tensor(411.) tensor(201.)\n",
      "tensor(105.) tensor(66.) tensor(39.)\n",
      "tensor(105.) tensor(82.2000) tensor(22.8000)\n",
      "tensor(0.) tensor(47.4363) tensor(47.4363)\n",
      "tensor(89.) tensor(54.) tensor(35.)\n",
      "tensor(105.) tensor(380.) tensor(275.)\n",
      "tensor(388.) tensor(1019.) tensor(631.)\n",
      "tensor(97.) tensor(60.) tensor(37.)\n",
      "tensor(97.) tensor(101.9000) tensor(4.9000)\n",
      "tensor(9.2376) tensor(103.5229) tensor(94.2853)\n",
      "tensor(2.) tensor(5.) tensor(3.)\n",
      "tensor(74.0356) tensor(299.8159) tensor(225.7802)\n",
      "tensor(2.) tensor(5.) tensor(3.)\n",
      "tensor(74.3526) tensor(304.6371) tensor(230.2845)\n",
      "tensor(1.) tensor(1.) tensor(0.)\n",
      "tensor(4.) tensor(10.) tensor(6.)\n",
      "tensor(146.3917) tensor(588.9636) tensor(442.5719)\n",
      "tensor(178.) tensor(608.) tensor(430.)\n",
      "tensor(6589.1719) tensor(36457.6094) tensor(29868.4375)\n",
      "tensor(210.) tensor(411.) tensor(201.)\n",
      "tensor(7807.0220) tensor(25041.1660) tensor(17234.1445)\n",
      "tensor(0.8476) tensor(1.4793) tensor(0.6317)\n",
      "tensor(388.) tensor(1019.) tensor(631.)\n",
      "tensor(14199.9912) tensor(60015.3867) tensor(45815.3945)\n",
      "tensor(0.) tensor(4.) tensor(4.)\n",
      "tensor(0.) tensor(239.8527) tensor(239.8527)\n",
      "tensor(0.) tensor(5.) tensor(5.)\n",
      "tensor(0.) tensor(304.6371) tensor(304.6371)\n",
      "tensor(0.) tensor(0.8000) tensor(0.8000)\n",
      "tensor(0.) tensor(9.) tensor(9.)\n",
      "tensor(0.) tensor(530.0672) tensor(530.0672)\n",
      "tensor(0.) tensor(1.) tensor(1.)\n",
      "tensor(0.) tensor(59.9632) tensor(59.9632)\n",
      "tensor(0.) tensor(0.) tensor(0.)\n",
      "tensor(0.) tensor(0.) tensor(0.)\n",
      "tensor(0.) tensor(0.) tensor(0.)\n",
      "tensor(0.) tensor(1.) tensor(1.)\n",
      "tensor(0.) tensor(58.8964) tensor(58.8964)\n",
      "tensor(0.) tensor(1.) tensor(1.)\n",
      "tensor(0.) tensor(59.9632) tensor(59.9632)\n",
      "tensor(0.) tensor(0.) tensor(0.)\n",
      "tensor(0.) tensor(0.) tensor(0.)\n",
      "tensor(0.) tensor(0.) tensor(0.)\n",
      "tensor(0.) tensor(1.) tensor(1.)\n",
      "tensor(0.) tensor(58.8964) tensor(58.8964)\n",
      "tensor(0.) tensor(1.) tensor(1.)\n",
      "tensor(0.) tensor(59.9632) tensor(59.9632)\n",
      "tensor(0.) tensor(1.) tensor(1.)\n",
      "tensor(0.) tensor(60.9274) tensor(60.9274)\n",
      "tensor(0.) tensor(1.) tensor(1.)\n",
      "tensor(0.) tensor(2.) tensor(2.)\n",
      "tensor(0.) tensor(117.7927) tensor(117.7927)\n",
      "tensor(0.) tensor(0.) tensor(0.)\n",
      "tensor(0.) tensor(0.) tensor(0.)\n",
      "tensor(0.) tensor(0.) tensor(0.)\n",
      "tensor(0.) tensor(0.) tensor(0.)\n",
      "tensor(0.) tensor(0.) tensor(0.)\n",
      "tensor(0.) tensor(0.) tensor(0.)\n",
      "tensor(0.) tensor(0.) tensor(0.)\n",
      "tensor(0.) tensor(1.) tensor(1.)\n",
      "tensor(0.) tensor(59.9632) tensor(59.9632)\n",
      "tensor(0.) tensor(2.) tensor(2.)\n",
      "tensor(0.) tensor(121.8548) tensor(121.8548)\n",
      "tensor(0.) tensor(0.5000) tensor(0.5000)\n",
      "tensor(0.) tensor(3.) tensor(3.)\n",
      "tensor(0.) tensor(176.6891) tensor(176.6891)\n",
      "tensor(0.) tensor(0.) tensor(0.)\n",
      "tensor(0.) tensor(0.) tensor(0.)\n",
      "tensor(0.) tensor(0.) tensor(0.)\n",
      "tensor(0.) tensor(0.) tensor(0.)\n",
      "tensor(0.) tensor(0.) tensor(0.)\n",
      "tensor(0.) tensor(0.) tensor(0.)\n",
      "tensor(0.) tensor(0.) tensor(0.)\n",
      "tensor(0.) tensor(0.) tensor(0.)\n",
      "tensor(0.) tensor(0.) tensor(0.)\n",
      "tensor(0.) tensor(0.) tensor(0.)\n",
      "tensor(0.) tensor(0.) tensor(0.)\n",
      "tensor(0.) tensor(0.) tensor(0.)\n",
      "tensor(0.) tensor(0.) tensor(0.)\n",
      "tensor(0.) tensor(0.) tensor(0.)\n",
      "tensor(0.) tensor(1.) tensor(1.)\n",
      "tensor(0.) tensor(59.9632) tensor(59.9632)\n",
      "tensor(0.) tensor(1.) tensor(1.)\n",
      "tensor(0.) tensor(60.9274) tensor(60.9274)\n",
      "tensor(0.) tensor(1.) tensor(1.)\n",
      "tensor(0.) tensor(2.) tensor(2.)\n",
      "tensor(0.) tensor(117.7927) tensor(117.7927)\n",
      "tensor(0.) tensor(0.) tensor(0.)\n",
      "tensor(0.) tensor(0.) tensor(0.)\n",
      "tensor(0.) tensor(0.) tensor(0.)\n",
      "tensor(0.) tensor(0.) tensor(0.)\n",
      "tensor(0.) tensor(0.) tensor(0.)\n",
      "tensor(0.) tensor(0.) tensor(0.)\n",
      "tensor(0.) tensor(0.) tensor(0.)\n",
      "tensor(0.0270) tensor(5.7900e-05) tensor(0.0270)\n",
      "tensor(0.0270) tensor(0.0155) tensor(0.0116)\n",
      "tensor(0.0270) tensor(0.0167) tensor(0.0103)\n",
      "tensor(0.0270) tensor(0.0006) tensor(0.0264)\n",
      "tensor(0.0270) tensor(0.0042) tensor(0.0228)\n",
      "tensor(0.) tensor(0.0075) tensor(0.0075)\n",
      "tensor(0.0269) tensor(9.5400e-07) tensor(0.0269)\n",
      "tensor(0.0269) tensor(0.0151) tensor(0.0118)\n",
      "tensor(0.0269) tensor(0.0164) tensor(0.0105)\n",
      "tensor(0.0269) tensor(0.0007) tensor(0.0262)\n",
      "tensor(0.0269) tensor(0.0041) tensor(0.0228)\n",
      "tensor(0.) tensor(0.0073) tensor(0.0073)\n",
      "tensor(0.0003) tensor(9.5400e-07) tensor(0.0003)\n",
      "tensor(0.0266) tensor(0.0151) tensor(0.0115)\n",
      "tensor(0.0273) tensor(0.0170) tensor(0.0103)\n",
      "tensor(0.0004) tensor(0.0003) tensor(0.0001)\n",
      "tensor(0.0091) tensor(0.0019) tensor(0.0072)\n",
      "tensor(0.0151) tensor(0.0050) tensor(0.0102)\n",
      "tensor(0.0273) tensor(0.0170) tensor(0.0103)\n",
      "tensor(0.0273) tensor(0.0170) tensor(0.0103)\n",
      "tensor(0.0273) tensor(0.0170) tensor(0.0103)\n",
      "tensor(0.0273) tensor(0.0170) tensor(0.0103)\n",
      "tensor(0.0273) tensor(0.0170) tensor(0.0103)\n",
      "tensor(0.) tensor(0.) tensor(0.)\n",
      "tensor(0.) tensor(0.) tensor(0.)\n",
      "tensor(0.) tensor(0.) tensor(0.)\n",
      "tensor(0.) tensor(0.) tensor(0.)\n",
      "tensor(0.) tensor(0.) tensor(0.)\n",
      "tensor(0.) tensor(0.) tensor(0.)\n",
      "tensor(0.) tensor(0.) tensor(0.)\n"
     ]
    }
   ],
   "source": [
    "for i in range(len(data[0][0])):\n",
    "    print(data[0][0][i], data_attack[0][0][i], torch.abs(data[0][0][i] - data_attack[0][0][i]))"
   ]
  },
  {
   "cell_type": "code",
   "execution_count": null,
   "metadata": {},
   "outputs": [],
   "source": [
    "from torch.utils.data import DataLoader\n",
    "from cids.data import SCVICCIDSDataset\n",
    "\n"
   ]
  }
 ],
 "metadata": {
  "kernelspec": {
   "display_name": "cids3.12",
   "language": "python",
   "name": "python3"
  },
  "language_info": {
   "codemirror_mode": {
    "name": "ipython",
    "version": 3
   },
   "file_extension": ".py",
   "mimetype": "text/x-python",
   "name": "python",
   "nbconvert_exporter": "python",
   "pygments_lexer": "ipython3",
   "version": "3.12.8"
  }
 },
 "nbformat": 4,
 "nbformat_minor": 2
}
