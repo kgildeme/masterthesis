{
 "cells": [
  {
   "cell_type": "code",
   "execution_count": 1,
   "metadata": {},
   "outputs": [],
   "source": [
    "import os\n",
    "os.chdir(\"../\")"
   ]
  },
  {
   "cell_type": "code",
   "execution_count": 38,
   "metadata": {},
   "outputs": [],
   "source": [
    "import numpy as np\n",
    "from matplotlib import pyplot as plt\n",
    "import torch\n",
    "\n",
    "from cids.util.metrics import f1_score"
   ]
  },
  {
   "cell_type": "code",
   "execution_count": 40,
   "metadata": {},
   "outputs": [],
   "source": [
    "distances = np.random.exponential(scale=1, size=(2048,))\n",
    "distances_mal = np.random.normal(loc=3, scale=1, size=(1024,))\n",
    "distances_mal[distances_mal < 0] = 0\n",
    "\n",
    "distances = torch.tensor(distances)\n",
    "distances_mal = torch.tensor(distances_mal)"
   ]
  },
  {
   "cell_type": "code",
   "execution_count": 41,
   "metadata": {},
   "outputs": [
    {
     "data": {
      "image/png": "[encoded data removed]",
      "text/plain": [
       "<Figure size 640x480 with 1 Axes>"
      ]
     },
     "metadata": {},
     "output_type": "display_data"
    }
   ],
   "source": [
    "plt.hist(distances)\n",
    "plt.hist(distances_mal)\n",
    "plt.show()"
   ]
  },
  {
   "cell_type": "code",
   "execution_count": 44,
   "metadata": {},
   "outputs": [
    {
     "name": "stdout",
     "output_type": "stream",
     "text": [
      "6.542910159559243 torch.Size([998])\n"
     ]
    }
   ],
   "source": [
    "max_score = max([distances.max().item(), distances_mal.max().item()])\n",
    "thresholds = torch.tensor(np.linspace(0, max_score, 1000)[:-2])\n",
    "print(max_score, thresholds.shape)"
   ]
  },
  {
   "cell_type": "code",
   "execution_count": 45,
   "metadata": {},
   "outputs": [
    {
     "name": "stdout",
     "output_type": "stream",
     "text": [
      "torch.Size([1024, 998])\n",
      "torch.Size([998])\n"
     ]
    }
   ],
   "source": [
    "tp = distances_mal[:, None] > thresholds\n",
    "fp = distances[:, None] > thresholds\n",
    "fn = distances_mal[:, None] < thresholds\n",
    "tn = distances[:, None] < thresholds\n",
    "print(tp.shape)\n",
    "tp = torch.sum(tp, dim=0)\n",
    "fp = torch.sum(fp, dim=0)\n",
    "fn = torch.sum(fn, dim=0)\n",
    "tn = torch.sum(tn, dim=0)\n",
    "print(tp.shape)"
   ]
  },
  {
   "cell_type": "code",
   "execution_count": 46,
   "metadata": {},
   "outputs": [],
   "source": [
    "f1s = f1_score(tp, fp, tn, fn)"
   ]
  },
  {
   "cell_type": "code",
   "execution_count": 47,
   "metadata": {},
   "outputs": [
    {
     "name": "stdout",
     "output_type": "stream",
     "text": [
      "torch.Size([998])\n"
     ]
    }
   ],
   "source": [
    "print(f1s.shape)\n",
    "m, i = torch.max(f1s, dim=0)"
   ]
  },
  {
   "cell_type": "code",
   "execution_count": 49,
   "metadata": {},
   "outputs": [
    {
     "name": "stdout",
     "output_type": "stream",
     "text": [
      "tensor(0.8108) tensor(297) tensor(1.9452, dtype=torch.float64)\n"
     ]
    }
   ],
   "source": [
    "print(m, i, thresholds[297])"
   ]
  },
  {
   "cell_type": "code",
   "execution_count": 51,
   "metadata": {},
   "outputs": [
    {
     "name": "stdout",
     "output_type": "stream",
     "text": [
      "1.9451895068959912\n"
     ]
    }
   ],
   "source": [
    "print(thresholds[torch.argmax(f1s)].item())"
   ]
  },
  {
   "cell_type": "code",
   "execution_count": null,
   "metadata": {},
   "outputs": [],
   "source": []
  }
 ],
 "metadata": {
  "kernelspec": {
   "display_name": "cids3.12",
   "language": "python",
   "name": "python3"
  },
  "language_info": {
   "codemirror_mode": {
    "name": "ipython",
    "version": 3
   },
   "file_extension": ".py",
   "mimetype": "text/x-python",
   "name": "python",
   "nbconvert_exporter": "python",
   "pygments_lexer": "ipython3",
   "version": "3.12.8"
  }
 },
 "nbformat": 4,
 "nbformat_minor": 2
}
