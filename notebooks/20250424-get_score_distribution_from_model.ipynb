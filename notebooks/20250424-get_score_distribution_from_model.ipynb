{
 "cells": [
  {
   "cell_type": "code",
   "execution_count": 2,
   "id": "55c92df7",
   "metadata": {},
   "outputs": [],
   "source": [
    "import os\n",
    "os.chdir('../')"
   ]
  },
  {
   "cell_type": "code",
   "execution_count": 5,
   "id": "35fe1cd8",
   "metadata": {},
   "outputs": [],
   "source": [
    "import matplotlib.pyplot as plt\n",
    "import numpy as np\n",
    "from sklearn import metrics\n",
    "\n",
    "from cids.util import misc_funcs as misc\n",
    "from cids.data import OpTCDataset\n",
    "from cids.models.nn import MLP, Autoencoder\n",
    "\n",
    "import torch\n",
    "from torch import nn\n",
    "from torch.nn import functional as F"
   ]
  },
  {
   "cell_type": "code",
   "execution_count": 6,
   "id": "8d239c22",
   "metadata": {},
   "outputs": [],
   "source": [
    "ds = OpTCDataset(\n",
    "    ds_name=\"cids-v5_201_train-ff--104-170-205-255-321-355-419-462\",\n",
    "    parts=4,\n",
    "    window_size=10,\n",
    "    shuffle=False,\n",
    "    eval_mode=True,\n",
    "    only_benign=False,\n",
    "    stage=5\n",
    ")\n",
    "ds_eval = OpTCDataset(\n",
    "    ds_name=\"cids-v5_201_eval-ff_eval--benign_only--503-559-609\",\n",
    "    parts=4,\n",
    "    window_size=10,\n",
    "    shuffle=False,\n",
    "    eval_mode=True,\n",
    "    only_benign=False,\n",
    "    stage=5\n",
    ")\n",
    "dl = torch.utils.data.DataLoader(ds, batch_size=32)\n",
    "eval_dl = torch.utils.data.DataLoader(ds_eval, batch_size=32)"
   ]
  },
  {
   "cell_type": "code",
   "execution_count": 7,
   "id": "136e1e6f",
   "metadata": {},
   "outputs": [
    {
     "data": {
      "text/plain": [
       "Autoencoder(\n",
       "  (encoder): MLP(\n",
       "    (input_layer): Linear(in_features=1690, out_features=128, bias=True)\n",
       "    (hidden_layers): ModuleList()\n",
       "    (output_layer): Linear(in_features=128, out_features=5, bias=True)\n",
       "    (dropout): Identity()\n",
       "  )\n",
       "  (decoder): Sequential(\n",
       "    (0): MLP(\n",
       "      (input_layer): Linear(in_features=5, out_features=128, bias=True)\n",
       "      (hidden_layers): ModuleList()\n",
       "      (output_layer): Linear(in_features=128, out_features=1690, bias=True)\n",
       "      (dropout): Identity()\n",
       "    )\n",
       "    (1): Sigmoid()\n",
       "  )\n",
       ")"
      ]
     },
     "execution_count": 7,
     "metadata": {},
     "output_type": "execute_result"
    }
   ],
   "source": [
    "device = \"cuda:0\"\n",
    "model_path = \"models/03_semisupervision/unsupervised/OpTC/MLPAE-201/BASE-201-1/BASE-201-1-0/ckpt.pt\"\n",
    "model_config = {\"input_dim\": 1690, \"hidden_dims\": [128], \"output_dim\":5}\n",
    "encoder = MLP(**model_config)\n",
    "model_config[\"input_dim\"], model_config[\"output_dim\"] = model_config[\"output_dim\"], model_config[\"input_dim\"]\n",
    "decoder = MLP(**model_config)\n",
    "decoder = nn.Sequential(decoder, nn.Sigmoid())\n",
    "\n",
    "model = Autoencoder(encoder=encoder, decoder=decoder)\n",
    "\n",
    "ckpt = torch.load(model_path, weights_only=True, map_location=\"cpu\")\n",
    "model.load_state_dict(ckpt[\"model_state_dict\"])\n",
    "model.to(device)"
   ]
  },
  {
   "cell_type": "code",
   "execution_count": 8,
   "id": "07f49e4f",
   "metadata": {},
   "outputs": [
    {
     "name": "stderr",
     "output_type": "stream",
     "text": [
      "/tmp/ipykernel_485356/887035817.py:15: UserWarning: To copy construct from a tensor, it is recommended to use sourceTensor.clone().detach() or sourceTensor.clone().detach().requires_grad_(True), rather than torch.tensor(sourceTensor).\n",
      "  distance = torch.tensor(scores_train)[labels_train == 0]\n"
     ]
    }
   ],
   "source": [
    "scores_train = []\n",
    "labels_train = []\n",
    "\n",
    "for data in dl:\n",
    "    lbl = data[-1].to(device)\n",
    "    inp = torch.flatten(data[0], start_dim=1)\n",
    "    inp = inp.to(device)\n",
    "    out = model(inp)\n",
    "    scores_train.extend(torch.mean(F.mse_loss(inp, out, reduction=\"none\"), dim=1).detach().cpu().numpy())\n",
    "    labels_train.extend(lbl.detach().cpu().numpy())\n",
    "    break\n",
    "\n",
    "labels_train = torch.tensor(labels_train)\n",
    "scores_train = torch.tensor(scores_train)\n",
    "distance = torch.tensor(scores_train)[labels_train == 0]\n",
    "q1 = torch.quantile(distance, 0.25)\n",
    "q3 = torch.quantile(distance, 0.75)\n",
    "iqr = q3 - q1\n",
    "threshold = (q3 + 1.5 * iqr).item()\n",
    "\n",
    "scores_eval = []\n",
    "labels_eval = []\n",
    "\n",
    "for data in eval_dl:\n",
    "    lbl = data[-1].to(device)\n",
    "    inp = torch.flatten(data[0], start_dim=1)\n",
    "    inp = inp.to(device)\n",
    "    out = model(inp)\n",
    "    scores_eval.extend(torch.mean(F.mse_loss(inp, out, reduction=\"none\"), dim=1).detach().cpu().numpy())\n",
    "    labels_eval.extend(lbl.detach().cpu().numpy())\n",
    "\n",
    "scores_eval = torch.tensor(scores_eval)\n",
    "labels_eval = torch.tensor(labels_eval)"
   ]
  },
  {
   "cell_type": "code",
   "execution_count": 16,
   "id": "abe8d7d9",
   "metadata": {},
   "outputs": [
    {
     "data": {
      "image/png": "[encoded data removed]",
      "text/plain": [
       "<Figure size 1000x400 with 1 Axes>"
      ]
     },
     "metadata": {},
     "output_type": "display_data"
    }
   ],
   "source": [
    "import json\n",
    "\n",
    "fig = plt.figure(figsize=(10, 4))\n",
    "# plt.hist(train_scores, bins=100, histtype='step', log=True)\n",
    "#plt.hist(scores_train[labels_train == 0], bins=200, histtype='step', log=True)\n",
    "#plt.hist(scores_train[labels_train == 1], bins=200, histtype='step', log=True)\n",
    "\n",
    "plt.hist(scores_eval[labels_eval == 0], bins=200, histtype='step', log=True)\n",
    "plt.hist(scores_eval[labels_eval == 1], bins=200, histtype='step', log=True)\n",
    "\n",
    "\n",
    "# Add the threshold as a vertical red dashed line\n",
    "plt.axvline(x=threshold, color='red', linestyle='--')\n",
    "plt.legend(['train_benign', 'train_malicious', 'eval_benign', 'eval_malicious'])\n",
    "plt.show()\n",
    "plt.close(fig)"
   ]
  },
  {
   "cell_type": "code",
   "execution_count": null,
   "id": "56d208be",
   "metadata": {},
   "outputs": [],
   "source": []
  }
 ],
 "metadata": {
  "kernelspec": {
   "display_name": "cids3.12",
   "language": "python",
   "name": "python3"
  },
  "language_info": {
   "codemirror_mode": {
    "name": "ipython",
    "version": 3
   },
   "file_extension": ".py",
   "mimetype": "text/x-python",
   "name": "python",
   "nbconvert_exporter": "python",
   "pygments_lexer": "ipython3",
   "version": "3.12.8"
  }
 },
 "nbformat": 4,
 "nbformat_minor": 5
}
