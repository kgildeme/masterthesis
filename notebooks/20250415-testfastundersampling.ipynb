{
 "cells": [
  {
   "cell_type": "code",
   "execution_count": 1,
   "id": "ff7349b2",
   "metadata": {},
   "outputs": [],
   "source": [
    "import os\n",
    "os.chdir(\"../\")"
   ]
  },
  {
   "cell_type": "code",
   "execution_count": 2,
   "id": "cb204edd",
   "metadata": {},
   "outputs": [],
   "source": [
    "from cids.data import OpTCDataset, Undersampling, OpTCDatasetUndersampling\n",
    "\n",
    "import torch\n",
    "from cids.util import optc_util as opil\n",
    "import random\n",
    "import pandas as pd"
   ]
  },
  {
   "cell_type": "code",
   "execution_count": 3,
   "id": "a9f2c104",
   "metadata": {},
   "outputs": [],
   "source": [
    "dsuf = OpTCDatasetUndersampling(\n",
    "    ds_name=\"cids-v5_201_train-ff--104-170-205-255-321-355-419-462\",\n",
    "    parts=4,\n",
    "    window_size=10,\n",
    "    shuffle=True,\n",
    "    stage=5,\n",
    "    target_ratio=0.5\n",
    ")"
   ]
  },
  {
   "cell_type": "code",
   "execution_count": 4,
   "id": "451e4900",
   "metadata": {},
   "outputs": [],
   "source": [
    "dsu = Undersampling(\n",
    "    dataset=OpTCDataset(\n",
    "        ds_name=\"cids-v5_201_train-ff--104-170-205-255-321-355-419-462--201\",\n",
    "        parts=4,\n",
    "        window_size=10,\n",
    "        shuffle=True,\n",
    "        eval_mode=True,\n",
    "        only_benign=False,\n",
    "        stage=5,\n",
    "        load_all=True\n",
    "    ),\n",
    "    target_dist={0:0.5, 1:0.5},\n",
    "    online=False\n",
    ")"
   ]
  },
  {
   "cell_type": "code",
   "execution_count": 5,
   "id": "61346144",
   "metadata": {},
   "outputs": [],
   "source": [
    "ds = OpTCDataset(\n",
    "    ds_name=\"cids-v5_201_train-ff--104-170-205-255-321-355-419-462--201\",\n",
    "    parts=4,\n",
    "    window_size=10,\n",
    "    shuffle=True,\n",
    "    eval_mode=True,\n",
    "    stage=5,)"
   ]
  },
  {
   "cell_type": "code",
   "execution_count": 4,
   "id": "adee6a9b",
   "metadata": {},
   "outputs": [],
   "source": [
    "\n",
    "dl = torch.utils.data.DataLoader(dsuf, batch_size=8)"
   ]
  },
  {
   "cell_type": "code",
   "execution_count": 10,
   "id": "57fe9ede",
   "metadata": {},
   "outputs": [
    {
     "ename": "KeyboardInterrupt",
     "evalue": "",
     "output_type": "error",
     "traceback": [
      "\u001b[0;31m---------------------------------------------------------------------------\u001b[0m",
      "\u001b[0;31mKeyboardInterrupt\u001b[0m                         Traceback (most recent call last)",
      "Cell \u001b[0;32mIn[10], line 16\u001b[0m\n\u001b[1;32m     14\u001b[0m \u001b[38;5;28;01mfor\u001b[39;00m batch \u001b[38;5;129;01min\u001b[39;00m dl:\n\u001b[1;32m     15\u001b[0m     events \u001b[38;5;241m+\u001b[39m\u001b[38;5;241m=\u001b[39m (batch[\u001b[38;5;241m1\u001b[39m] \u001b[38;5;241m==\u001b[39m \u001b[38;5;241m0\u001b[39m)\u001b[38;5;241m.\u001b[39msum()\n\u001b[0;32m---> 16\u001b[0m     unique_bening \u001b[38;5;241m+\u001b[39m\u001b[38;5;241m=\u001b[39m \u001b[43mnp\u001b[49m\u001b[38;5;241;43m.\u001b[39;49m\u001b[43munique\u001b[49m\u001b[43m(\u001b[49m\u001b[43mbatch\u001b[49m\u001b[43m[\u001b[49m\u001b[38;5;241;43m0\u001b[39;49m\u001b[43m]\u001b[49m\u001b[43m[\u001b[49m\u001b[43mbatch\u001b[49m\u001b[43m[\u001b[49m\u001b[38;5;241;43m1\u001b[39;49m\u001b[43m]\u001b[49m\u001b[43m \u001b[49m\u001b[38;5;241;43m==\u001b[39;49m\u001b[43m \u001b[49m\u001b[38;5;241;43m0\u001b[39;49m\u001b[43m]\u001b[49m\u001b[38;5;241;43m.\u001b[39;49m\u001b[43mnumpy\u001b[49m\u001b[43m(\u001b[49m\u001b[43m)\u001b[49m\u001b[43m,\u001b[49m\u001b[43m \u001b[49m\u001b[43maxis\u001b[49m\u001b[38;5;241;43m=\u001b[39;49m\u001b[38;5;241;43m0\u001b[39;49m\u001b[43m)\u001b[49m\u001b[38;5;241m.\u001b[39mshape[\u001b[38;5;241m0\u001b[39m]\n\u001b[1;32m     17\u001b[0m     \u001b[38;5;66;03m# Assuming the target is the last element in each batch\u001b[39;00m\n\u001b[1;32m     18\u001b[0m     batch_targets \u001b[38;5;241m=\u001b[39m batch[\u001b[38;5;241m-\u001b[39m\u001b[38;5;241m1\u001b[39m]\u001b[38;5;241m.\u001b[39mnumpy()\n",
      "File \u001b[0;32m/opt/gildemeister/miniconda3/envs/cids3.12/lib/python3.12/site-packages/numpy/lib/_arraysetops_impl.py:340\u001b[0m, in \u001b[0;36munique\u001b[0;34m(ar, return_index, return_inverse, return_counts, axis, equal_nan)\u001b[0m\n\u001b[1;32m    334\u001b[0m     \u001b[38;5;28;01mreturn\u001b[39;00m uniq\n\u001b[1;32m    336\u001b[0m output \u001b[38;5;241m=\u001b[39m _unique1d(consolidated, return_index,\n\u001b[1;32m    337\u001b[0m                    return_inverse, return_counts,\n\u001b[1;32m    338\u001b[0m                    equal_nan\u001b[38;5;241m=\u001b[39mequal_nan, inverse_shape\u001b[38;5;241m=\u001b[39minverse_shape,\n\u001b[1;32m    339\u001b[0m                    axis\u001b[38;5;241m=\u001b[39maxis)\n\u001b[0;32m--> 340\u001b[0m output \u001b[38;5;241m=\u001b[39m (\u001b[43mreshape_uniq\u001b[49m\u001b[43m(\u001b[49m\u001b[43moutput\u001b[49m\u001b[43m[\u001b[49m\u001b[38;5;241;43m0\u001b[39;49m\u001b[43m]\u001b[49m\u001b[43m)\u001b[49m,) \u001b[38;5;241m+\u001b[39m output[\u001b[38;5;241m1\u001b[39m:]\n\u001b[1;32m    341\u001b[0m \u001b[38;5;28;01mreturn\u001b[39;00m _unpack_tuple(output)\n",
      "File \u001b[0;32m/opt/gildemeister/miniconda3/envs/cids3.12/lib/python3.12/site-packages/numpy/lib/_arraysetops_impl.py:329\u001b[0m, in \u001b[0;36munique.<locals>.reshape_uniq\u001b[0;34m(uniq)\u001b[0m\n\u001b[1;32m    326\u001b[0m     msg \u001b[38;5;241m=\u001b[39m \u001b[38;5;124m'\u001b[39m\u001b[38;5;124mThe axis argument to unique is not supported for dtype \u001b[39m\u001b[38;5;132;01m{dt}\u001b[39;00m\u001b[38;5;124m'\u001b[39m\n\u001b[1;32m    327\u001b[0m     \u001b[38;5;28;01mraise\u001b[39;00m \u001b[38;5;167;01mTypeError\u001b[39;00m(msg\u001b[38;5;241m.\u001b[39mformat(dt\u001b[38;5;241m=\u001b[39mar\u001b[38;5;241m.\u001b[39mdtype)) \u001b[38;5;28;01mfrom\u001b[39;00m\u001b[38;5;250m \u001b[39m\u001b[38;5;21;01me\u001b[39;00m\n\u001b[0;32m--> 329\u001b[0m \u001b[38;5;28;01mdef\u001b[39;00m\u001b[38;5;250m \u001b[39m\u001b[38;5;21mreshape_uniq\u001b[39m(uniq):\n\u001b[1;32m    330\u001b[0m     n \u001b[38;5;241m=\u001b[39m \u001b[38;5;28mlen\u001b[39m(uniq)\n\u001b[1;32m    331\u001b[0m     uniq \u001b[38;5;241m=\u001b[39m uniq\u001b[38;5;241m.\u001b[39mview(orig_dtype)\n",
      "\u001b[0;31mKeyboardInterrupt\u001b[0m: "
     ]
    }
   ],
   "source": [
    "import numpy as np\n",
    "import time\n",
    "\n",
    "iterations = 5  # number of times to iterate through dataset\n",
    "total_ratios = []\n",
    "durations = []\n",
    "unique_bening = 0\n",
    "events = 0\n",
    "\n",
    "for i in range(iterations):\n",
    "    targets = []\n",
    "\n",
    "    now = time.time()\n",
    "    for batch in dl:\n",
    "        events += (batch[1] == 0).sum()\n",
    "        unique_bening += np.unique(batch[0][batch[1] == 0].numpy(), axis=0).shape[0]\n",
    "        # Assuming the target is the last element in each batch\n",
    "        batch_targets = batch[-1].numpy()\n",
    "        targets.extend(batch_targets)\n",
    "    durations.append(time.time() - now)\n",
    "    \n",
    "    # Calculate ratio of positive samples\n",
    "    ratio = np.mean(targets)\n",
    "    total_ratios.append(ratio)\n",
    "    print(f\"Iteration {i+1}: Positive sample ratio = {ratio:.3f}\")\n",
    "\n",
    "# Print overall statistics\n",
    "mean_ratio = np.mean(total_ratios)\n",
    "std_ratio = np.std(total_ratios)\n",
    "print(f\"\\nAverage Time: {np.mean(durations):.3f}\")\n",
    "print(f\"Average ratio across iterations: {mean_ratio:.3f} ± {std_ratio:.3f}\")"
   ]
  },
  {
   "cell_type": "code",
   "execution_count": 17,
   "id": "9abbdbbf",
   "metadata": {},
   "outputs": [
    {
     "name": "stdout",
     "output_type": "stream",
     "text": [
      "Number of malicious samples: 60713\n"
     ]
    }
   ],
   "source": [
    "import time\n",
    "mal_samples = ds.malicious_samples\n",
    "print(f\"Number of malicious samples: {len(mal_samples)}\")\n",
    "for mal_sample in mal_samples:\n",
    "    mal_sample = mal_sample[0] ** 2\n"
   ]
  },
  {
   "cell_type": "code",
   "execution_count": 5,
   "id": "98e2eb2c",
   "metadata": {},
   "outputs": [],
   "source": [
    "count = 0\n",
    "count_full = 0\n",
    "for data in dl:\n",
    "    count_full += len(data[1])\n",
    "    count += sum(data[1])"
   ]
  },
  {
   "cell_type": "code",
   "execution_count": 6,
   "id": "fa44453e",
   "metadata": {},
   "outputs": [
    {
     "name": "stdout",
     "output_type": "stream",
     "text": [
      "68900 tensor(34450.)\n"
     ]
    }
   ],
   "source": [
    "print(count_full, count)"
   ]
  },
  {
   "cell_type": "code",
   "execution_count": 7,
   "id": "76598b1a",
   "metadata": {},
   "outputs": [],
   "source": [
    "scores, labels = [], []\n",
    "\n",
    "for inp, lbl in dl:\n",
    "    labels.extend(lbl)\n",
    "    "
   ]
  },
  {
   "cell_type": "code",
   "execution_count": 8,
   "id": "4d071a81",
   "metadata": {},
   "outputs": [
    {
     "name": "stdout",
     "output_type": "stream",
     "text": [
      "68900\n"
     ]
    }
   ],
   "source": [
    "print(len(labels))"
   ]
  },
  {
   "cell_type": "code",
   "execution_count": null,
   "id": "82b98674",
   "metadata": {},
   "outputs": [],
   "source": []
  }
 ],
 "metadata": {
  "kernelspec": {
   "display_name": "cids3.12",
   "language": "python",
   "name": "python3"
  },
  "language_info": {
   "codemirror_mode": {
    "name": "ipython",
    "version": 3
   },
   "file_extension": ".py",
   "mimetype": "text/x-python",
   "name": "python",
   "nbconvert_exporter": "python",
   "pygments_lexer": "ipython3",
   "version": "3.12.8"
  }
 },
 "nbformat": 4,
 "nbformat_minor": 5
}
