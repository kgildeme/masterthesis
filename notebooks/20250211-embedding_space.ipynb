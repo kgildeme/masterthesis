{
 "cells": [
  {
   "cell_type": "code",
   "execution_count": 1,
   "metadata": {},
   "outputs": [],
   "source": [
    "import os\n",
    "os.chdir(\"../\")"
   ]
  },
  {
   "cell_type": "code",
   "execution_count": 6,
   "metadata": {},
   "outputs": [],
   "source": [
    "import torch\n",
    "import torch.nn as nn\n",
    "from sklearn.decomposition import PCA\n",
    "\n",
    "from cids.models.nn import MLP, Autoencoder\n",
    "from cids.util import misc_funcs as misc"
   ]
  },
  {
   "cell_type": "code",
   "execution_count": 8,
   "metadata": {},
   "outputs": [],
   "source": [
    "input_dim = 102\n",
    "window = 10\n",
    "latent_dim = 15\n",
    "hidden_dims = [128]\n",
    "\n",
    "device = \"cuda:2\"\n",
    "ds_name = \"hids-v5_201_eval\"\n",
    "model_path = os.path.join(misc.root(), \"models/autoencoder/mlp/hids/20250203-085007/ckpt.pt\")"
   ]
  },
  {
   "cell_type": "code",
   "execution_count": 9,
   "metadata": {},
   "outputs": [
    {
     "data": {
      "text/plain": [
       "Autoencoder(\n",
       "  (encoder): MLP(\n",
       "    (input_layer): Linear(in_features=1020, out_features=128, bias=True)\n",
       "    (hidden_layers): ModuleList()\n",
       "    (output_layer): Linear(in_features=128, out_features=15, bias=True)\n",
       "    (dropout): Identity()\n",
       "  )\n",
       "  (decoder): Sequential(\n",
       "    (0): MLP(\n",
       "      (input_layer): Linear(in_features=15, out_features=128, bias=True)\n",
       "      (hidden_layers): ModuleList()\n",
       "      (output_layer): Linear(in_features=128, out_features=1020, bias=True)\n",
       "      (dropout): Identity()\n",
       "    )\n",
       "    (1): Sigmoid()\n",
       "  )\n",
       ")"
      ]
     },
     "execution_count": 9,
     "metadata": {},
     "output_type": "execute_result"
    }
   ],
   "source": [
    "model_config = {\n",
    "    \"input_dim\": input_dim * window,\n",
    "    \"output_dim\":latent_dim,\n",
    "    \"hidden_dims\": [128] if \"hids\" in ds_name else [255],\n",
    "}\n",
    "encoder = MLP(**model_config)\n",
    "model_config[\"input_dim\"], model_config[\"output_dim\"] = model_config[\"output_dim\"], model_config[\"input_dim\"]\n",
    "decoder = MLP(**model_config)\n",
    "decoder = nn.Sequential(decoder, nn.Sigmoid())\n",
    "\n",
    "model = Autoencoder(encoder=encoder, decoder=decoder)\n",
    "\n",
    "ckpt = torch.load(model_path, weights_only=True)\n",
    "model.load_state_dict(ckpt[\"model_state_dict\"])\n",
    "model.to(device=device)\n",
    "model.eval()"
   ]
  },
  {
   "cell_type": "code",
   "execution_count": null,
   "metadata": {},
   "outputs": [],
   "source": []
  }
 ],
 "metadata": {
  "kernelspec": {
   "display_name": "cids3.12",
   "language": "python",
   "name": "python3"
  },
  "language_info": {
   "codemirror_mode": {
    "name": "ipython",
    "version": 3
   },
   "file_extension": ".py",
   "mimetype": "text/x-python",
   "name": "python",
   "nbconvert_exporter": "python",
   "pygments_lexer": "ipython3",
   "version": "3.12.8"
  }
 },
 "nbformat": 4,
 "nbformat_minor": 2
}
