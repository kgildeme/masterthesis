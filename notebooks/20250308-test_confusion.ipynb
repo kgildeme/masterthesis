{
 "cells": [
  {
   "cell_type": "code",
   "execution_count": 1,
   "metadata": {},
   "outputs": [],
   "source": [
    "import os\n",
    "os.chdir(\"../\")"
   ]
  },
  {
   "cell_type": "code",
   "execution_count": 12,
   "metadata": {},
   "outputs": [],
   "source": [
    "import torch\n",
    "\n",
    "from cids.data import SCVIC_CIDS_CLASSES, get_SCVIC_Dataset"
   ]
  },
  {
   "cell_type": "code",
   "execution_count": 7,
   "metadata": {},
   "outputs": [
    {
     "name": "stdout",
     "output_type": "stream",
     "text": [
      "tensor([1, 0, 1, 1, 1, 1, 1, 1, 1, 1, 1, 1, 1, 1, 1])\n"
     ]
    }
   ],
   "source": [
    "exclude = ['Bot']\n",
    "left_out_mask = torch.tensor([1 if c not in exclude else 0 for c in SCVIC_CIDS_CLASSES])\n",
    "print(left_out_mask)\n",
    "num_classes = len(SCVIC_CIDS_CLASSES)"
   ]
  },
  {
   "cell_type": "code",
   "execution_count": 9,
   "metadata": {},
   "outputs": [
    {
     "name": "stdout",
     "output_type": "stream",
     "text": [
      "tensor([[0.8061, 0.4008, 0.5442, 0.2444, 0.7145, 0.2898, 0.2061, 0.4516, 0.4488,\n",
      "         0.0058, 0.1645, 0.5269, 0.0814, 0.5726],\n",
      "        [0.1127, 0.2046, 0.3274, 0.2060, 0.1444, 0.5469, 0.6665, 0.4709, 0.9080,\n",
      "         0.5601, 0.5333, 0.5307, 0.5767, 0.8043],\n",
      "        [0.3118, 0.4285, 0.3875, 0.4704, 0.7639, 0.4356, 0.8566, 0.2575, 0.0425,\n",
      "         0.6688, 0.4324, 0.8651, 0.6184, 0.6814],\n",
      "        [0.0467, 0.2097, 0.3256, 0.5263, 0.4843, 0.1174, 0.1699, 0.9784, 0.0365,\n",
      "         0.4740, 0.7844, 0.5021, 0.1355, 0.3153],\n",
      "        [0.1181, 0.5554, 0.1426, 0.6306, 0.4498, 0.4045, 0.8418, 0.7964, 0.3181,\n",
      "         0.9274, 0.1979, 0.6496, 0.4866, 0.6884],\n",
      "        [0.1416, 0.0608, 0.7155, 0.3770, 0.3626, 0.8497, 0.2114, 0.8459, 0.0305,\n",
      "         0.9663, 0.4629, 0.8219, 0.7521, 0.3530],\n",
      "        [0.2169, 0.2547, 0.0298, 0.5485, 0.8309, 0.4312, 0.3704, 0.7286, 0.4997,\n",
      "         0.8566, 0.7158, 0.7155, 0.0385, 0.9195],\n",
      "        [0.3077, 0.0360, 0.2722, 0.1026, 0.0215, 0.8684, 0.2425, 0.1236, 0.3389,\n",
      "         0.5567, 0.6185, 0.4804, 0.3605, 0.6937]])\n",
      "torch.Size([8, 14])\n"
     ]
    }
   ],
   "source": [
    "confusion_matrix = torch.zeros(num_classes, num_classes)\n",
    "logits = torch.rand(8, num_classes - 1)\n",
    "labels = torch.randint(0, num_classes, (8,))\n",
    "print(logits)\n",
    "print(logits.shape)"
   ]
  },
  {
   "cell_type": "code",
   "execution_count": 10,
   "metadata": {},
   "outputs": [
    {
     "name": "stdout",
     "output_type": "stream",
     "text": [
      "tensor([[0.8061,   -inf, 0.4008, 0.5442, 0.2444, 0.7145, 0.2898, 0.2061, 0.4516,\n",
      "         0.4488, 0.0058, 0.1645, 0.5269, 0.0814, 0.5726],\n",
      "        [0.1127,   -inf, 0.2046, 0.3274, 0.2060, 0.1444, 0.5469, 0.6665, 0.4709,\n",
      "         0.9080, 0.5601, 0.5333, 0.5307, 0.5767, 0.8043],\n",
      "        [0.3118,   -inf, 0.4285, 0.3875, 0.4704, 0.7639, 0.4356, 0.8566, 0.2575,\n",
      "         0.0425, 0.6688, 0.4324, 0.8651, 0.6184, 0.6814],\n",
      "        [0.0467,   -inf, 0.2097, 0.3256, 0.5263, 0.4843, 0.1174, 0.1699, 0.9784,\n",
      "         0.0365, 0.4740, 0.7844, 0.5021, 0.1355, 0.3153],\n",
      "        [0.1181,   -inf, 0.5554, 0.1426, 0.6306, 0.4498, 0.4045, 0.8418, 0.7964,\n",
      "         0.3181, 0.9274, 0.1979, 0.6496, 0.4866, 0.6884],\n",
      "        [0.1416,   -inf, 0.0608, 0.7155, 0.3770, 0.3626, 0.8497, 0.2114, 0.8459,\n",
      "         0.0305, 0.9663, 0.4629, 0.8219, 0.7521, 0.3530],\n",
      "        [0.2169,   -inf, 0.2547, 0.0298, 0.5485, 0.8309, 0.4312, 0.3704, 0.7286,\n",
      "         0.4997, 0.8566, 0.7158, 0.7155, 0.0385, 0.9195],\n",
      "        [0.3077,   -inf, 0.0360, 0.2722, 0.1026, 0.0215, 0.8684, 0.2425, 0.1236,\n",
      "         0.3389, 0.5567, 0.6185, 0.4804, 0.3605, 0.6937]])\n",
      "torch.Size([8, 15])\n"
     ]
    }
   ],
   "source": [
    "expanded_logits = torch.full((logits.shape[0], len(left_out_mask)), float('-inf'))# Fill missing classes with -inf\n",
    "present_classes = torch.nonzero(left_out_mask, as_tuple=True)[0]\n",
    "expanded_logits[:, present_classes] = logits\n",
    "print(expanded_logits)\n",
    "print(expanded_logits.shape)\n",
    "pred = torch.argmax(expanded_logits, dim=-1)"
   ]
  },
  {
   "cell_type": "code",
   "execution_count": null,
   "metadata": {},
   "outputs": [
    {
     "name": "stderr",
     "output_type": "stream",
     "text": [
      "Exception ignored in: <bound method IPythonKernel._clean_thread_parent_frames of <ipykernel.ipkernel.IPythonKernel object at 0x71fa17f944d0>>\n",
      "Traceback (most recent call last):\n",
      "  File \"/opt/gildemeister/miniconda3/envs/cids3.12/lib/python3.12/site-packages/ipykernel/ipkernel.py\", line 775, in _clean_thread_parent_frames\n",
      "    def _clean_thread_parent_frames(\n",
      "\n",
      "KeyboardInterrupt: \n"
     ]
    }
   ],
   "source": [
    "dss = get_SCVIC_Dataset(exclude=None, train=True, validation=True, test=True, random_state=42, network_data=True,\n",
    "                        host_data=False, host_embeddings=False)"
   ]
  },
  {
   "cell_type": "code",
   "execution_count": null,
   "metadata": {},
   "outputs": [],
   "source": []
  }
 ],
 "metadata": {
  "kernelspec": {
   "display_name": "cids3.12",
   "language": "python",
   "name": "python3"
  },
  "language_info": {
   "codemirror_mode": {
    "name": "ipython",
    "version": 3
   },
   "file_extension": ".py",
   "mimetype": "text/x-python",
   "name": "python",
   "nbconvert_exporter": "python",
   "pygments_lexer": "ipython3",
   "version": "3.12.8"
  }
 },
 "nbformat": 4,
 "nbformat_minor": 2
}
