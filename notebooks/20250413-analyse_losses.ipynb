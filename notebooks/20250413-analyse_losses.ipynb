{
 "cells": [
  {
   "cell_type": "code",
   "execution_count": 1,
   "id": "7ee3d44b",
   "metadata": {},
   "outputs": [],
   "source": [
    "import os \n",
    "os.chdir(\"../\")"
   ]
  },
  {
   "cell_type": "code",
   "execution_count": 2,
   "id": "c0136f1f",
   "metadata": {},
   "outputs": [],
   "source": [
    "import torch\n",
    "from torch.nn import functional as F\n",
    "\n",
    "from cids.util.metrics import inverse_mse, reciprocal_mse"
   ]
  },
  {
   "cell_type": "code",
   "execution_count": 20,
   "id": "c9cf5920",
   "metadata": {},
   "outputs": [],
   "source": [
    "x = torch.rand(8, 1690)\n",
    "x_hat = x + 0.1 * torch.randn(8, 1690)\n",
    "x_hat = x_hat.clamp(0, 1)\n",
    "y = (torch.rand(8) > 0.7).int()"
   ]
  },
  {
   "cell_type": "code",
   "execution_count": 21,
   "id": "83a6183e",
   "metadata": {},
   "outputs": [
    {
     "name": "stdout",
     "output_type": "stream",
     "text": [
      "tensor([0, 0, 0, 0, 1, 1, 1, 0], dtype=torch.int32)\n",
      "tensor([0.0087, 0.0089, 0.0086, 0.0095, 0.0090, 0.0090, 0.0082, 0.0092])\n",
      "tensor(0.0089)\n",
      "tensor(0.0023)\n",
      "tensor(43.0427)\n"
     ]
    }
   ],
   "source": [
    "loss = inverse_mse(x_hat, x, y)\n",
    "mse = F.mse_loss(x, x_hat, reduction=\"none\")\n",
    "print(y)\n",
    "print(mse.mean(1))\n",
    "print(mse.mean())\n",
    "print(loss)\n",
    "print(reciprocal_mse(x_hat, x, y))"
   ]
  },
  {
   "cell_type": "code",
   "execution_count": null,
   "id": "00fea5c6",
   "metadata": {},
   "outputs": [],
   "source": []
  }
 ],
 "metadata": {
  "kernelspec": {
   "display_name": "cids3.12",
   "language": "python",
   "name": "python3"
  },
  "language_info": {
   "codemirror_mode": {
    "name": "ipython",
    "version": 3
   },
   "file_extension": ".py",
   "mimetype": "text/x-python",
   "name": "python",
   "nbconvert_exporter": "python",
   "pygments_lexer": "ipython3",
   "version": "3.12.8"
  }
 },
 "nbformat": 4,
 "nbformat_minor": 5
}
