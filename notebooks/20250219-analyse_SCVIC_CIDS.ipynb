{
 "cells": [
  {
   "cell_type": "code",
   "execution_count": 1,
   "metadata": {},
   "outputs": [],
   "source": [
    "import os\n",
    "os.chdir(\"/opt/gildemeister/gildemeister-implementation\")\n"
   ]
  },
  {
   "cell_type": "code",
   "execution_count": 2,
   "metadata": {},
   "outputs": [],
   "source": [
    "import pickle\n",
    "\n",
    "import numpy as np\n",
    "import torch\n",
    "\n",
    "from cids.util import misc_funcs as misc\n",
    "from cids.data import SCVICCIDSDataset, SCVIC_CIDS_CLASSES_INV\n",
    "\n",
    "import matplotlib.pyplot as plt\n",
    "from cids.data import get_SCVIC_dataloader, get_SCVIC_dataloader_binary"
   ]
  },
  {
   "cell_type": "code",
   "execution_count": 3,
   "metadata": {},
   "outputs": [
    {
     "name": "stdout",
     "output_type": "stream",
     "text": [
      "/work/gildemeister/SCVIC-CIDS-2021\n"
     ]
    }
   ],
   "source": [
    "root_path = misc.data_raw(scvic=True)\n",
    "print(root_path)\n"
   ]
  },
  {
   "cell_type": "markdown",
   "metadata": {},
   "source": [
    "# Basic Raw Data inspection"
   ]
  },
  {
   "cell_type": "code",
   "execution_count": 7,
   "metadata": {},
   "outputs": [],
   "source": [
    "with open(os.path.join(root_path, \"CidsSampleAttack_Tensor_28.pkl\"), \"rb\") as f:\n",
    "    attack = pickle.load(f)\n",
    "with open(os.path.join(root_path, \"CidsSampleNormal_Tensor_28.pkl\"), \"rb\") as f:\n",
    "    normal = pickle.load(f)\n"
   ]
  },
  {
   "cell_type": "code",
   "execution_count": 22,
   "metadata": {},
   "outputs": [
    {
     "name": "stdout",
     "output_type": "stream",
     "text": [
      "torch.Size([2, 132])\n",
      "torch.Size([2, 8])\n"
     ]
    }
   ],
   "source": [
    "data = attack + normal\n",
    "\n",
    "network_minmax = torch.tensor([[float('inf')] * data[0][0].shape[0], [-float('inf')] * data[0][0].shape[0]])\n",
    "host_minmax = torch.tensor([[float('inf')] * data[0][1].shape[1], [-float('inf')] * data[0][1].shape[1]])\n",
    "print(network_minmax.shape)\n",
    "print(host_minmax.shape)\n",
    "\n",
    "for point in data:\n",
    "    network_minmax[0] = torch.minimum(network_minmax[0], point[0])\n",
    "    network_minmax[1] = torch.maximum(network_minmax[1], point[0])\n",
    "    host_minmax[0] = torch.minimum(host_minmax[0], torch.min(point[1], dim=0).values)\n",
    "    host_minmax[1] = torch.maximum(host_minmax[1], torch.max(point[1], dim=0).values)"
   ]
  },
  {
   "cell_type": "code",
   "execution_count": 32,
   "metadata": {},
   "outputs": [
    {
     "name": "stdout",
     "output_type": "stream",
     "text": [
      "False\n"
     ]
    }
   ],
   "source": [
    "print(network_minmax.requires_grad)"
   ]
  },
  {
   "cell_type": "code",
   "execution_count": 33,
   "metadata": {},
   "outputs": [
    {
     "name": "stdout",
     "output_type": "stream",
     "text": [
      "tensor([[ 0.0000e+00,  0.0000e+00,  0.0000e+00,  0.0000e+00,  0.0000e+00,\n",
      "          0.0000e+00, -9.2234e+18,  0.0000e+00],\n",
      "        [ 5.1047e+04,  1.0000e+00,  4.9152e+04,  4.0000e+00,  7.0050e+03,\n",
      "          6.9000e+01,  4.6117e+18,  7.7000e+01]])\n",
      "False\n"
     ]
    }
   ],
   "source": [
    "point = data[0]\n",
    "print(host_minmax)\n",
    "print(((point[1] - host_minmax[0]) / (host_minmax[1] - host_minmax[0])).requires_grad)"
   ]
  },
  {
   "cell_type": "code",
   "execution_count": 25,
   "metadata": {},
   "outputs": [
    {
     "name": "stdout",
     "output_type": "stream",
     "text": [
      "tensor([[0.0000e+00, 0.0000e+00, 0.0000e+00, 0.0000e+00, 0.0000e+00, 0.0000e+00,\n",
      "         0.0000e+00, 0.0000e+00, 0.0000e+00, 0.0000e+00, 0.0000e+00, 0.0000e+00,\n",
      "         4.2000e+01, 4.2000e+01, 4.2000e+01, 4.2000e+01, 4.2000e+01, 0.0000e+00,\n",
      "         0.0000e+00, 0.0000e+00, 0.0000e+00, 0.0000e+00, 0.0000e+00, 1.0000e+00,\n",
      "         0.0000e+00, 0.0000e+00, 0.0000e+00, 0.0000e+00, 0.0000e+00, 0.0000e+00,\n",
      "         4.2000e+01, 0.0000e+00, 0.0000e+00, 0.0000e+00, 0.0000e+00, 0.0000e+00,\n",
      "         0.0000e+00, 0.0000e+00, 0.0000e+00, 0.0000e+00, 0.0000e+00, 0.0000e+00,\n",
      "         0.0000e+00, 0.0000e+00, 0.0000e+00, 0.0000e+00, 0.0000e+00, 0.0000e+00,\n",
      "         0.0000e+00, 0.0000e+00, 0.0000e+00, 0.0000e+00, 0.0000e+00, 0.0000e+00,\n",
      "         0.0000e+00, 0.0000e+00, 0.0000e+00, 0.0000e+00, 0.0000e+00, 0.0000e+00,\n",
      "         0.0000e+00, 0.0000e+00, 0.0000e+00, 0.0000e+00, 0.0000e+00, 0.0000e+00,\n",
      "         0.0000e+00, 0.0000e+00, 0.0000e+00, 0.0000e+00, 0.0000e+00, 0.0000e+00,\n",
      "         0.0000e+00, 0.0000e+00, 0.0000e+00, 0.0000e+00, 0.0000e+00, 0.0000e+00,\n",
      "         0.0000e+00, 0.0000e+00, 0.0000e+00, 0.0000e+00, 0.0000e+00, 0.0000e+00,\n",
      "         0.0000e+00, 0.0000e+00, 0.0000e+00, 0.0000e+00, 0.0000e+00, 0.0000e+00,\n",
      "         0.0000e+00, 0.0000e+00, 0.0000e+00, 0.0000e+00, 0.0000e+00, 0.0000e+00,\n",
      "         0.0000e+00, 0.0000e+00, 0.0000e+00, 0.0000e+00, 0.0000e+00, 0.0000e+00,\n",
      "         0.0000e+00, 0.0000e+00, 0.0000e+00, 0.0000e+00, 0.0000e+00, 0.0000e+00,\n",
      "         0.0000e+00, 0.0000e+00, 0.0000e+00, 0.0000e+00, 0.0000e+00, 0.0000e+00,\n",
      "         0.0000e+00, 0.0000e+00, 0.0000e+00, 0.0000e+00, 0.0000e+00, 0.0000e+00,\n",
      "         0.0000e+00, 0.0000e+00, 0.0000e+00, 0.0000e+00, 0.0000e+00, 0.0000e+00,\n",
      "         0.0000e+00, 0.0000e+00, 0.0000e+00, 0.0000e+00, 0.0000e+00, 0.0000e+00],\n",
      "        [1.2940e+03, 6.5023e+04, 2.2913e+07, 3.2174e+04, 3.1413e+04, 2.5412e+04,\n",
      "         1.5140e+03, 5.8580e+03, 1.6278e+08, 1.8860e+03, 1.8652e+03, 1.3237e+03,\n",
      "         1.5140e+03, 6.5023e+04, 1.6356e+08, 1.5140e+03, 1.6494e+04, 2.3620e+04,\n",
      "         3.0963e+05, 2.0972e+06, 1.2213e+05, 5.2429e+06, 1.1000e+01, 3.0963e+05,\n",
      "         2.0972e+06, 2.2913e+07, 1.7511e+08, 1.6278e+08, 7.7385e+08, 5.9176e+02,\n",
      "         1.6356e+08, 1.8350e+08, 1.3297e+04, 2.0972e+06, 1.2213e+05, 3.1457e+06,\n",
      "         1.1000e+01, 1.3472e+05, 2.0972e+06, 6.0000e+00, 2.9310e+03, 7.0000e+00,\n",
      "         2.9111e+02, 4.0000e+00, 8.0000e+00, 1.7120e+03, 2.0000e+00, 2.9310e+03,\n",
      "         4.0000e+00, 3.1254e+03, 1.0000e+00, 6.0000e+00, 3.4239e+03, 2.8000e+01,\n",
      "         1.0486e+06, 3.1000e+01, 1.0486e+06, 7.0000e+00, 5.8000e+01, 9.9864e+04,\n",
      "         0.0000e+00, 0.0000e+00, 0.0000e+00, 0.0000e+00, 0.0000e+00, 0.0000e+00,\n",
      "         0.0000e+00, 1.4170e+03, 1.2577e+04, 1.7206e+04, 2.0972e+06, 3.0750e+01,\n",
      "         1.7343e+04, 1.0486e+06, 0.0000e+00, 0.0000e+00, 0.0000e+00, 0.0000e+00,\n",
      "         0.0000e+00, 0.0000e+00, 0.0000e+00, 5.0000e+00, 4.8045e+03, 8.0000e+00,\n",
      "         2.0972e+06, 5.0000e+00, 8.0000e+00, 2.0972e+06, 1.9500e+02, 4.9932e+04,\n",
      "         2.8000e+01, 3.1254e+03, 5.0000e+00, 1.9500e+02, 1.0486e+06, 8.0000e+00,\n",
      "         7.4351e+00, 0.0000e+00, 0.0000e+00, 0.0000e+00, 8.0000e+00, 7.4351e+00,\n",
      "         1.1994e+02, 1.1994e+02, 1.2000e+02, 1.1994e+02, 1.1994e+02, 8.4751e+01,\n",
      "         1.1997e+02, 1.1997e+02, 1.2000e+02, 1.1997e+02, 1.1997e+02, 8.4832e+01,\n",
      "         1.1994e+02, 1.1994e+02, 1.2000e+02, 1.1994e+02, 1.1994e+02, 8.4792e+01,\n",
      "         1.2000e+02, 1.2000e+02, 1.2000e+02, 1.2000e+02, 1.2000e+02, 8.0593e+01,\n",
      "         1.1994e+02, 1.1994e+02, 1.1994e+02, 1.1994e+02, 1.1994e+02, 7.3860e+01]])\n",
      "tensor([[ 0.0000e+00,  0.0000e+00,  0.0000e+00,  0.0000e+00,  0.0000e+00,\n",
      "          0.0000e+00, -9.2234e+18,  0.0000e+00],\n",
      "        [ 5.1047e+04,  1.0000e+00,  4.9152e+04,  4.0000e+00,  7.0050e+03,\n",
      "          6.9000e+01,  4.6117e+18,  7.7000e+01]])\n"
     ]
    }
   ],
   "source": [
    "print(network_minmax)\n",
    "print(host_minmax)\n",
    "\n",
    "torch.save(\n",
    "    {\n",
    "        \"network_minmax\": network_minmax,\n",
    "        \"host_minmax\": host_minmax\n",
    "    }, os.path.join(root_path, \"minmax.pt\")\n",
    ")"
   ]
  },
  {
   "cell_type": "code",
   "execution_count": 34,
   "metadata": {},
   "outputs": [
    {
     "name": "stdout",
     "output_type": "stream",
     "text": [
      "False\n"
     ]
    },
    {
     "name": "stderr",
     "output_type": "stream",
     "text": [
      "/tmp/ipykernel_3418799/2462544164.py:1: FutureWarning: You are using `torch.load` with `weights_only=False` (the current default value), which uses the default pickle module implicitly. It is possible to construct malicious pickle data which will execute arbitrary code during unpickling (See https://github.com/pytorch/pytorch/blob/main/SECURITY.md#untrusted-models for more details). In a future release, the default value for `weights_only` will be flipped to `True`. This limits the functions that could be executed during unpickling. Arbitrary objects will no longer be allowed to be loaded via this mode unless they are explicitly allowlisted by the user via `torch.serialization.add_safe_globals`. We recommend you start setting `weights_only=True` for any use case where you don't have full control of the loaded file. Please open an issue on GitHub for any issues related to this experimental feature.\n",
      "  test = torch.load(os.path.join(root_path, \"minmax.pt\"))\n"
     ]
    }
   ],
   "source": [
    "test = torch.load(os.path.join(root_path, \"minmax.pt\"))\n",
    "print(test[\"network_minmax\"].requires_grad)"
   ]
  },
  {
   "cell_type": "code",
   "execution_count": 12,
   "metadata": {},
   "outputs": [
    {
     "name": "stdout",
     "output_type": "stream",
     "text": [
      "<class 'list'>\n",
      "460547\n",
      "<class 'tuple'>\n",
      "4\n",
      "Analyse field 0\n",
      "\t<class 'torch.Tensor'>\n",
      "\ttorch.Size([132])\n",
      "\t<class 'torch.Tensor'>\n",
      "\ttorch.Size([28, 8])\n",
      "\t<class 'str'>\n",
      "\tThe Amazon SSM Agent service terminated unexpectedly.  It has done this 208 time(s).  The following corrective action will be taken in 30000 milliseconds: Restart the service. The Amazon SSM Agent service terminated with the following service-specific error: \n",
      "Incorrect function. The Amazon SSM Agent service entered the stopped state.\n",
      "\t<class 'str'>\n",
      "\tBenign\n",
      "Analyse field 10000\n",
      "\t<class 'torch.Tensor'>\n",
      "\ttorch.Size([132])\n",
      "\t<class 'torch.Tensor'>\n",
      "\ttorch.Size([28, 8])\n",
      "\t<class 'str'>\n",
      "\tThe Amazon SSM Agent service terminated unexpectedly.  It has done this 29 time(s).  The following corrective action will be taken in 30000 milliseconds: Restart the service. The Amazon SSM Agent service terminated with the following service-specific error: \n",
      "Incorrect function. The Amazon SSM Agent service entered the stopped state.\n",
      "\t<class 'str'>\n",
      "\tBenign\n",
      "Analyse field 20000\n",
      "\t<class 'torch.Tensor'>\n",
      "\ttorch.Size([132])\n",
      "\t<class 'torch.Tensor'>\n",
      "\ttorch.Size([28, 8])\n",
      "\t<class 'str'>\n",
      "\tThe Amazon SSM Agent service terminated unexpectedly.  It has done this 23 time(s).  The following corrective action will be taken in 30000 milliseconds: Restart the service. The Amazon SSM Agent service terminated with the following service-specific error: \n",
      "Incorrect function. The Amazon SSM Agent service entered the stopped state.\n",
      "\t<class 'str'>\n",
      "\tBenign\n",
      "Analyse field 30000\n",
      "\t<class 'torch.Tensor'>\n",
      "\ttorch.Size([132])\n",
      "\t<class 'torch.Tensor'>\n",
      "\ttorch.Size([28, 8])\n",
      "\t<class 'str'>\n",
      "\tThe AppX Deployment Service (AppXSVC) service entered the stopped state.\n",
      "\t<class 'str'>\n",
      "\tBenign\n",
      "Analyse field 40000\n",
      "\t<class 'torch.Tensor'>\n",
      "\ttorch.Size([132])\n",
      "\t<class 'torch.Tensor'>\n",
      "\ttorch.Size([28, 8])\n",
      "\t<class 'str'>\n",
      "\tThe Amazon SSM Agent service terminated unexpectedly.  It has done this 124 time(s).  The following corrective action will be taken in 30000 milliseconds: Restart the service. The Amazon SSM Agent service terminated with the following service-specific error: \n",
      "Incorrect function. The Amazon SSM Agent service entered the stopped state.\n",
      "\t<class 'str'>\n",
      "\tBenign\n",
      "Analyse field 50000\n",
      "\t<class 'torch.Tensor'>\n",
      "\ttorch.Size([132])\n",
      "\t<class 'torch.Tensor'>\n",
      "\ttorch.Size([28, 8])\n",
      "\t<class 'str'>\n",
      "\tThe Amazon SSM Agent service terminated unexpectedly.  It has done this 152 time(s).  The following corrective action will be taken in 30000 milliseconds: Restart the service. The Amazon SSM Agent service terminated with the following service-specific error: \n",
      "Incorrect function. The Amazon SSM Agent service entered the stopped state.\n",
      "\t<class 'str'>\n",
      "\tBenign\n",
      "Analyse field 60000\n",
      "\t<class 'torch.Tensor'>\n",
      "\ttorch.Size([132])\n",
      "\t<class 'torch.Tensor'>\n",
      "\ttorch.Size([28, 8])\n",
      "\t<class 'str'>\n",
      "\tThe Amazon SSM Agent service terminated unexpectedly.  It has done this 230 time(s).  The following corrective action will be taken in 30000 milliseconds: Restart the service. The Amazon SSM Agent service terminated with the following service-specific error: \n",
      "Incorrect function. The Amazon SSM Agent service entered the stopped state.\n",
      "\t<class 'str'>\n",
      "\tBenign\n",
      "Analyse field 70000\n",
      "\t<class 'torch.Tensor'>\n",
      "\ttorch.Size([132])\n",
      "\t<class 'torch.Tensor'>\n",
      "\ttorch.Size([28, 8])\n",
      "\t<class 'str'>\n",
      "\tThe Amazon SSM Agent service terminated unexpectedly.  It has done this 201 time(s).  The following corrective action will be taken in 30000 milliseconds: Restart the service. The Amazon SSM Agent service terminated with the following service-specific error: \n",
      "Incorrect function. The Amazon SSM Agent service entered the stopped state.\n",
      "\t<class 'str'>\n",
      "\tBenign\n",
      "Analyse field 80000\n",
      "\t<class 'torch.Tensor'>\n",
      "\ttorch.Size([132])\n",
      "\t<class 'torch.Tensor'>\n",
      "\ttorch.Size([28, 8])\n",
      "\t<class 'str'>\n",
      "\tThe Amazon SSM Agent service terminated unexpectedly.  It has done this 29 time(s).  The following corrective action will be taken in 30000 milliseconds: Restart the service. The Amazon SSM Agent service terminated with the following service-specific error: \n",
      "Incorrect function. The Amazon SSM Agent service entered the stopped state.\n",
      "\t<class 'str'>\n",
      "\tBenign\n",
      "Analyse field 90000\n",
      "\t<class 'torch.Tensor'>\n",
      "\ttorch.Size([132])\n",
      "\t<class 'torch.Tensor'>\n",
      "\ttorch.Size([28, 8])\n",
      "\t<class 'str'>\n",
      "\tThe Amazon SSM Agent service terminated unexpectedly.  It has done this 97 time(s).  The following corrective action will be taken in 30000 milliseconds: Restart the service. The Amazon SSM Agent service terminated with the following service-specific error: \n",
      "Incorrect function. The Amazon SSM Agent service entered the stopped state.\n",
      "\t<class 'str'>\n",
      "\tBenign\n",
      "Analyse field 100000\n",
      "\t<class 'torch.Tensor'>\n",
      "\ttorch.Size([132])\n",
      "\t<class 'torch.Tensor'>\n",
      "\ttorch.Size([28, 8])\n",
      "\t<class 'str'>\n",
      "\tThe Amazon SSM Agent service terminated unexpectedly.  It has done this 201 time(s).  The following corrective action will be taken in 30000 milliseconds: Restart the service. The Amazon SSM Agent service terminated with the following service-specific error: \n",
      "Incorrect function. The Amazon SSM Agent service entered the stopped state.\n",
      "\t<class 'str'>\n",
      "\tBenign\n",
      "Analyse field 110000\n",
      "\t<class 'torch.Tensor'>\n",
      "\ttorch.Size([132])\n",
      "\t<class 'torch.Tensor'>\n",
      "\ttorch.Size([28, 8])\n",
      "\t<class 'str'>\n",
      "\tThe Amazon SSM Agent service terminated unexpectedly.  It has done this 45 time(s).  The following corrective action will be taken in 30000 milliseconds: Restart the service. The Amazon SSM Agent service terminated with the following service-specific error: \n",
      "Incorrect function. The Amazon SSM Agent service entered the stopped state.\n",
      "\t<class 'str'>\n",
      "\tBenign\n",
      "Analyse field 120000\n",
      "\t<class 'torch.Tensor'>\n",
      "\ttorch.Size([132])\n",
      "\t<class 'torch.Tensor'>\n",
      "\ttorch.Size([28, 8])\n",
      "\t<class 'str'>\n",
      "\tWindows Update started downloading an update.\n",
      "\t<class 'str'>\n",
      "\tBenign\n",
      "Analyse field 130000\n",
      "\t<class 'torch.Tensor'>\n",
      "\ttorch.Size([132])\n",
      "\t<class 'torch.Tensor'>\n",
      "\ttorch.Size([28, 8])\n",
      "\t<class 'str'>\n",
      "\tThe Amazon SSM Agent service terminated unexpectedly.  It has done this 241 time(s).  The following corrective action will be taken in 30000 milliseconds: Restart the service. The Amazon SSM Agent service terminated with the following service-specific error: \n",
      "Incorrect function. The Amazon SSM Agent service entered the stopped state.\n",
      "\t<class 'str'>\n",
      "\tBenign\n",
      "Analyse field 140000\n",
      "\t<class 'torch.Tensor'>\n",
      "\ttorch.Size([132])\n",
      "\t<class 'torch.Tensor'>\n",
      "\ttorch.Size([28, 8])\n",
      "\t<class 'str'>\n",
      "\tThe Amazon SSM Agent service terminated unexpectedly.  It has done this 216 time(s).  The following corrective action will be taken in 30000 milliseconds: Restart the service. The Amazon SSM Agent service terminated with the following service-specific error: \n",
      "Incorrect function. The Amazon SSM Agent service entered the stopped state.\n",
      "\t<class 'str'>\n",
      "\tBenign\n",
      "Analyse field 150000\n",
      "\t<class 'torch.Tensor'>\n",
      "\ttorch.Size([132])\n",
      "\t<class 'torch.Tensor'>\n",
      "\ttorch.Size([28, 8])\n",
      "\t<class 'str'>\n",
      "\tThe Amazon SSM Agent service terminated unexpectedly.  It has done this 17 time(s).  The following corrective action will be taken in 30000 milliseconds: Restart the service. The Amazon SSM Agent service terminated with the following service-specific error: \n",
      "Incorrect function. The Amazon SSM Agent service entered the stopped state.\n",
      "\t<class 'str'>\n",
      "\tBenign\n",
      "Analyse field 160000\n",
      "\t<class 'torch.Tensor'>\n",
      "\ttorch.Size([132])\n",
      "\t<class 'torch.Tensor'>\n",
      "\ttorch.Size([28, 8])\n",
      "\t<class 'str'>\n",
      "\tThe Amazon SSM Agent service terminated unexpectedly.  It has done this 62 time(s).  The following corrective action will be taken in 30000 milliseconds: Restart the service. The Amazon SSM Agent service terminated with the following service-specific error: \n",
      "Incorrect function. The Amazon SSM Agent service entered the stopped state.\n",
      "\t<class 'str'>\n",
      "\tBenign\n",
      "Analyse field 170000\n",
      "\t<class 'torch.Tensor'>\n",
      "\ttorch.Size([132])\n",
      "\t<class 'torch.Tensor'>\n",
      "\ttorch.Size([28, 8])\n",
      "\t<class 'str'>\n",
      "\tThe Amazon SSM Agent service terminated unexpectedly.  It has done this 168 time(s).  The following corrective action will be taken in 30000 milliseconds: Restart the service. The Amazon SSM Agent service terminated with the following service-specific error: \n",
      "Incorrect function. The Amazon SSM Agent service entered the stopped state.\n",
      "\t<class 'str'>\n",
      "\tBenign\n",
      "Analyse field 180000\n",
      "\t<class 'torch.Tensor'>\n",
      "\ttorch.Size([132])\n",
      "\t<class 'torch.Tensor'>\n",
      "\ttorch.Size([28, 8])\n",
      "\t<class 'str'>\n",
      "\tThe Amazon SSM Agent service terminated unexpectedly.  It has done this 136 time(s).  The following corrective action will be taken in 30000 milliseconds: Restart the service. The Amazon SSM Agent service terminated with the following service-specific error: \n",
      "Incorrect function. The Amazon SSM Agent service entered the stopped state.\n",
      "\t<class 'str'>\n",
      "\tBenign\n",
      "Analyse field 190000\n",
      "\t<class 'torch.Tensor'>\n",
      "\ttorch.Size([132])\n",
      "\t<class 'torch.Tensor'>\n",
      "\ttorch.Size([28, 8])\n",
      "\t<class 'str'>\n",
      "\tThe Amazon SSM Agent service terminated unexpectedly.  It has done this 217 time(s).  The following corrective action will be taken in 30000 milliseconds: Restart the service. The Amazon SSM Agent service terminated with the following service-specific error: \n",
      "Incorrect function. The Amazon SSM Agent service entered the stopped state.\n",
      "\t<class 'str'>\n",
      "\tBenign\n",
      "Analyse field 200000\n",
      "\t<class 'torch.Tensor'>\n",
      "\ttorch.Size([132])\n",
      "\t<class 'torch.Tensor'>\n",
      "\ttorch.Size([28, 8])\n",
      "\t<class 'str'>\n",
      "\tThe Amazon SSM Agent service terminated unexpectedly.  It has done this 144 time(s).  The following corrective action will be taken in 30000 milliseconds: Restart the service. The Amazon SSM Agent service terminated with the following service-specific error: \n",
      "Incorrect function. The Amazon SSM Agent service entered the stopped state.\n",
      "\t<class 'str'>\n",
      "\tBenign\n",
      "Analyse field 210000\n",
      "\t<class 'torch.Tensor'>\n",
      "\ttorch.Size([132])\n",
      "\t<class 'torch.Tensor'>\n",
      "\ttorch.Size([28, 8])\n",
      "\t<class 'str'>\n",
      "\tThe Amazon SSM Agent service terminated unexpectedly.  It has done this 200 time(s).  The following corrective action will be taken in 30000 milliseconds: Restart the service. The Amazon SSM Agent service terminated with the following service-specific error: \n",
      "Incorrect function. The Amazon SSM Agent service entered the stopped state.\n",
      "\t<class 'str'>\n",
      "\tBenign\n",
      "Analyse field 220000\n",
      "\t<class 'torch.Tensor'>\n",
      "\ttorch.Size([132])\n",
      "\t<class 'torch.Tensor'>\n",
      "\ttorch.Size([28, 8])\n",
      "\t<class 'str'>\n",
      "\tThe Amazon SSM Agent service terminated unexpectedly.  It has done this 17 time(s).  The following corrective action will be taken in 30000 milliseconds: Restart the service. The Amazon SSM Agent service terminated with the following service-specific error: \n",
      "Incorrect function. The Amazon SSM Agent service entered the stopped state.\n",
      "\t<class 'str'>\n",
      "\tBenign\n",
      "Analyse field 230000\n",
      "\t<class 'torch.Tensor'>\n",
      "\ttorch.Size([132])\n",
      "\t<class 'torch.Tensor'>\n",
      "\ttorch.Size([28, 8])\n",
      "\t<class 'str'>\n",
      "\tThe Amazon SSM Agent service terminated unexpectedly.  It has done this 83 time(s).  The following corrective action will be taken in 30000 milliseconds: Restart the service. The Amazon SSM Agent service terminated with the following service-specific error: \n",
      "Incorrect function. The Amazon SSM Agent service entered the stopped state.\n",
      "\t<class 'str'>\n",
      "\tBenign\n",
      "Analyse field 240000\n",
      "\t<class 'torch.Tensor'>\n",
      "\ttorch.Size([132])\n",
      "\t<class 'torch.Tensor'>\n",
      "\ttorch.Size([28, 8])\n",
      "\t<class 'str'>\n",
      "\tThe Amazon SSM Agent service terminated unexpectedly.  It has done this 166 time(s).  The following corrective action will be taken in 30000 milliseconds: Restart the service. The Amazon SSM Agent service terminated with the following service-specific error: \n",
      "Incorrect function. The Amazon SSM Agent service entered the stopped state.\n",
      "\t<class 'str'>\n",
      "\tBenign\n",
      "Analyse field 250000\n",
      "\t<class 'torch.Tensor'>\n",
      "\ttorch.Size([132])\n",
      "\t<class 'torch.Tensor'>\n",
      "\ttorch.Size([28, 8])\n",
      "\t<class 'str'>\n",
      "\tThe Amazon SSM Agent service terminated unexpectedly.  It has done this 23 time(s).  The following corrective action will be taken in 30000 milliseconds: Restart the service. The Amazon SSM Agent service terminated with the following service-specific error: \n",
      "Incorrect function. The Amazon SSM Agent service entered the stopped state.\n",
      "\t<class 'str'>\n",
      "\tBenign\n",
      "Analyse field 260000\n",
      "\t<class 'torch.Tensor'>\n",
      "\ttorch.Size([132])\n",
      "\t<class 'torch.Tensor'>\n",
      "\ttorch.Size([28, 8])\n",
      "\t<class 'str'>\n",
      "\tThe Amazon SSM Agent service terminated unexpectedly.  It has done this 131 time(s).  The following corrective action will be taken in 30000 milliseconds: Restart the service. The Amazon SSM Agent service terminated with the following service-specific error: \n",
      "Incorrect function. The Amazon SSM Agent service entered the stopped state.\n",
      "\t<class 'str'>\n",
      "\tBenign\n",
      "Analyse field 270000\n",
      "\t<class 'torch.Tensor'>\n",
      "\ttorch.Size([132])\n",
      "\t<class 'torch.Tensor'>\n",
      "\ttorch.Size([28, 8])\n",
      "\t<class 'str'>\n",
      "\tThe Amazon SSM Agent service terminated unexpectedly.  It has done this 154 time(s).  The following corrective action will be taken in 30000 milliseconds: Restart the service. The Amazon SSM Agent service terminated with the following service-specific error: \n",
      "Incorrect function. The Amazon SSM Agent service entered the stopped state.\n",
      "\t<class 'str'>\n",
      "\tBenign\n",
      "Analyse field 280000\n",
      "\t<class 'torch.Tensor'>\n",
      "\ttorch.Size([132])\n",
      "\t<class 'torch.Tensor'>\n",
      "\ttorch.Size([28, 8])\n",
      "\t<class 'str'>\n",
      "\tInstallation Started: Windows has started installing the following update: Definition Update for Windows Defender Antivirus - KB2267602 (Definition 1.261.1552.0) A service was installed in the system.\n",
      "\n",
      "Service Name:  MpKsle2edf3b4\n",
      "Service File Name:  C:\\ProgramData\\Microsoft\\Windows Defender\\Definition Updates\\{66F6B021-3C4A-47DA-8DF1-5695BF221862}\\MpKsle2edf3b4.sys\n",
      "Service Type:  kernel mode driver\n",
      "Service Start Type:  system start\n",
      "Service Account:   The time provider NtpClient is currently receiving valid time data from time.windows.com,0x9 (ntp.m|0x9|0.0.0.0:123->52.179.17.38:123). Windows Update started downloading an update.\n",
      "\t<class 'str'>\n",
      "\tBenign\n",
      "Analyse field 290000\n",
      "\t<class 'torch.Tensor'>\n",
      "\ttorch.Size([132])\n",
      "\t<class 'torch.Tensor'>\n",
      "\ttorch.Size([28, 8])\n",
      "\t<class 'str'>\n",
      "\tThe Amazon SSM Agent service terminated unexpectedly.  It has done this 40 time(s).  The following corrective action will be taken in 30000 milliseconds: Restart the service. The Amazon SSM Agent service terminated with the following service-specific error: \n",
      "Incorrect function. The Amazon SSM Agent service entered the stopped state.\n",
      "\t<class 'str'>\n",
      "\tBenign\n",
      "Analyse field 300000\n",
      "\t<class 'torch.Tensor'>\n",
      "\ttorch.Size([132])\n",
      "\t<class 'torch.Tensor'>\n",
      "\ttorch.Size([28, 8])\n",
      "\t<class 'str'>\n",
      "\tThe Amazon SSM Agent service terminated unexpectedly.  It has done this 12 time(s).  The following corrective action will be taken in 30000 milliseconds: Restart the service. The Amazon SSM Agent service terminated with the following service-specific error: \n",
      "Incorrect function. The Amazon SSM Agent service entered the stopped state.\n",
      "\t<class 'str'>\n",
      "\tBenign\n",
      "Analyse field 310000\n",
      "\t<class 'torch.Tensor'>\n",
      "\ttorch.Size([132])\n",
      "\t<class 'torch.Tensor'>\n",
      "\ttorch.Size([28, 8])\n",
      "\t<class 'str'>\n",
      "\tThe Amazon SSM Agent service terminated unexpectedly.  It has done this 228 time(s).  The following corrective action will be taken in 30000 milliseconds: Restart the service. The Amazon SSM Agent service terminated with the following service-specific error: \n",
      "Incorrect function. The Amazon SSM Agent service entered the stopped state.\n",
      "\t<class 'str'>\n",
      "\tBenign\n",
      "Analyse field 320000\n",
      "\t<class 'torch.Tensor'>\n",
      "\ttorch.Size([132])\n",
      "\t<class 'torch.Tensor'>\n",
      "\ttorch.Size([28, 8])\n",
      "\t<class 'str'>\n",
      "\tThe Amazon SSM Agent service terminated unexpectedly.  It has done this 82 time(s).  The following corrective action will be taken in 30000 milliseconds: Restart the service. The Amazon SSM Agent service terminated with the following service-specific error: \n",
      "Incorrect function. The Amazon SSM Agent service entered the stopped state. The Windows Update service entered the stopped state.\n",
      "\t<class 'str'>\n",
      "\tBenign\n",
      "Analyse field 330000\n",
      "\t<class 'torch.Tensor'>\n",
      "\ttorch.Size([132])\n",
      "\t<class 'torch.Tensor'>\n",
      "\ttorch.Size([28, 8])\n",
      "\t<class 'str'>\n",
      "\tThe Amazon SSM Agent service terminated unexpectedly.  It has done this 192 time(s).  The following corrective action will be taken in 30000 milliseconds: Restart the service. The Amazon SSM Agent service terminated with the following service-specific error: \n",
      "Incorrect function. The Amazon SSM Agent service entered the stopped state. The Windows Update service entered the running state.\n",
      "\t<class 'str'>\n",
      "\tBenign\n",
      "Analyse field 340000\n",
      "\t<class 'torch.Tensor'>\n",
      "\ttorch.Size([132])\n",
      "\t<class 'torch.Tensor'>\n",
      "\ttorch.Size([28, 8])\n",
      "\t<class 'str'>\n",
      "\tThe Amazon SSM Agent service terminated unexpectedly.  It has done this 85 time(s).  The following corrective action will be taken in 30000 milliseconds: Restart the service. The Amazon SSM Agent service terminated with the following service-specific error: \n",
      "Incorrect function. The Amazon SSM Agent service entered the stopped state.\n",
      "\t<class 'str'>\n",
      "\tBenign\n",
      "Analyse field 350000\n",
      "\t<class 'torch.Tensor'>\n",
      "\ttorch.Size([132])\n",
      "\t<class 'torch.Tensor'>\n",
      "\ttorch.Size([28, 8])\n",
      "\t<class 'str'>\n",
      "\tThe system uptime is 13097 seconds. The Amazon SSM Agent service terminated unexpectedly.  It has done this 94 time(s).  The following corrective action will be taken in 30000 milliseconds: Restart the service. The Amazon SSM Agent service terminated with the following service-specific error: \n",
      "Incorrect function. The Amazon SSM Agent service entered the stopped state.\n",
      "\t<class 'str'>\n",
      "\tBenign\n",
      "Analyse field 360000\n",
      "\t<class 'torch.Tensor'>\n",
      "\ttorch.Size([132])\n",
      "\t<class 'torch.Tensor'>\n",
      "\ttorch.Size([28, 8])\n",
      "\t<class 'str'>\n",
      "\tThe Amazon SSM Agent service terminated unexpectedly.  It has done this 65 time(s).  The following corrective action will be taken in 30000 milliseconds: Restart the service. The Amazon SSM Agent service terminated with the following service-specific error: \n",
      "Incorrect function. The Amazon SSM Agent service entered the stopped state.\n",
      "\t<class 'str'>\n",
      "\tBenign\n",
      "Analyse field 370000\n",
      "\t<class 'torch.Tensor'>\n",
      "\ttorch.Size([132])\n",
      "\t<class 'torch.Tensor'>\n",
      "\ttorch.Size([28, 8])\n",
      "\t<class 'str'>\n",
      "\tThe LicenseManager service entered the running state. The RemoteRegistry service entered the stopped state. The Amazon SSM Agent service terminated unexpectedly.  It has done this 4 time(s).  The following corrective action will be taken in 30000 milliseconds: Restart the service. The Amazon SSM Agent service terminated with the following service-specific error: \n",
      "Incorrect function. The Amazon SSM Agent service entered the stopped state.\n",
      "\t<class 'str'>\n",
      "\tBenign\n",
      "Analyse field 380000\n",
      "\t<class 'torch.Tensor'>\n",
      "\ttorch.Size([132])\n",
      "\t<class 'torch.Tensor'>\n",
      "\ttorch.Size([28, 8])\n",
      "\t<class 'str'>\n",
      "\tThe Amazon SSM Agent service terminated unexpectedly.  It has done this 152 time(s).  The following corrective action will be taken in 30000 milliseconds: Restart the service. The Amazon SSM Agent service terminated with the following service-specific error: \n",
      "Incorrect function. The Amazon SSM Agent service entered the stopped state.\n",
      "\t<class 'str'>\n",
      "\tBenign\n",
      "Analyse field 390000\n",
      "\t<class 'torch.Tensor'>\n",
      "\ttorch.Size([132])\n",
      "\t<class 'torch.Tensor'>\n",
      "\ttorch.Size([28, 8])\n",
      "\t<class 'str'>\n",
      "\tThe Amazon SSM Agent service terminated unexpectedly.  It has done this 28 time(s).  The following corrective action will be taken in 30000 milliseconds: Restart the service. The Amazon SSM Agent service terminated with the following service-specific error: \n",
      "Incorrect function. The Amazon SSM Agent service entered the stopped state.\n",
      "\t<class 'str'>\n",
      "\tBenign\n",
      "Analyse field 400000\n",
      "\t<class 'torch.Tensor'>\n",
      "\ttorch.Size([132])\n",
      "\t<class 'torch.Tensor'>\n",
      "\ttorch.Size([28, 8])\n",
      "\t<class 'str'>\n",
      "\tThe Amazon SSM Agent service terminated unexpectedly.  It has done this 223 time(s).  The following corrective action will be taken in 30000 milliseconds: Restart the service. The Amazon SSM Agent service terminated with the following service-specific error: \n",
      "Incorrect function. The Amazon SSM Agent service entered the stopped state.\n",
      "\t<class 'str'>\n",
      "\tBenign\n",
      "Analyse field 410000\n",
      "\t<class 'torch.Tensor'>\n",
      "\ttorch.Size([132])\n",
      "\t<class 'torch.Tensor'>\n",
      "\ttorch.Size([28, 8])\n",
      "\t<class 'str'>\n",
      "\tThe Amazon SSM Agent service terminated unexpectedly.  It has done this 53 time(s).  The following corrective action will be taken in 30000 milliseconds: Restart the service. The Amazon SSM Agent service terminated with the following service-specific error: \n",
      "Incorrect function. The Amazon SSM Agent service entered the stopped state.\n",
      "\t<class 'str'>\n",
      "\tBenign\n",
      "Analyse field 420000\n",
      "\t<class 'torch.Tensor'>\n",
      "\ttorch.Size([132])\n",
      "\t<class 'torch.Tensor'>\n",
      "\ttorch.Size([28, 8])\n",
      "\t<class 'str'>\n",
      "\tThe Amazon SSM Agent service terminated unexpectedly.  It has done this 172 time(s).  The following corrective action will be taken in 30000 milliseconds: Restart the service. The Amazon SSM Agent service terminated with the following service-specific error: \n",
      "Incorrect function. The Amazon SSM Agent service entered the stopped state.\n",
      "\t<class 'str'>\n",
      "\tBenign\n",
      "Analyse field 430000\n",
      "\t<class 'torch.Tensor'>\n",
      "\ttorch.Size([132])\n",
      "\t<class 'torch.Tensor'>\n",
      "\ttorch.Size([28, 8])\n",
      "\t<class 'str'>\n",
      "\tThe Amazon SSM Agent service terminated unexpectedly.  It has done this 124 time(s).  The following corrective action will be taken in 30000 milliseconds: Restart the service. The Amazon SSM Agent service terminated with the following service-specific error: \n",
      "Incorrect function. The Amazon SSM Agent service entered the stopped state. The WinHTTP Web Proxy Auto-Discovery Service service entered the running state.\n",
      "\t<class 'str'>\n",
      "\tBenign\n",
      "Analyse field 440000\n",
      "\t<class 'torch.Tensor'>\n",
      "\ttorch.Size([132])\n",
      "\t<class 'torch.Tensor'>\n",
      "\ttorch.Size([28, 8])\n",
      "\t<class 'str'>\n",
      "\tThe Amazon SSM Agent service terminated unexpectedly.  It has done this 223 time(s).  The following corrective action will be taken in 30000 milliseconds: Restart the service. The Amazon SSM Agent service terminated with the following service-specific error: \n",
      "Incorrect function. The Amazon SSM Agent service entered the stopped state.\n",
      "\t<class 'str'>\n",
      "\tBenign\n",
      "Analyse field 450000\n",
      "\t<class 'torch.Tensor'>\n",
      "\ttorch.Size([132])\n",
      "\t<class 'torch.Tensor'>\n",
      "\ttorch.Size([28, 8])\n",
      "\t<class 'str'>\n",
      "\tThe Amazon SSM Agent service terminated unexpectedly.  It has done this 95 time(s).  The following corrective action will be taken in 30000 milliseconds: Restart the service. The Amazon SSM Agent service terminated with the following service-specific error: \n",
      "Incorrect function. The Amazon SSM Agent service entered the stopped state. The system uptime is 13097 seconds.\n",
      "\t<class 'str'>\n",
      "\tBenign\n",
      "Analyse field 460000\n",
      "\t<class 'torch.Tensor'>\n",
      "\ttorch.Size([132])\n",
      "\t<class 'torch.Tensor'>\n",
      "\ttorch.Size([28, 8])\n",
      "\t<class 'str'>\n",
      "\tThe WinHTTP Web Proxy Auto-Discovery Service service entered the running state. The Amazon SSM Agent service terminated unexpectedly.  It has done this 85 time(s).  The following corrective action will be taken in 30000 milliseconds: Restart the service. The Amazon SSM Agent service terminated with the following service-specific error: \n",
      "Incorrect function. The Amazon SSM Agent service entered the stopped state.\n",
      "\t<class 'str'>\n",
      "\tBenign\n"
     ]
    }
   ],
   "source": [
    "data = normal\n",
    "print(type(data))\n",
    "print(len(data))\n",
    "print(type(data[0]))\n",
    "print(len(data[0]))\n",
    "for i in range(0, len(data), 10000):\n",
    "    print(f\"Analyse field {i}\")\n",
    "    for d in data[i]:\n",
    "        print(f\"\\t{type(d)}\")\n",
    "        if isinstance(d, torch.Tensor):\n",
    "            print(f\"\\t{d.size()}\")\n",
    "        else:\n",
    "            print(f\"\\t{d}\")"
   ]
  },
  {
   "cell_type": "code",
   "execution_count": null,
   "metadata": {},
   "outputs": [
    {
     "name": "stdout",
     "output_type": "stream",
     "text": [
      "SSM Counter: 411829\n",
      "Total: 460547\n",
      "SSM Counter: 0.8942170940208057\n"
     ]
    },
    {
     "ename": "",
     "evalue": "",
     "output_type": "error",
     "traceback": [
      "\u001b[1;31mnotebook controller is DISPOSED. \n",
      "\u001b[1;31mView Jupyter <a href='command:jupyter.viewOutput'>log</a> for further details."
     ]
    },
    {
     "ename": "",
     "evalue": "",
     "output_type": "error",
     "traceback": [
      "\u001b[1;31mnotebook controller is DISPOSED. \n",
      "\u001b[1;31mView Jupyter <a href='command:jupyter.viewOutput'>log</a> for further details."
     ]
    }
   ],
   "source": [
    "ssm_counter = 0\n",
    "for i in range(len(normal)):\n",
    "    if \"Amazon SSM Agent\" in normal[i][2]:\n",
    "        ssm_counter += 1\n",
    "print(f\"SSM Counter: {ssm_counter}\\nTotal: {len(normal)}\")\n",
    "print(f\"SSM Counter: {ssm_counter/len(normal)}\")"
   ]
  },
  {
   "cell_type": "code",
   "execution_count": null,
   "metadata": {},
   "outputs": [
    {
     "name": "stdout",
     "output_type": "stream",
     "text": [
      "SSM Counter: 88222\n",
      "Total: 460547\n",
      "SSM Counter: 0.1915591676853828\n"
     ]
    },
    {
     "ename": "",
     "evalue": "",
     "output_type": "error",
     "traceback": [
      "\u001b[1;31mnotebook controller is DISPOSED. \n",
      "\u001b[1;31mView Jupyter <a href='command:jupyter.viewOutput'>log</a> for further details."
     ]
    },
    {
     "ename": "",
     "evalue": "",
     "output_type": "error",
     "traceback": [
      "\u001b[1;31mnotebook controller is DISPOSED. \n",
      "\u001b[1;31mView Jupyter <a href='command:jupyter.viewOutput'>log</a> for further details."
     ]
    }
   ],
   "source": [
    "ssm_counter = 0\n",
    "for i in range(len(attack)):\n",
    "    if \"Amazon SSM Agent\" in attack[i][2]:\n",
    "        ssm_counter += 1\n",
    "print(f\"SSM Counter: {ssm_counter}\\nTotal: {len(attack)}\")\n",
    "print(f\"SSM Counter: {ssm_counter/len(attack)}\")"
   ]
  },
  {
   "cell_type": "code",
   "execution_count": null,
   "metadata": {},
   "outputs": [
    {
     "ename": "",
     "evalue": "",
     "output_type": "error",
     "traceback": [
      "\u001b[1;31mnotebook controller is DISPOSED. \n",
      "\u001b[1;31mView Jupyter <a href='command:jupyter.viewOutput'>log</a> for further details."
     ]
    },
    {
     "ename": "",
     "evalue": "",
     "output_type": "error",
     "traceback": [
      "\u001b[1;31mnotebook controller is DISPOSED. \n",
      "\u001b[1;31mView Jupyter <a href='command:jupyter.viewOutput'>log</a> for further details."
     ]
    }
   ],
   "source": [
    "with open(os.path.join(root_path, \"Msg2Vec_Bert_100.pkl\"), \"rb\") as f:\n",
    "            msg2vec = pickle.load(f)"
   ]
  },
  {
   "cell_type": "code",
   "execution_count": null,
   "metadata": {},
   "outputs": [
    {
     "name": "stdout",
     "output_type": "stream",
     "text": [
      "<class 'tuple'>\n",
      "2\n",
      "<class 'list'>\n",
      "<class 'str'>\n",
      "The AppX Deployment Service (AppXSVC) service entered the stopped state. The Amazon SSM Agent service terminated unexpectedly.  It has done this 10 time(s).  The following corrective action will be taken in 30000 milliseconds: Restart the service. The Amazon SSM Agent service terminated with the following service-specific error: \n",
      "Incorrect function. The Amazon SSM Agent service entered the stopped state.\n",
      "<class 'torch.Tensor'>\n",
      "torch.Size([13077, 100, 768])\n",
      "13077\n"
     ]
    },
    {
     "ename": "",
     "evalue": "",
     "output_type": "error",
     "traceback": [
      "\u001b[1;31mnotebook controller is DISPOSED. \n",
      "\u001b[1;31mView Jupyter <a href='command:jupyter.viewOutput'>log</a> for further details."
     ]
    },
    {
     "ename": "",
     "evalue": "",
     "output_type": "error",
     "traceback": [
      "\u001b[1;31mnotebook controller is DISPOSED. \n",
      "\u001b[1;31mView Jupyter <a href='command:jupyter.viewOutput'>log</a> for further details."
     ]
    }
   ],
   "source": [
    "print(type(msg2vec))\n",
    "print(len(msg2vec))\n",
    "print(type(msg2vec[0]))\n",
    "print(type(msg2vec[0][0]))\n",
    "print(msg2vec[0][3])\n",
    "print(type(msg2vec[1]))\n",
    "print(msg2vec[1].shape)\n",
    "print(len(msg2vec[0]))"
   ]
  },
  {
   "cell_type": "code",
   "execution_count": null,
   "metadata": {},
   "outputs": [
    {
     "ename": "",
     "evalue": "",
     "output_type": "error",
     "traceback": [
      "\u001b[1;31mnotebook controller is DISPOSED. \n",
      "\u001b[1;31mView Jupyter <a href='command:jupyter.viewOutput'>log</a> for further details."
     ]
    },
    {
     "ename": "",
     "evalue": "",
     "output_type": "error",
     "traceback": [
      "\u001b[1;31mnotebook controller is DISPOSED. \n",
      "\u001b[1;31mView Jupyter <a href='command:jupyter.viewOutput'>log</a> for further details."
     ]
    }
   ],
   "source": [
    "data = normal + attack"
   ]
  },
  {
   "cell_type": "code",
   "execution_count": null,
   "metadata": {},
   "outputs": [
    {
     "name": "stdout",
     "output_type": "stream",
     "text": [
      "{'Benign': 460547, 'Bot': 90460, 'DoS-SlowHTTPTest': 15930, 'DoS-Hulk': 19941, 'Brute Force -Web': 42, 'Brute Force -XSS': 16, 'SQL Injection': 15, 'Infiltration': 29, 'DoS-GoldenEye': 3434, 'DoS-Slowloris': 2096, 'DDOS-LOIC-HTTP': 58185, 'DDOS-LOIC-UDP': 1102, 'FTP-BruteForce': 48140, 'SSH-Bruteforce': 16561, 'DDOS-HOIC': 204596}\n"
     ]
    },
    {
     "ename": "",
     "evalue": "",
     "output_type": "error",
     "traceback": [
      "\u001b[1;31mnotebook controller is DISPOSED. \n",
      "\u001b[1;31mView Jupyter <a href='command:jupyter.viewOutput'>log</a> for further details."
     ]
    },
    {
     "ename": "",
     "evalue": "",
     "output_type": "error",
     "traceback": [
      "\u001b[1;31mnotebook controller is DISPOSED. \n",
      "\u001b[1;31mView Jupyter <a href='command:jupyter.viewOutput'>log</a> for further details."
     ]
    }
   ],
   "source": [
    "occurences = {}\n",
    "for d in data:\n",
    "    if d[3] in occurences:\n",
    "        occurences[d[3]] += 1\n",
    "    else:\n",
    "        occurences[d[3]] = 1\n",
    "print(occurences)"
   ]
  },
  {
   "cell_type": "markdown",
   "metadata": {},
   "source": [
    "# Analyse Dataset"
   ]
  },
  {
   "cell_type": "code",
   "execution_count": 4,
   "metadata": {},
   "outputs": [],
   "source": [
    "ds = SCVICCIDSDataset(root_path)"
   ]
  },
  {
   "cell_type": "code",
   "execution_count": 5,
   "metadata": {},
   "outputs": [],
   "source": [
    "def plot_occurences(ds, idx=None):\n",
    "    occurences = {}\n",
    "    idx = idx if idx is not None else list(range(len(ds)))\n",
    "    for i in idx:\n",
    "        d = ds[i]\n",
    "        if SCVIC_CIDS_CLASSES_INV[d[3]] in occurences:\n",
    "            occurences[SCVIC_CIDS_CLASSES_INV[d[3]]] += 1\n",
    "        else:\n",
    "            occurences[SCVIC_CIDS_CLASSES_INV[d[3]]] = 1\n",
    "\n",
    "    fig, ax = plt.subplots(1, 1, figsize=(12, 5))\n",
    "    ax.bar(occurences.keys(), occurences.values(), color=\"slateblue\")\n",
    "    ax.set_xticklabels(occurences.keys(), rotation=90, fontsize=14)\n",
    "    ax.tick_params(axis='y', labelsize=14)  # Set fontsize for y-ticks\n",
    "    ax.set_ylabel(\"Number of network flows\", fontsize=14)\n",
    "    ax.set_yscale(\"log\")\n",
    "    fig.tight_layout()\n",
    "    fig.savefig(\"plots/transformer/distribution_scvic.pdf\")\n",
    "    plt.show()"
   ]
  },
  {
   "cell_type": "code",
   "execution_count": 6,
   "metadata": {},
   "outputs": [
    {
     "name": "stderr",
     "output_type": "stream",
     "text": [
      "/tmp/ipykernel_4054760/3210585381.py:13: UserWarning: set_ticklabels() should only be used with a fixed number of ticks, i.e. after set_ticks() or using a FixedLocator.\n",
      "  ax.set_xticklabels(occurences.keys(), rotation=90, fontsize=14)\n"
     ]
    },
    {
     "data": {
      "image/png": "[encoded data removed]",
      "text/plain": [
       "<Figure size 1200x500 with 1 Axes>"
      ]
     },
     "metadata": {},
     "output_type": "display_data"
    }
   ],
   "source": [
    "plot_occurences(ds)"
   ]
  },
  {
   "cell_type": "code",
   "execution_count": 6,
   "metadata": {},
   "outputs": [],
   "source": [
    "labels = []\n",
    "for i in range(len(ds)):\n",
    "    labels.append(ds[i][3])"
   ]
  },
  {
   "cell_type": "code",
   "execution_count": 21,
   "metadata": {},
   "outputs": [
    {
     "name": "stdout",
     "output_type": "stream",
     "text": [
      "<class 'numpy.ndarray'>\n"
     ]
    },
    {
     "data": {
      "image/png": "[encoded data removed]",
      "text/plain": [
       "<Figure size 640x480 with 1 Axes>"
      ]
     },
     "metadata": {},
     "output_type": "display_data"
    },
    {
     "data": {
      "image/png": "[encoded data removed]",
      "text/plain": [
       "<Figure size 640x480 with 1 Axes>"
      ]
     },
     "metadata": {},
     "output_type": "display_data"
    }
   ],
   "source": [
    "from sklearn.model_selection import StratifiedShuffleSplit\n",
    "\n",
    "sss = StratifiedShuffleSplit(n_splits=1,test_size=0.2,random_state=42)\n",
    "\n",
    "train, test = sss.split(np.zeros(len(labels)), labels).__next__()\n",
    "print(type(train))\n",
    "plot_occurences(ds, train)\n",
    "plot_occurences(ds, test)\n",
    "\n",
    "np.savetxt(os.path.join(misc.data(), \"scvic/train_indices.txt\"), train, fmt=\"%d\")\n",
    "np.savetxt(os.path.join(misc.data(), \"scvic/test_indices.txt\"), test, fmt=\"%d\")"
   ]
  },
  {
   "cell_type": "code",
   "execution_count": 19,
   "metadata": {},
   "outputs": [
    {
     "ename": "KeyboardInterrupt",
     "evalue": "",
     "output_type": "error",
     "traceback": [
      "\u001b[0;31m---------------------------------------------------------------------------\u001b[0m",
      "\u001b[0;31mKeyboardInterrupt\u001b[0m                         Traceback (most recent call last)",
      "Cell \u001b[0;32mIn[19], line 1\u001b[0m\n\u001b[0;32m----> 1\u001b[0m ds_leftout \u001b[38;5;241m=\u001b[39m \u001b[43mSCVIC_CIDS_Dataset\u001b[49m\u001b[43m(\u001b[49m\u001b[43mroot_path\u001b[49m\u001b[43m,\u001b[49m\u001b[43m \u001b[49m\u001b[43mexclude\u001b[49m\u001b[38;5;241;43m=\u001b[39;49m\u001b[43m[\u001b[49m\u001b[38;5;124;43m\"\u001b[39;49m\u001b[38;5;124;43mDDOS-HOIC\u001b[39;49m\u001b[38;5;124;43m\"\u001b[39;49m\u001b[43m]\u001b[49m\u001b[43m)\u001b[49m\n",
      "File \u001b[0;32m/opt/gildemeister/gildemeister-implementation/cids/data.py:190\u001b[0m, in \u001b[0;36mSCVIC_CIDS_Dataset.__init__\u001b[0;34m(self, path, exclude)\u001b[0m\n\u001b[1;32m    187\u001b[0m \u001b[38;5;28msuper\u001b[39m()\u001b[38;5;241m.\u001b[39m\u001b[38;5;21m__init__\u001b[39m()\n\u001b[1;32m    189\u001b[0m \u001b[38;5;28;01mwith\u001b[39;00m \u001b[38;5;28mopen\u001b[39m(os\u001b[38;5;241m.\u001b[39mpath\u001b[38;5;241m.\u001b[39mjoin(path, \u001b[38;5;124m\"\u001b[39m\u001b[38;5;124mCidsSampleAttack_Tensor_28.pkl\u001b[39m\u001b[38;5;124m\"\u001b[39m), \u001b[38;5;124m\"\u001b[39m\u001b[38;5;124mrb\u001b[39m\u001b[38;5;124m\"\u001b[39m) \u001b[38;5;28;01mas\u001b[39;00m f:\n\u001b[0;32m--> 190\u001b[0m     attack \u001b[38;5;241m=\u001b[39m \u001b[43mpickle\u001b[49m\u001b[38;5;241;43m.\u001b[39;49m\u001b[43mload\u001b[49m\u001b[43m(\u001b[49m\u001b[43mf\u001b[49m\u001b[43m)\u001b[49m\n\u001b[1;32m    191\u001b[0m \u001b[38;5;28;01mwith\u001b[39;00m \u001b[38;5;28mopen\u001b[39m(os\u001b[38;5;241m.\u001b[39mpath\u001b[38;5;241m.\u001b[39mjoin(path, \u001b[38;5;124m\"\u001b[39m\u001b[38;5;124mCidsSampleNormal_Tensor_28.pkl\u001b[39m\u001b[38;5;124m\"\u001b[39m), \u001b[38;5;124m\"\u001b[39m\u001b[38;5;124mrb\u001b[39m\u001b[38;5;124m\"\u001b[39m) \u001b[38;5;28;01mas\u001b[39;00m f:\n\u001b[1;32m    192\u001b[0m     normal \u001b[38;5;241m=\u001b[39m pickle\u001b[38;5;241m.\u001b[39mload(f)\n",
      "File \u001b[0;32m/opt/gildemeister/miniforge3/envs/cids3.12/lib/python3.12/site-packages/torch/storage.py:520\u001b[0m, in \u001b[0;36m_load_from_bytes\u001b[0;34m(b)\u001b[0m\n\u001b[1;32m    519\u001b[0m \u001b[38;5;28;01mdef\u001b[39;00m\u001b[38;5;250m \u001b[39m\u001b[38;5;21m_load_from_bytes\u001b[39m(b):\n\u001b[0;32m--> 520\u001b[0m     \u001b[38;5;28;01mreturn\u001b[39;00m \u001b[43mtorch\u001b[49m\u001b[38;5;241;43m.\u001b[39;49m\u001b[43mload\u001b[49m\u001b[43m(\u001b[49m\u001b[43mio\u001b[49m\u001b[38;5;241;43m.\u001b[39;49m\u001b[43mBytesIO\u001b[49m\u001b[43m(\u001b[49m\u001b[43mb\u001b[49m\u001b[43m)\u001b[49m\u001b[43m,\u001b[49m\u001b[43m \u001b[49m\u001b[43mweights_only\u001b[49m\u001b[38;5;241;43m=\u001b[39;49m\u001b[38;5;28;43;01mFalse\u001b[39;49;00m\u001b[43m)\u001b[49m\n",
      "File \u001b[0;32m/opt/gildemeister/miniforge3/envs/cids3.12/lib/python3.12/site-packages/torch/serialization.py:1392\u001b[0m, in \u001b[0;36mload\u001b[0;34m(f, map_location, pickle_module, weights_only, mmap, **pickle_load_args)\u001b[0m\n\u001b[1;32m   1390\u001b[0m     \u001b[38;5;28;01mexcept\u001b[39;00m pickle\u001b[38;5;241m.\u001b[39mUnpicklingError \u001b[38;5;28;01mas\u001b[39;00m e:\n\u001b[1;32m   1391\u001b[0m         \u001b[38;5;28;01mraise\u001b[39;00m pickle\u001b[38;5;241m.\u001b[39mUnpicklingError(_get_wo_message(\u001b[38;5;28mstr\u001b[39m(e))) \u001b[38;5;28;01mfrom\u001b[39;00m\u001b[38;5;250m \u001b[39m\u001b[38;5;28;01mNone\u001b[39;00m\n\u001b[0;32m-> 1392\u001b[0m \u001b[38;5;28;01mreturn\u001b[39;00m \u001b[43m_legacy_load\u001b[49m\u001b[43m(\u001b[49m\n\u001b[1;32m   1393\u001b[0m \u001b[43m    \u001b[49m\u001b[43mopened_file\u001b[49m\u001b[43m,\u001b[49m\u001b[43m \u001b[49m\u001b[43mmap_location\u001b[49m\u001b[43m,\u001b[49m\u001b[43m \u001b[49m\u001b[43mpickle_module\u001b[49m\u001b[43m,\u001b[49m\u001b[43m \u001b[49m\u001b[38;5;241;43m*\u001b[39;49m\u001b[38;5;241;43m*\u001b[39;49m\u001b[43mpickle_load_args\u001b[49m\n\u001b[1;32m   1394\u001b[0m \u001b[43m\u001b[49m\u001b[43m)\u001b[49m\n",
      "File \u001b[0;32m/opt/gildemeister/miniforge3/envs/cids3.12/lib/python3.12/site-packages/torch/serialization.py:1643\u001b[0m, in \u001b[0;36m_legacy_load\u001b[0;34m(f, map_location, pickle_module, **pickle_load_args)\u001b[0m\n\u001b[1;32m   1640\u001b[0m \u001b[38;5;28;01mif\u001b[39;00m protocol_version \u001b[38;5;241m!=\u001b[39m PROTOCOL_VERSION:\n\u001b[1;32m   1641\u001b[0m     \u001b[38;5;28;01mraise\u001b[39;00m \u001b[38;5;167;01mRuntimeError\u001b[39;00m(\u001b[38;5;124mf\u001b[39m\u001b[38;5;124m\"\u001b[39m\u001b[38;5;124mInvalid protocol version: \u001b[39m\u001b[38;5;132;01m{\u001b[39;00mprotocol_version\u001b[38;5;132;01m}\u001b[39;00m\u001b[38;5;124m\"\u001b[39m)\n\u001b[0;32m-> 1643\u001b[0m _sys_info \u001b[38;5;241m=\u001b[39m \u001b[43mpickle_module\u001b[49m\u001b[38;5;241;43m.\u001b[39;49m\u001b[43mload\u001b[49m\u001b[43m(\u001b[49m\u001b[43mf\u001b[49m\u001b[43m,\u001b[49m\u001b[43m \u001b[49m\u001b[38;5;241;43m*\u001b[39;49m\u001b[38;5;241;43m*\u001b[39;49m\u001b[43mpickle_load_args\u001b[49m\u001b[43m)\u001b[49m\n\u001b[1;32m   1644\u001b[0m unpickler \u001b[38;5;241m=\u001b[39m UnpicklerWrapper(f, \u001b[38;5;241m*\u001b[39m\u001b[38;5;241m*\u001b[39mpickle_load_args)\n\u001b[1;32m   1645\u001b[0m unpickler\u001b[38;5;241m.\u001b[39mpersistent_load \u001b[38;5;241m=\u001b[39m persistent_load\n",
      "\u001b[0;31mKeyboardInterrupt\u001b[0m: "
     ]
    }
   ],
   "source": [
    "ds_leftout = SCVIC_CIDS_Dataset(root_path, exclude=[\"DDOS-HOIC\"])"
   ]
  },
  {
   "cell_type": "code",
   "execution_count": 8,
   "metadata": {},
   "outputs": [
    {
     "data": {
      "image/png": "[encoded data removed]",
      "text/plain": [
       "<Figure size 640x480 with 1 Axes>"
      ]
     },
     "metadata": {},
     "output_type": "display_data"
    }
   ],
   "source": [
    "occurences = {}\n",
    "for i in range(len(ds_leftout)):\n",
    "    d = ds_leftout[i]\n",
    "    if d[3] in occurences:\n",
    "        occurences[d[3]] += 1\n",
    "    else:\n",
    "        occurences[d[3]] = 1\n",
    "\n",
    "plt.bar(occurences.keys(), occurences.values())\n",
    "plt.yscale(\"log\")\n",
    "plt.show()"
   ]
  },
  {
   "cell_type": "markdown",
   "metadata": {},
   "source": [
    "# test Dataloader"
   ]
  },
  {
   "cell_type": "code",
   "execution_count": 5,
   "metadata": {},
   "outputs": [],
   "source": [
    "train, val = get_SCVIC_dataloader_binary(8, 1)"
   ]
  },
  {
   "cell_type": "code",
   "execution_count": 7,
   "metadata": {},
   "outputs": [
    {
     "name": "stdout",
     "output_type": "stream",
     "text": [
      "torch.Size([8, 132]) torch.Size([8, 28, 8]) torch.Size([8, 100, 768]) torch.Size([8])\n",
      "tensor([1, 1, 1, 0, 1, 1, 1, 1])\n",
      "torch.Size([8, 132]) torch.Size([8, 28, 8]) torch.Size([8, 100, 768]) torch.Size([8])\n",
      "tensor([1, 1, 1, 0, 1, 0, 1, 0])\n",
      "73688 18422\n"
     ]
    }
   ],
   "source": [
    "for t in train:\n",
    "    print(t[0].size(), t[1].size(), t[2].size(), t[3].size())\n",
    "    print(t[3])\n",
    "    break\n",
    "for v in val:  \n",
    "    print(v[0].size(), v[1].size(), v[2].size(), v[3].size())\n",
    "    print(v[3])\n",
    "    break\n",
    "print(len(train), len(val))\n"
   ]
  },
  {
   "cell_type": "code",
   "execution_count": 8,
   "metadata": {},
   "outputs": [
    {
     "name": "stdout",
     "output_type": "stream",
     "text": [
      "torch.Size([8, 132]) torch.Size([8, 28, 8]) torch.Size([8, 100, 768]) torch.Size([8])\n",
      "23028\n"
     ]
    }
   ],
   "source": [
    "test = get_SCVIC_dataloader(8, 1, test=True, validation=False)\n",
    "for t in test:\n",
    "    print(t[0].size(), t[1].size(), t[2].size(), t[3].size())\n",
    "    break\n",
    "print(len(test))"
   ]
  },
  {
   "cell_type": "code",
   "execution_count": 12,
   "metadata": {},
   "outputs": [
    {
     "name": "stdout",
     "output_type": "stream",
     "text": [
      "Start plotting\n"
     ]
    },
    {
     "ename": "KeyboardInterrupt",
     "evalue": "",
     "output_type": "error",
     "traceback": [
      "\u001b[0;31m---------------------------------------------------------------------------\u001b[0m",
      "\u001b[0;31mKeyboardInterrupt\u001b[0m                         Traceback (most recent call last)",
      "Cell \u001b[0;32mIn[12], line 9\u001b[0m\n\u001b[1;32m      7\u001b[0m             occurences[b[\u001b[38;5;241m3\u001b[39m][i]] \u001b[38;5;241m=\u001b[39m \u001b[38;5;241m1\u001b[39m\n\u001b[1;32m      8\u001b[0m \u001b[38;5;28mprint\u001b[39m(\u001b[38;5;124m\"\u001b[39m\u001b[38;5;124mStart plotting\u001b[39m\u001b[38;5;124m\"\u001b[39m)\n\u001b[0;32m----> 9\u001b[0m \u001b[43mplt\u001b[49m\u001b[38;5;241;43m.\u001b[39;49m\u001b[43mbar\u001b[49m\u001b[43m(\u001b[49m\u001b[43moccurences\u001b[49m\u001b[38;5;241;43m.\u001b[39;49m\u001b[43mkeys\u001b[49m\u001b[43m(\u001b[49m\u001b[43m)\u001b[49m\u001b[43m,\u001b[49m\u001b[43m \u001b[49m\u001b[43moccurences\u001b[49m\u001b[38;5;241;43m.\u001b[39;49m\u001b[43mvalues\u001b[49m\u001b[43m(\u001b[49m\u001b[43m)\u001b[49m\u001b[43m)\u001b[49m\n\u001b[1;32m     10\u001b[0m plt\u001b[38;5;241m.\u001b[39myscale(\u001b[38;5;124m\"\u001b[39m\u001b[38;5;124mlog\u001b[39m\u001b[38;5;124m\"\u001b[39m)\n\u001b[1;32m     12\u001b[0m plt\u001b[38;5;241m.\u001b[39mshow()\n",
      "File \u001b[0;32m/opt/gildemeister/miniforge3/envs/cids3.12/lib/python3.12/site-packages/matplotlib/pyplot.py:2956\u001b[0m, in \u001b[0;36mbar\u001b[0;34m(x, height, width, bottom, align, data, **kwargs)\u001b[0m\n\u001b[1;32m   2945\u001b[0m \u001b[38;5;129m@_copy_docstring_and_deprecators\u001b[39m(Axes\u001b[38;5;241m.\u001b[39mbar)\n\u001b[1;32m   2946\u001b[0m \u001b[38;5;28;01mdef\u001b[39;00m\u001b[38;5;250m \u001b[39m\u001b[38;5;21mbar\u001b[39m(\n\u001b[1;32m   2947\u001b[0m     x: \u001b[38;5;28mfloat\u001b[39m \u001b[38;5;241m|\u001b[39m ArrayLike,\n\u001b[0;32m   (...)\u001b[0m\n\u001b[1;32m   2954\u001b[0m     \u001b[38;5;241m*\u001b[39m\u001b[38;5;241m*\u001b[39mkwargs,\n\u001b[1;32m   2955\u001b[0m ) \u001b[38;5;241m-\u001b[39m\u001b[38;5;241m>\u001b[39m BarContainer:\n\u001b[0;32m-> 2956\u001b[0m     \u001b[38;5;28;01mreturn\u001b[39;00m \u001b[43mgca\u001b[49m\u001b[43m(\u001b[49m\u001b[43m)\u001b[49m\u001b[38;5;241;43m.\u001b[39;49m\u001b[43mbar\u001b[49m\u001b[43m(\u001b[49m\n\u001b[1;32m   2957\u001b[0m \u001b[43m        \u001b[49m\u001b[43mx\u001b[49m\u001b[43m,\u001b[49m\n\u001b[1;32m   2958\u001b[0m \u001b[43m        \u001b[49m\u001b[43mheight\u001b[49m\u001b[43m,\u001b[49m\n\u001b[1;32m   2959\u001b[0m \u001b[43m        \u001b[49m\u001b[43mwidth\u001b[49m\u001b[38;5;241;43m=\u001b[39;49m\u001b[43mwidth\u001b[49m\u001b[43m,\u001b[49m\n\u001b[1;32m   2960\u001b[0m \u001b[43m        \u001b[49m\u001b[43mbottom\u001b[49m\u001b[38;5;241;43m=\u001b[39;49m\u001b[43mbottom\u001b[49m\u001b[43m,\u001b[49m\n\u001b[1;32m   2961\u001b[0m \u001b[43m        \u001b[49m\u001b[43malign\u001b[49m\u001b[38;5;241;43m=\u001b[39;49m\u001b[43malign\u001b[49m\u001b[43m,\u001b[49m\n\u001b[1;32m   2962\u001b[0m \u001b[43m        \u001b[49m\u001b[38;5;241;43m*\u001b[39;49m\u001b[38;5;241;43m*\u001b[39;49m\u001b[43m(\u001b[49m\u001b[43m{\u001b[49m\u001b[38;5;124;43m\"\u001b[39;49m\u001b[38;5;124;43mdata\u001b[39;49m\u001b[38;5;124;43m\"\u001b[39;49m\u001b[43m:\u001b[49m\u001b[43m \u001b[49m\u001b[43mdata\u001b[49m\u001b[43m}\u001b[49m\u001b[43m \u001b[49m\u001b[38;5;28;43;01mif\u001b[39;49;00m\u001b[43m \u001b[49m\u001b[43mdata\u001b[49m\u001b[43m \u001b[49m\u001b[38;5;129;43;01mis\u001b[39;49;00m\u001b[43m \u001b[49m\u001b[38;5;129;43;01mnot\u001b[39;49;00m\u001b[43m \u001b[49m\u001b[38;5;28;43;01mNone\u001b[39;49;00m\u001b[43m \u001b[49m\u001b[38;5;28;43;01melse\u001b[39;49;00m\u001b[43m \u001b[49m\u001b[43m{\u001b[49m\u001b[43m}\u001b[49m\u001b[43m)\u001b[49m\u001b[43m,\u001b[49m\n\u001b[1;32m   2963\u001b[0m \u001b[43m        \u001b[49m\u001b[38;5;241;43m*\u001b[39;49m\u001b[38;5;241;43m*\u001b[39;49m\u001b[43mkwargs\u001b[49m\u001b[43m,\u001b[49m\n\u001b[1;32m   2964\u001b[0m \u001b[43m    \u001b[49m\u001b[43m)\u001b[49m\n",
      "File \u001b[0;32m/opt/gildemeister/miniforge3/envs/cids3.12/lib/python3.12/site-packages/matplotlib/__init__.py:1473\u001b[0m, in \u001b[0;36m_preprocess_data.<locals>.inner\u001b[0;34m(ax, data, *args, **kwargs)\u001b[0m\n\u001b[1;32m   1470\u001b[0m \u001b[38;5;129m@functools\u001b[39m\u001b[38;5;241m.\u001b[39mwraps(func)\n\u001b[1;32m   1471\u001b[0m \u001b[38;5;28;01mdef\u001b[39;00m\u001b[38;5;250m \u001b[39m\u001b[38;5;21minner\u001b[39m(ax, \u001b[38;5;241m*\u001b[39margs, data\u001b[38;5;241m=\u001b[39m\u001b[38;5;28;01mNone\u001b[39;00m, \u001b[38;5;241m*\u001b[39m\u001b[38;5;241m*\u001b[39mkwargs):\n\u001b[1;32m   1472\u001b[0m     \u001b[38;5;28;01mif\u001b[39;00m data \u001b[38;5;129;01mis\u001b[39;00m \u001b[38;5;28;01mNone\u001b[39;00m:\n\u001b[0;32m-> 1473\u001b[0m         \u001b[38;5;28;01mreturn\u001b[39;00m \u001b[43mfunc\u001b[49m\u001b[43m(\u001b[49m\n\u001b[1;32m   1474\u001b[0m \u001b[43m            \u001b[49m\u001b[43max\u001b[49m\u001b[43m,\u001b[49m\n\u001b[1;32m   1475\u001b[0m \u001b[43m            \u001b[49m\u001b[38;5;241;43m*\u001b[39;49m\u001b[38;5;28;43mmap\u001b[39;49m\u001b[43m(\u001b[49m\u001b[43msanitize_sequence\u001b[49m\u001b[43m,\u001b[49m\u001b[43m \u001b[49m\u001b[43margs\u001b[49m\u001b[43m)\u001b[49m\u001b[43m,\u001b[49m\n\u001b[1;32m   1476\u001b[0m \u001b[43m            \u001b[49m\u001b[38;5;241;43m*\u001b[39;49m\u001b[38;5;241;43m*\u001b[39;49m\u001b[43m{\u001b[49m\u001b[43mk\u001b[49m\u001b[43m:\u001b[49m\u001b[43m \u001b[49m\u001b[43msanitize_sequence\u001b[49m\u001b[43m(\u001b[49m\u001b[43mv\u001b[49m\u001b[43m)\u001b[49m\u001b[43m \u001b[49m\u001b[38;5;28;43;01mfor\u001b[39;49;00m\u001b[43m \u001b[49m\u001b[43mk\u001b[49m\u001b[43m,\u001b[49m\u001b[43m \u001b[49m\u001b[43mv\u001b[49m\u001b[43m \u001b[49m\u001b[38;5;129;43;01min\u001b[39;49;00m\u001b[43m \u001b[49m\u001b[43mkwargs\u001b[49m\u001b[38;5;241;43m.\u001b[39;49m\u001b[43mitems\u001b[49m\u001b[43m(\u001b[49m\u001b[43m)\u001b[49m\u001b[43m}\u001b[49m\u001b[43m)\u001b[49m\n\u001b[1;32m   1478\u001b[0m     bound \u001b[38;5;241m=\u001b[39m new_sig\u001b[38;5;241m.\u001b[39mbind(ax, \u001b[38;5;241m*\u001b[39margs, \u001b[38;5;241m*\u001b[39m\u001b[38;5;241m*\u001b[39mkwargs)\n\u001b[1;32m   1479\u001b[0m     auto_label \u001b[38;5;241m=\u001b[39m (bound\u001b[38;5;241m.\u001b[39marguments\u001b[38;5;241m.\u001b[39mget(label_namer)\n\u001b[1;32m   1480\u001b[0m                   \u001b[38;5;129;01mor\u001b[39;00m bound\u001b[38;5;241m.\u001b[39mkwargs\u001b[38;5;241m.\u001b[39mget(label_namer))\n",
      "File \u001b[0;32m/opt/gildemeister/miniforge3/envs/cids3.12/lib/python3.12/site-packages/matplotlib/axes/_axes.py:2583\u001b[0m, in \u001b[0;36mAxes.bar\u001b[0;34m(self, x, height, width, bottom, align, **kwargs)\u001b[0m\n\u001b[1;32m   2580\u001b[0m args \u001b[38;5;241m=\u001b[39m \u001b[38;5;28mzip\u001b[39m(left, bottom, width, height, color, edgecolor, linewidth,\n\u001b[1;32m   2581\u001b[0m            hatch, patch_labels)\n\u001b[1;32m   2582\u001b[0m \u001b[38;5;28;01mfor\u001b[39;00m l, b, w, h, c, e, lw, htch, lbl \u001b[38;5;129;01min\u001b[39;00m args:\n\u001b[0;32m-> 2583\u001b[0m     r \u001b[38;5;241m=\u001b[39m \u001b[43mmpatches\u001b[49m\u001b[38;5;241;43m.\u001b[39;49m\u001b[43mRectangle\u001b[49m\u001b[43m(\u001b[49m\n\u001b[1;32m   2584\u001b[0m \u001b[43m        \u001b[49m\u001b[43mxy\u001b[49m\u001b[38;5;241;43m=\u001b[39;49m\u001b[43m(\u001b[49m\u001b[43ml\u001b[49m\u001b[43m,\u001b[49m\u001b[43m \u001b[49m\u001b[43mb\u001b[49m\u001b[43m)\u001b[49m\u001b[43m,\u001b[49m\u001b[43m \u001b[49m\u001b[43mwidth\u001b[49m\u001b[38;5;241;43m=\u001b[39;49m\u001b[43mw\u001b[49m\u001b[43m,\u001b[49m\u001b[43m \u001b[49m\u001b[43mheight\u001b[49m\u001b[38;5;241;43m=\u001b[39;49m\u001b[43mh\u001b[49m\u001b[43m,\u001b[49m\n\u001b[1;32m   2585\u001b[0m \u001b[43m        \u001b[49m\u001b[43mfacecolor\u001b[49m\u001b[38;5;241;43m=\u001b[39;49m\u001b[43mc\u001b[49m\u001b[43m,\u001b[49m\n\u001b[1;32m   2586\u001b[0m \u001b[43m        \u001b[49m\u001b[43medgecolor\u001b[49m\u001b[38;5;241;43m=\u001b[39;49m\u001b[43me\u001b[49m\u001b[43m,\u001b[49m\n\u001b[1;32m   2587\u001b[0m \u001b[43m        \u001b[49m\u001b[43mlinewidth\u001b[49m\u001b[38;5;241;43m=\u001b[39;49m\u001b[43mlw\u001b[49m\u001b[43m,\u001b[49m\n\u001b[1;32m   2588\u001b[0m \u001b[43m        \u001b[49m\u001b[43mlabel\u001b[49m\u001b[38;5;241;43m=\u001b[39;49m\u001b[43mlbl\u001b[49m\u001b[43m,\u001b[49m\n\u001b[1;32m   2589\u001b[0m \u001b[43m        \u001b[49m\u001b[43mhatch\u001b[49m\u001b[38;5;241;43m=\u001b[39;49m\u001b[43mhtch\u001b[49m\u001b[43m,\u001b[49m\n\u001b[1;32m   2590\u001b[0m \u001b[43m        \u001b[49m\u001b[43m)\u001b[49m\n\u001b[1;32m   2591\u001b[0m     r\u001b[38;5;241m.\u001b[39m_internal_update(kwargs)\n\u001b[1;32m   2592\u001b[0m     r\u001b[38;5;241m.\u001b[39mget_path()\u001b[38;5;241m.\u001b[39m_interpolation_steps \u001b[38;5;241m=\u001b[39m \u001b[38;5;241m100\u001b[39m\n",
      "File \u001b[0;32m/opt/gildemeister/miniforge3/envs/cids3.12/lib/python3.12/site-packages/matplotlib/patches.py:762\u001b[0m, in \u001b[0;36mRectangle.__init__\u001b[0;34m(self, xy, width, height, angle, rotation_point, **kwargs)\u001b[0m\n\u001b[1;32m    738\u001b[0m \u001b[38;5;129m@_docstring\u001b[39m\u001b[38;5;241m.\u001b[39mdedent_interpd\n\u001b[1;32m    739\u001b[0m \u001b[38;5;28;01mdef\u001b[39;00m\u001b[38;5;250m \u001b[39m\u001b[38;5;21m__init__\u001b[39m(\u001b[38;5;28mself\u001b[39m, xy, width, height, \u001b[38;5;241m*\u001b[39m,\n\u001b[1;32m    740\u001b[0m              angle\u001b[38;5;241m=\u001b[39m\u001b[38;5;241m0.0\u001b[39m, rotation_point\u001b[38;5;241m=\u001b[39m\u001b[38;5;124m'\u001b[39m\u001b[38;5;124mxy\u001b[39m\u001b[38;5;124m'\u001b[39m, \u001b[38;5;241m*\u001b[39m\u001b[38;5;241m*\u001b[39mkwargs):\n\u001b[1;32m    741\u001b[0m \u001b[38;5;250m    \u001b[39m\u001b[38;5;124;03m\"\"\"\u001b[39;00m\n\u001b[1;32m    742\u001b[0m \u001b[38;5;124;03m    Parameters\u001b[39;00m\n\u001b[1;32m    743\u001b[0m \u001b[38;5;124;03m    ----------\u001b[39;00m\n\u001b[0;32m   (...)\u001b[0m\n\u001b[1;32m    760\u001b[0m \u001b[38;5;124;03m        %(Patch:kwdoc)s\u001b[39;00m\n\u001b[1;32m    761\u001b[0m \u001b[38;5;124;03m    \"\"\"\u001b[39;00m\n\u001b[0;32m--> 762\u001b[0m     \u001b[38;5;28;43msuper\u001b[39;49m\u001b[43m(\u001b[49m\u001b[43m)\u001b[49m\u001b[38;5;241;43m.\u001b[39;49m\u001b[38;5;21;43m__init__\u001b[39;49m\u001b[43m(\u001b[49m\u001b[38;5;241;43m*\u001b[39;49m\u001b[38;5;241;43m*\u001b[39;49m\u001b[43mkwargs\u001b[49m\u001b[43m)\u001b[49m\n\u001b[1;32m    763\u001b[0m     \u001b[38;5;28mself\u001b[39m\u001b[38;5;241m.\u001b[39m_x0 \u001b[38;5;241m=\u001b[39m xy[\u001b[38;5;241m0\u001b[39m]\n\u001b[1;32m    764\u001b[0m     \u001b[38;5;28mself\u001b[39m\u001b[38;5;241m.\u001b[39m_y0 \u001b[38;5;241m=\u001b[39m xy[\u001b[38;5;241m1\u001b[39m]\n",
      "File \u001b[0;32m/opt/gildemeister/miniforge3/envs/cids3.12/lib/python3.12/site-packages/matplotlib/patches.py:98\u001b[0m, in \u001b[0;36mPatch.__init__\u001b[0;34m(self, edgecolor, facecolor, color, linewidth, linestyle, antialiased, hatch, fill, capstyle, joinstyle, **kwargs)\u001b[0m\n\u001b[1;32m     95\u001b[0m \u001b[38;5;28mself\u001b[39m\u001b[38;5;241m.\u001b[39mset_joinstyle(joinstyle)\n\u001b[1;32m     97\u001b[0m \u001b[38;5;28;01mif\u001b[39;00m \u001b[38;5;28mlen\u001b[39m(kwargs):\n\u001b[0;32m---> 98\u001b[0m     \u001b[38;5;28;43mself\u001b[39;49m\u001b[38;5;241;43m.\u001b[39;49m\u001b[43m_internal_update\u001b[49m\u001b[43m(\u001b[49m\u001b[43mkwargs\u001b[49m\u001b[43m)\u001b[49m\n",
      "File \u001b[0;32m/opt/gildemeister/miniforge3/envs/cids3.12/lib/python3.12/site-packages/matplotlib/artist.py:1216\u001b[0m, in \u001b[0;36mArtist._internal_update\u001b[0;34m(self, kwargs)\u001b[0m\n\u001b[1;32m   1209\u001b[0m \u001b[38;5;28;01mdef\u001b[39;00m\u001b[38;5;250m \u001b[39m\u001b[38;5;21m_internal_update\u001b[39m(\u001b[38;5;28mself\u001b[39m, kwargs):\n\u001b[1;32m   1210\u001b[0m \u001b[38;5;250m    \u001b[39m\u001b[38;5;124;03m\"\"\"\u001b[39;00m\n\u001b[1;32m   1211\u001b[0m \u001b[38;5;124;03m    Update artist properties without prenormalizing them, but generating\u001b[39;00m\n\u001b[1;32m   1212\u001b[0m \u001b[38;5;124;03m    errors as if calling `set`.\u001b[39;00m\n\u001b[1;32m   1213\u001b[0m \n\u001b[1;32m   1214\u001b[0m \u001b[38;5;124;03m    The lack of prenormalization is to maintain backcompatibility.\u001b[39;00m\n\u001b[1;32m   1215\u001b[0m \u001b[38;5;124;03m    \"\"\"\u001b[39;00m\n\u001b[0;32m-> 1216\u001b[0m     \u001b[38;5;28;01mreturn\u001b[39;00m \u001b[38;5;28;43mself\u001b[39;49m\u001b[38;5;241;43m.\u001b[39;49m\u001b[43m_update_props\u001b[49m\u001b[43m(\u001b[49m\n\u001b[1;32m   1217\u001b[0m \u001b[43m        \u001b[49m\u001b[43mkwargs\u001b[49m\u001b[43m,\u001b[49m\u001b[43m \u001b[49m\u001b[38;5;124;43m\"\u001b[39;49m\u001b[38;5;132;43;01m{cls.__name__}\u001b[39;49;00m\u001b[38;5;124;43m.set() got an unexpected keyword argument \u001b[39;49m\u001b[38;5;124;43m\"\u001b[39;49m\n\u001b[1;32m   1218\u001b[0m \u001b[43m        \u001b[49m\u001b[38;5;124;43m\"\u001b[39;49m\u001b[38;5;132;43;01m{prop_name!r}\u001b[39;49;00m\u001b[38;5;124;43m\"\u001b[39;49m\u001b[43m)\u001b[49m\n",
      "File \u001b[0;32m/opt/gildemeister/miniforge3/envs/cids3.12/lib/python3.12/site-packages/matplotlib/artist.py:1192\u001b[0m, in \u001b[0;36mArtist._update_props\u001b[0;34m(self, props, errfmt)\u001b[0m\n\u001b[1;32m   1189\u001b[0m             \u001b[38;5;28;01mif\u001b[39;00m \u001b[38;5;129;01mnot\u001b[39;00m \u001b[38;5;28mcallable\u001b[39m(func):\n\u001b[1;32m   1190\u001b[0m                 \u001b[38;5;28;01mraise\u001b[39;00m \u001b[38;5;167;01mAttributeError\u001b[39;00m(\n\u001b[1;32m   1191\u001b[0m                     errfmt\u001b[38;5;241m.\u001b[39mformat(\u001b[38;5;28mcls\u001b[39m\u001b[38;5;241m=\u001b[39m\u001b[38;5;28mtype\u001b[39m(\u001b[38;5;28mself\u001b[39m), prop_name\u001b[38;5;241m=\u001b[39mk))\n\u001b[0;32m-> 1192\u001b[0m             ret\u001b[38;5;241m.\u001b[39mappend(func(v))\n\u001b[1;32m   1193\u001b[0m \u001b[38;5;28;01mif\u001b[39;00m ret:\n\u001b[1;32m   1194\u001b[0m     \u001b[38;5;28mself\u001b[39m\u001b[38;5;241m.\u001b[39mpchanged()\n",
      "\u001b[0;31mKeyboardInterrupt\u001b[0m: "
     ]
    },
    {
     "data": {
      "image/png": "[encoded data removed]",
      "text/plain": [
       "<Figure size 640x480 with 1 Axes>"
      ]
     },
     "metadata": {},
     "output_type": "display_data"
    }
   ],
   "source": [
    "occurences = {}\n",
    "for j, b in enumerate(val):\n",
    "    for i in range(b[0].size(0)):\n",
    "        if b[3][i] in occurences:\n",
    "            occurences[b[3][i]] += 1\n",
    "        else:\n",
    "            occurences[b[3][i]] = 1\n",
    "print(\"Start plotting\")\n",
    "plt.bar(occurences.keys(), occurences.values())\n",
    "plt.yscale(\"log\")\n",
    "\n",
    "plt.show()"
   ]
  },
  {
   "cell_type": "code",
   "execution_count": null,
   "metadata": {},
   "outputs": [],
   "source": []
  }
 ],
 "metadata": {
  "kernelspec": {
   "display_name": "cids3.12",
   "language": "python",
   "name": "python3"
  },
  "language_info": {
   "codemirror_mode": {
    "name": "ipython",
    "version": 3
   },
   "file_extension": ".py",
   "mimetype": "text/x-python",
   "name": "python",
   "nbconvert_exporter": "python",
   "pygments_lexer": "ipython3",
   "version": "3.12.8"
  }
 },
 "nbformat": 4,
 "nbformat_minor": 2
}
