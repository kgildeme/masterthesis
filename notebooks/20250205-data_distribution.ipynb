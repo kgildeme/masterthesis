{
 "cells": [
  {
   "cell_type": "code",
   "execution_count": 1,
   "metadata": {},
   "outputs": [],
   "source": [
    "import os\n",
    "os.chdir(\"../\")"
   ]
  },
  {
   "cell_type": "code",
   "execution_count": 2,
   "metadata": {},
   "outputs": [],
   "source": [
    "from cids.data import OpTCDataset, Undersampling, OpTCDatasetWithIndexing, OpTCDatasetUndersampling\n",
    "import torch\n",
    "import random\n",
    "import matplotlib.pyplot as plt"
   ]
  },
  {
   "cell_type": "code",
   "execution_count": 8,
   "metadata": {},
   "outputs": [
    {
     "ename": "Exception",
     "evalue": "Error: No data found for cids-v5_10_eval in stage 4",
     "output_type": "error",
     "traceback": [
      "\u001b[0;31m---------------------------------------------------------------------------\u001b[0m",
      "\u001b[0;31mException\u001b[0m                                 Traceback (most recent call last)",
      "Cell \u001b[0;32mIn[8], line 9\u001b[0m\n\u001b[1;32m      6\u001b[0m n_benign \u001b[38;5;241m=\u001b[39m \u001b[38;5;241m0\u001b[39m\n\u001b[1;32m      7\u001b[0m n_malicious \u001b[38;5;241m=\u001b[39m \u001b[38;5;241m0\u001b[39m\n\u001b[0;32m----> 9\u001b[0m \u001b[43m\u001b[49m\u001b[38;5;28;43;01mfor\u001b[39;49;00m\u001b[43m \u001b[49m\u001b[43m_\u001b[49m\u001b[43m,\u001b[49m\u001b[43m \u001b[49m\u001b[43mlabel\u001b[49m\u001b[43m \u001b[49m\u001b[38;5;129;43;01min\u001b[39;49;00m\u001b[43m \u001b[49m\u001b[43mdataset\u001b[49m\u001b[43m:\u001b[49m\n\u001b[1;32m     10\u001b[0m \u001b[43m    \u001b[49m\u001b[43mlabel\u001b[49m\u001b[43m \u001b[49m\u001b[38;5;241;43m=\u001b[39;49m\u001b[43m \u001b[49m\u001b[43mlabel\u001b[49m\u001b[38;5;241;43m.\u001b[39;49m\u001b[43mitem\u001b[49m\u001b[43m(\u001b[49m\u001b[43m)\u001b[49m\n\u001b[1;32m     11\u001b[0m \u001b[43m    \u001b[49m\u001b[43mn_benign\u001b[49m\u001b[43m \u001b[49m\u001b[38;5;241;43m+\u001b[39;49m\u001b[38;5;241;43m=\u001b[39;49m\u001b[43m \u001b[49m\u001b[43m(\u001b[49m\u001b[38;5;241;43m1\u001b[39;49m\u001b[38;5;241;43m-\u001b[39;49m\u001b[43mlabel\u001b[49m\u001b[43m)\u001b[49m\n",
      "File \u001b[0;32m/opt/gildemeister/gildemeister-implementation/cids/data.py:123\u001b[0m, in \u001b[0;36mOpTCDataset.__iter__\u001b[0;34m(self)\u001b[0m\n\u001b[1;32m    120\u001b[0m \u001b[38;5;28;01melse\u001b[39;00m:\n\u001b[1;32m    121\u001b[0m     \u001b[38;5;66;03m# Handle the case where parts are loaded one by one\u001b[39;00m\n\u001b[1;32m    122\u001b[0m     \u001b[38;5;28;01mfor\u001b[39;00m part \u001b[38;5;129;01min\u001b[39;00m \u001b[38;5;28mself\u001b[39m\u001b[38;5;241m.\u001b[39mpartorder:\n\u001b[0;32m--> 123\u001b[0m         currently_loaded \u001b[38;5;241m=\u001b[39m \u001b[43mopil\u001b[49m\u001b[38;5;241;43m.\u001b[39;49m\u001b[43mload_preprocessed_data_part\u001b[49m\u001b[43m(\u001b[49m\u001b[38;5;28;43mself\u001b[39;49m\u001b[38;5;241;43m.\u001b[39;49m\u001b[43mds_name\u001b[49m\u001b[43m,\u001b[49m\u001b[43m \u001b[49m\u001b[43mstage\u001b[49m\u001b[38;5;241;43m=\u001b[39;49m\u001b[38;5;28;43mself\u001b[39;49m\u001b[38;5;241;43m.\u001b[39;49m\u001b[43mstage\u001b[49m\u001b[43m,\u001b[49m\u001b[43m \u001b[49m\u001b[43mpartnum\u001b[49m\u001b[38;5;241;43m=\u001b[39;49m\u001b[43mpart\u001b[49m\u001b[43m)\u001b[49m\n\u001b[1;32m    125\u001b[0m         \u001b[38;5;66;03m# make sure that windows run over the partition edges. If mult workers are used the worker edges must be loaded beforehand\u001b[39;00m\n\u001b[1;32m    126\u001b[0m         \u001b[38;5;28;01mif\u001b[39;00m part \u001b[38;5;129;01min\u001b[39;00m \u001b[38;5;28mself\u001b[39m\u001b[38;5;241m.\u001b[39mbackup_prev:\n",
      "File \u001b[0;32m/opt/gildemeister/gildemeister-implementation/cids/util/optc_util.py:229\u001b[0m, in \u001b[0;36mload_preprocessed_data_part\u001b[0;34m(ds_name, stage, partnum)\u001b[0m\n\u001b[1;32m    227\u001b[0m     parts\u001b[38;5;241m.\u001b[39msort()\n\u001b[1;32m    228\u001b[0m     \u001b[38;5;28;01mif\u001b[39;00m \u001b[38;5;28mlen\u001b[39m(parts) \u001b[38;5;241m<\u001b[39m \u001b[38;5;241m1\u001b[39m:\n\u001b[0;32m--> 229\u001b[0m         \u001b[38;5;28;01mraise\u001b[39;00m \u001b[38;5;167;01mException\u001b[39;00m(\u001b[38;5;124mf\u001b[39m\u001b[38;5;124m\"\u001b[39m\u001b[38;5;124mError: No data found for \u001b[39m\u001b[38;5;132;01m{\u001b[39;00mds_name\u001b[38;5;132;01m}\u001b[39;00m\u001b[38;5;124m in stage \u001b[39m\u001b[38;5;132;01m{\u001b[39;00mstage\u001b[38;5;132;01m}\u001b[39;00m\u001b[38;5;124m\"\u001b[39m)\n\u001b[1;32m    230\u001b[0m     \u001b[38;5;28;01mraise\u001b[39;00m \u001b[38;5;167;01mException\u001b[39;00m(\u001b[38;5;124mf\u001b[39m\u001b[38;5;124m\"\u001b[39m\u001b[38;5;124mError: Part \u001b[39m\u001b[38;5;132;01m{\u001b[39;00mpartnum\u001b[38;5;132;01m}\u001b[39;00m\u001b[38;5;124m not found for \u001b[39m\u001b[38;5;132;01m{\u001b[39;00mds_name\u001b[38;5;132;01m}\u001b[39;00m\u001b[38;5;124m in stage \u001b[39m\u001b[38;5;132;01m{\u001b[39;00mstage\u001b[38;5;132;01m}\u001b[39;00m\u001b[38;5;124m. Found \u001b[39m\u001b[38;5;132;01m{\u001b[39;00m\u001b[38;5;28mlen\u001b[39m(parts)\u001b[38;5;132;01m}\u001b[39;00m\u001b[38;5;124m parts\u001b[39m\u001b[38;5;124m\"\u001b[39m)\n\u001b[1;32m    231\u001b[0m \u001b[38;5;28;01mreturn\u001b[39;00m pd\u001b[38;5;241m.\u001b[39mread_parquet(part, engine\u001b[38;5;241m=\u001b[39m\u001b[38;5;124m\"\u001b[39m\u001b[38;5;124mpyarrow\u001b[39m\u001b[38;5;124m\"\u001b[39m)\n",
      "\u001b[0;31mException\u001b[0m: Error: No data found for cids-v5_10_eval in stage 4"
     ]
    }
   ],
   "source": [
    "host = [10, 69, 104, 170, 203, 205, 255, 321, 355, 358, 419, 462, 503, 559, 609, 618, 771, 874, 851, 955]\n",
    "names = [f\"cids-v5_{h}_eval\" for h in host]\n",
    "for name in names:\n",
    "    dataset = OpTCDataset(name, parts=16, eval_mode=True, shuffle=False, only_benign=False)\n",
    "\n",
    "    n_benign = 0\n",
    "    n_malicious = 0\n",
    "\n",
    "    for _, label in dataset:\n",
    "        label = label.item()\n",
    "        n_benign += (1-label)\n",
    "        n_malicious += label\n",
    "    \n",
    "    print(f\"For dataset {name} the following distribution of labels occured:\\n\\tbenign: {n_benign / (n_benign + n_malicious)}, total = {n_benign} \\n\\tmalicious: {n_malicious / (n_malicious + n_benign)}, total = {n_malicious}\")"
   ]
  },
  {
   "cell_type": "code",
   "execution_count": null,
   "metadata": {},
   "outputs": [
    {
     "name": "stdout",
     "output_type": "stream",
     "text": [
      "For dataset hids-v5_201_eval the following distribution of labels occured:\n",
      "\tbenign: 0.9849995280871293, total = 2014195 \n",
      "\tmalicious: 0.015000471912870702, total = 30674\n",
      "\t and shape torch.Size([102])\n",
      "For dataset hids-v5_203_eval the following distribution of labels occured:\n",
      "\tbenign: 0.9896207136892213, total = 1834452 \n",
      "\tmalicious: 0.010379286310778705, total = 19240\n",
      "\t and shape torch.Size([90])\n",
      "For dataset cids-v5_402_eval-ff the following distribution of labels occured:\n",
      "\tbenign: 0.9951677374378727, total = 2381106 \n",
      "\tmalicious: 0.004832262562127299, total = 11562\n",
      "\t and shape torch.Size([172])\n",
      "For dataset cids-v5_811_eval-ff the following distribution of labels occured:\n",
      "\tbenign: 0.9903571104063511, total = 1809325 \n",
      "\tmalicious: 0.00964288959364884, total = 17617\n",
      "\t and shape torch.Size([167])\n"
     ]
    }
   ],
   "source": [
    "names = [\"hids-v5_201_eval\", \"hids-v5_203_eval\", \"cids-v5_402_eval-ff\", \"cids-v5_811_eval-ff\"]\n",
    "target = {0: 0.67, 1: 0.33}\n",
    "\n",
    "for name in names:\n",
    "    #dataset = Undersampling(OpTCDataset(name, parts=16, eval_mode=True), target, seed=42, online=False)\n",
    "    dataset = OpTCDataset(name, parts=16, eval_mode=True, only_benign=False)\n",
    "\n",
    "    n_benign = 0\n",
    "    n_malicious = 0\n",
    "    pivots = []\n",
    "    shape = None\n",
    "    labels = []\n",
    "\n",
    "    for inp, label in dataset:\n",
    "        shape = inp.shape[1:]\n",
    "        label = label.item()\n",
    "        n_benign += (1-label)\n",
    "        n_malicious += label\n",
    "    \n",
    "    print(f\"For dataset {name} the following distribution of labels occured:\\n\\tbenign: {n_benign / (n_benign + n_malicious)}, total = {n_benign} \\n\\tmalicious: {n_malicious / (n_malicious + n_benign)}, total = {n_malicious}\\n\\t and shape {shape}\")"
   ]
  },
  {
   "cell_type": "code",
   "execution_count": 5,
   "metadata": {},
   "outputs": [
    {
     "name": "stdout",
     "output_type": "stream",
     "text": [
      "For dataset cids-v5_201_eval-ff_eval--benign_only--503-559-609 the following distribution of labels occured:\n",
      "\tbenign: 0.9791057532817777, total = 405527 \n",
      "\tmalicious: 0.020894246718222226, total = 8654\n",
      "\t and shape torch.Size([169])\n",
      "For dataset cids-v5_201_eval-ff_train--201 the following distribution of labels occured:\n",
      "\tbenign: 0.9812936196062335, total = 1608930 \n",
      "\tmalicious: 0.01870638039376653, total = 30671\n",
      "\t and shape torch.Size([169])\n",
      "For dataset cids-v5_201_eval-ff_train--benign_only--771-874-955 the following distribution of labels occured:\n",
      "\tbenign: 0.9920307302440724, total = 1608930 \n",
      "\tmalicious: 0.007969269755927625, total = 12925\n",
      "\t and shape torch.Size([169])\n",
      "For dataset cids-v5_201_eval-ff the following distribution of labels occured:\n",
      "\tbenign: 0.9850014057820426, total = 2014451 \n",
      "\tmalicious: 0.014998594217957337, total = 30674\n",
      "\t and shape torch.Size([169])\n",
      "For dataset cids-v5_811_train-ff_train--104-170-205-255-321-355-419-462 the following distribution of labels occured:\n",
      "\tbenign: 0.9914890116120922, total = 4013142 \n",
      "\tmalicious: 0.00851098838790777, total = 34449\n",
      "\t and shape torch.Size([167])\n",
      "For dataset cids-v5_811_train-ff_eval--503-559-609 the following distribution of labels occured:\n",
      "\tbenign: 0.9845833147743975, total = 552622 \n",
      "\tmalicious: 0.015416685225602423, total = 8653\n",
      "\t and shape torch.Size([167])\n",
      "For dataset cids-v5_811_eval-ff the following distribution of labels occured:\n",
      "\tbenign: 0.9903571104063511, total = 1809325 \n",
      "\tmalicious: 0.00964288959364884, total = 17617\n",
      "\t and shape torch.Size([167])\n",
      "For dataset cids-v5_811_eval-ff--benign_only--771-874-955 the following distribution of labels occured:\n",
      "\tbenign: 0.9929087822005055, total = 1809332 \n",
      "\tmalicious: 0.007091217799494472, total = 12922\n",
      "\t and shape torch.Size([167])\n",
      "For dataset cids-v5_402_train-ff_train--104-170-205-255-321-355-419-462 the following distribution of labels occured:\n",
      "\tbenign: 0.9959061496057677, total = 8379881 \n",
      "\tmalicious: 0.004093850394232314, total = 34447\n",
      "\t and shape torch.Size([172])\n",
      "For dataset cids-v5_402_train-ff_eval--503-559-609 the following distribution of labels occured:\n",
      "\tbenign: 0.9953218049950125, total = 1840992 \n",
      "\tmalicious: 0.004678195004987443, total = 8653\n",
      "\t and shape torch.Size([172])\n",
      "For dataset cids-v5_402_eval-ff the following distribution of labels occured:\n",
      "\tbenign: 0.9951677374378727, total = 2381106 \n",
      "\tmalicious: 0.004832262562127299, total = 11562\n",
      "\t and shape torch.Size([172])\n",
      "For dataset cids-v5_811_eval-ff--benign_only--771-874-955 the following distribution of labels occured:\n",
      "\tbenign: 0.9929087822005055, total = 1809332 \n",
      "\tmalicious: 0.007091217799494472, total = 12922\n",
      "\t and shape torch.Size([167])\n"
     ]
    }
   ],
   "source": [
    "names = [ \n",
    "    \"cids-v5_201_eval-ff_eval--benign_only--503-559-609\", \"cids-v5_201_eval-ff_train--201\", \"cids-v5_201_eval-ff_train--benign_only--771-874-955\", \"cids-v5_201_eval-ff\",\n",
    "    \"cids-v5_811_train-ff_train--104-170-205-255-321-355-419-462\", \"cids-v5_811_train-ff_eval--503-559-609\", \"cids-v5_811_eval-ff\", \"cids-v5_811_eval-ff--benign_only--771-874-955\",\n",
    "    \"cids-v5_402_train-ff_train--104-170-205-255-321-355-419-462\", \"cids-v5_402_train-ff_eval--503-559-609\", \"cids-v5_402_eval-ff\", \"cids-v5_811_eval-ff--benign_only--771-874-955\"\n",
    "    ]\n",
    "for name in names:\n",
    "    #dataset = Undersampling(OpTCDataset(name, parts=16, eval_mode=True), target, seed=42, online=False)\n",
    "    dataset = OpTCDataset(name, parts=4 if \"--\" in name else 16, eval_mode=True, only_benign=False, stage=5 if \"--\" in name else 4)\n",
    "\n",
    "    n_benign = 0\n",
    "    n_malicious = 0\n",
    "    pivots = []\n",
    "    shape = None\n",
    "    labels = []\n",
    "\n",
    "    for inp, label in dataset:\n",
    "        shape = inp.shape[1:]\n",
    "        label = label.item()\n",
    "        n_benign += (1-label)\n",
    "        n_malicious += label\n",
    "    \n",
    "    print(f\"For dataset {name} the following distribution of labels occured:\\n\\tbenign: {n_benign / (n_benign + n_malicious)}, total = {n_benign} \\n\\tmalicious: {n_malicious / (n_malicious + n_benign)}, total = {n_malicious}\\n\\t and shape {shape}\")"
   ]
  },
  {
   "cell_type": "code",
   "execution_count": 24,
   "metadata": {},
   "outputs": [
    {
     "name": "stdout",
     "output_type": "stream",
     "text": [
      "21.99930788289757\n",
      "For dataset hids-v5_201_eval the following distribution of labels occured:\n",
      "\tbenign: 0.6699022857388834, total = 62250 \n",
      "\tmalicious: 0.3300977142611166, total = 30674\n",
      "22.002062006911395\n",
      "For dataset cids-v5_201_eval the following distribution of labels occured:\n",
      "\tbenign: 0.669713904232753, total = 62197 \n",
      "\tmalicious: 0.33028609576724705, total = 30674\n",
      "31.79409355509356\n",
      "For dataset hids-v5_203_eval the following distribution of labels occured:\n",
      "\tbenign: 0.6703390846940699, total = 39123 \n",
      "\tmalicious: 0.3296609153059301, total = 19240\n",
      "31.924172557172557\n",
      "For dataset cids-v5_203_eval the following distribution of labels occured:\n",
      "\tbenign: 0.6702373810952096, total = 39105 \n",
      "\tmalicious: 0.32976261890479047, total = 19240\n",
      "68.09873378308251\n",
      "For dataset hids-v5_402_eval the following distribution of labels occured:\n",
      "\tbenign: 0.6706545889591523, total = 23544 \n",
      "\tmalicious: 0.3293454110408477, total = 11562\n",
      "68.29099117799689\n",
      "For dataset cids-v5_402_eval the following distribution of labels occured:\n",
      "\tbenign: 0.6705795202005812, total = 23536 \n",
      "\tmalicious: 0.3294204797994188, total = 11562\n"
     ]
    }
   ],
   "source": [
    "names = [\"hids-v5_201_eval\", \"cids-v5_201_eval\", \"hids-v5_203_eval\", \"cids-v5_203_eval\", \"hids-v5_402_eval\", \"cids-v5_402_eval\"]\n",
    "target = {0: 0.67, 1: 0.33}\n",
    "for name in names:\n",
    "    dataset = Undersampling(OpTCDataset(name, parts=16, eval_mode=True, shuffle=True), target, seed=42, online=False)\n",
    "\n",
    "    n_benign = 0\n",
    "    n_malicious = 0\n",
    "\n",
    "    for _, label in dataset:\n",
    "        label = label.item()\n",
    "        n_benign += (1-label)\n",
    "        n_malicious += label\n",
    "    \n",
    "    print(f\"For dataset {name} the following distribution of labels occured:\\n\\tbenign: {n_benign / (n_benign + n_malicious)}, total = {n_benign} \\n\\tmalicious: {n_malicious / (n_malicious + n_benign)}, total = {n_malicious}\")"
   ]
  },
  {
   "cell_type": "code",
   "execution_count": 3,
   "metadata": {},
   "outputs": [
    {
     "name": "stdout",
     "output_type": "stream",
     "text": [
      "For dataset hids-v5_201_eval the following distribution of labels occured:\n",
      "\tbenign: 0.6692895658145058, total = 59455 \n",
      "\tmalicious: 0.3307104341854941, total = 29378\n",
      "For dataset eval hids-v5_201_eval the following distribution of labels occured:\n",
      "\tbenign: 0.673551637279597, total = 2674 \n",
      "\tmalicious: 0.326448362720403, total = 1296\n",
      "For dataset hids-v5_203_eval the following distribution of labels occured:\n",
      "\tbenign: 0.6694271674512904, total = 38962 \n",
      "\tmalicious: 0.33057283254870967, total = 19240\n"
     ]
    },
    {
     "name": "stderr",
     "output_type": "stream",
     "text": [
      "No Malicious samples in dataset\n"
     ]
    },
    {
     "name": "stdout",
     "output_type": "stream",
     "text": [
      "For dataset eval hids-v5_203_eval the following distribution of labels occured:\n",
      "\tbenign: 1.0, total = 345202 \n",
      "\tmalicious: 0.0, total = 0\n",
      "For dataset hids-v5_402_eval the following distribution of labels occured:\n",
      "\tbenign: 0.6691063776547496, total = 21392 \n",
      "\tmalicious: 0.3308936223452504, total = 10579\n",
      "For dataset eval hids-v5_402_eval the following distribution of labels occured:\n",
      "\tbenign: 0.6701342281879195, total = 1997 \n",
      "\tmalicious: 0.32986577181208054, total = 983\n"
     ]
    }
   ],
   "source": [
    "names = [\"hids-v5_201_eval\", \"hids-v5_203_eval\", \"hids-v5_402_eval\"]\n",
    "target = {0: 0.67, 1: 0.33}\n",
    "\n",
    "eval = [3, 6, 12]\n",
    "parts = [i for i in range(16) if i not in eval]\n",
    "\n",
    "for name in names:\n",
    "    dataset = Undersampling(OpTCDatasetWithIndexing(name, parts=parts, last_part=16, eval_mode=True, shuffle=True), target, seed=42, online=False)\n",
    "\n",
    "    n_benign = 0\n",
    "    n_malicious = 0\n",
    "\n",
    "    for _, label in dataset:\n",
    "        label = label.item()\n",
    "        n_benign += (1-label)\n",
    "        n_malicious += label\n",
    "    \n",
    "    print(f\"For dataset {name} the following distribution of labels occured:\\n\\tbenign: {n_benign / (n_benign + n_malicious)}, total = {n_benign} \\n\\tmalicious: {n_malicious / (n_malicious + n_benign)}, total = {n_malicious}\")\n",
    "\n",
    "    dataset = Undersampling(OpTCDatasetWithIndexing(name, parts=eval, last_part=16, eval_mode=True, shuffle=True), target, seed=42, online=False)\n",
    "\n",
    "    n_benign = 0\n",
    "    n_malicious = 0\n",
    "\n",
    "    for _, label in dataset:\n",
    "        label = label.item()\n",
    "        n_benign += (1-label)\n",
    "        n_malicious += label\n",
    "    \n",
    "    print(f\"For dataset eval {name} the following distribution of labels occured:\\n\\tbenign: {n_benign / (n_benign + n_malicious)}, total = {n_benign} \\n\\tmalicious: {n_malicious / (n_malicious + n_benign)}, total = {n_malicious}\")"
   ]
  },
  {
   "cell_type": "code",
   "execution_count": 6,
   "metadata": {},
   "outputs": [
    {
     "name": "stdout",
     "output_type": "stream",
     "text": [
      "For dataset hids-v5_201_eval and part 0 the following distribution of labels occured:\n",
      "\tbenign: 0.998693025294265, total = 127609 \n",
      "\tmalicious: 0.0013069747057350364, total = 167\n",
      "For dataset hids-v5_201_eval and part 1 the following distribution of labels occured:\n",
      "\tbenign: 1.0, total = 133549 \n",
      "\tmalicious: 0.0, total = 0\n",
      "For dataset hids-v5_201_eval and part 2 the following distribution of labels occured:\n",
      "\tbenign: 0.9958192108460702, total = 124573 \n",
      "\tmalicious: 0.004180789153929782, total = 523\n",
      "For dataset hids-v5_201_eval and part 3 the following distribution of labels occured:\n",
      "\tbenign: 0.9991140100972298, total = 130811 \n",
      "\tmalicious: 0.000885989902770246, total = 116\n",
      "For dataset hids-v5_201_eval and part 4 the following distribution of labels occured:\n",
      "\tbenign: 0.9981739914216448, total = 128461 \n",
      "\tmalicious: 0.0018260085783551937, total = 235\n",
      "For dataset hids-v5_201_eval and part 5 the following distribution of labels occured:\n",
      "\tbenign: 0.9983927238379622, total = 131067 \n",
      "\tmalicious: 0.0016072761620378128, total = 211\n",
      "For dataset hids-v5_201_eval and part 6 the following distribution of labels occured:\n",
      "\tbenign: 0.9929000008208092, total = 120966 \n",
      "\tmalicious: 0.007099999179190846, total = 865\n",
      "For dataset hids-v5_201_eval and part 7 the following distribution of labels occured:\n",
      "\tbenign: 0.9938889499035097, total = 126695 \n",
      "\tmalicious: 0.006111050096490264, total = 779\n",
      "For dataset hids-v5_201_eval and part 8 the following distribution of labels occured:\n",
      "\tbenign: 0.9991680849927113, total = 130914 \n",
      "\tmalicious: 0.0008319150072887966, total = 109\n",
      "For dataset hids-v5_201_eval and part 9 the following distribution of labels occured:\n",
      "\tbenign: 0.9975960199004975, total = 125323 \n",
      "\tmalicious: 0.0024039800995024874, total = 302\n",
      "For dataset hids-v5_201_eval and part 10 the following distribution of labels occured:\n",
      "\tbenign: 0.7881272494104993, total = 95257 \n",
      "\tmalicious: 0.21187275058950067, total = 25608\n",
      "For dataset hids-v5_201_eval and part 11 the following distribution of labels occured:\n",
      "\tbenign: 0.9972613951145807, total = 126724 \n",
      "\tmalicious: 0.00273860488541929, total = 348\n",
      "For dataset hids-v5_201_eval and part 12 the following distribution of labels occured:\n",
      "\tbenign: 0.9975287527654433, total = 127151 \n",
      "\tmalicious: 0.002471247234556666, total = 315\n",
      "For dataset hids-v5_201_eval and part 13 the following distribution of labels occured:\n",
      "\tbenign: 0.9930775236853332, total = 123373 \n",
      "\tmalicious: 0.0069224763146667955, total = 860\n",
      "For dataset hids-v5_201_eval and part 14 the following distribution of labels occured:\n",
      "\tbenign: 0.9991019411886615, total = 130164 \n",
      "\tmalicious: 0.0008980588113385681, total = 117\n",
      "For dataset hids-v5_201_eval and part 15 the following distribution of labels occured:\n",
      "\tbenign: 0.9990953459731493, total = 131423 \n",
      "\tmalicious: 0.0009046540268507397, total = 119\n"
     ]
    }
   ],
   "source": [
    "names = [\"hids-v5_201_eval\"]#, \"hids-v5_203_eval\", \"hids-v5_402_eval\"]\n",
    "target = {0: 0.67, 1: 0.33}\n",
    "\n",
    "partss = [[i] for i in range(16)]\n",
    "\n",
    "for name in names:\n",
    "    for parts in partss:\n",
    "        dataset = OpTCDatasetWithIndexing(name, parts=parts, last_part=16, eval_mode=True, shuffle=True)\n",
    "\n",
    "        n_benign = 0\n",
    "        n_malicious = 0\n",
    "\n",
    "        for _, label in dataset:\n",
    "            label = label.item()\n",
    "            n_benign += (1-label)\n",
    "            n_malicious += label\n",
    "        \n",
    "        print(f\"For dataset {name} and part {parts[0]} the following distribution of labels occured:\\n\\tbenign: {n_benign / (n_benign + n_malicious)}, total = {n_benign} \\n\\tmalicious: {n_malicious / (n_malicious + n_benign)}, total = {n_malicious}\")\n"
   ]
  },
  {
   "cell_type": "markdown",
   "metadata": {},
   "source": [
    "## display malicious samples split ecar and zeek"
   ]
  },
  {
   "cell_type": "code",
   "execution_count": 4,
   "metadata": {},
   "outputs": [],
   "source": [
    "from cids.util import optc_util as opil"
   ]
  },
  {
   "cell_type": "code",
   "execution_count": 5,
   "metadata": {},
   "outputs": [],
   "source": [
    "import numpy as np\n",
    "\n",
    "hosts = [51, 69, 104, 170, 201, 203, 205, 255, 321, 351, 355, 358, 402, 419, 462, 559, 609, 618, 771,811, 851, 874, 955]\n",
    "hosts = [201]\n",
    "stage = 2\n",
    "malicious_counts_hids = []\n",
    "benign_counts_hids = []\n",
    "benign_counts_hids_train = []\n",
    "malicious_counts_nids = []\n",
    "\n",
    "for host in hosts:\n",
    "    ds_name = f\"hids-v5_{host}_eval\"\n",
    "    df_hids = opil.load_preprocessed_data_full(ds_name, stage)\n",
    "    n_malicious_hids = df_hids[df_hids['label'] == 1].shape[0]\n",
    "    n_benign_hids = df_hids[df_hids['label'] == 0].shape[0]\n",
    "    benign_counts_hids.append(n_benign_hids)\n",
    "    malicious_counts_hids.append(n_malicious_hids)\n",
    "    ds_name = f\"hids-v5_{host}_train\"\n",
    "    df_hids = opil.load_preprocessed_data_full(ds_name, stage)\n",
    "    n_benign_hids = df_hids.shape[0]\n",
    "    benign_counts_hids_train.append(n_benign_hids)\n",
    "\n",
    "    ds_name = f\"nids-v5_{host}_eval\"\n",
    "    df_nids = opil.load_preprocessed_data_full(ds_name, stage)\n",
    "    n_malicious_nids = df_nids[df_nids['label'] == 1].shape[0]\n",
    "    malicious_counts_nids.append(n_malicious_nids)\n",
    "\n"
   ]
  },
  {
   "cell_type": "code",
   "execution_count": 6,
   "metadata": {},
   "outputs": [
    {
     "name": "stdout",
     "output_type": "stream",
     "text": [
      "[33025]\n",
      "[2103905]\n",
      "[12898000]\n",
      "[1881]\n"
     ]
    }
   ],
   "source": [
    "print(malicious_counts_hids)\n",
    "print(benign_counts_hids)\n",
    "print(benign_counts_hids_train)\n",
    "print(malicious_counts_nids)"
   ]
  },
  {
   "cell_type": "code",
   "execution_count": 7,
   "metadata": {},
   "outputs": [
    {
     "data": {
      "image/png": "[encoded data removed]",
      "text/plain": [
       "<Figure size 800x400 with 1 Axes>"
      ]
     },
     "metadata": {},
     "output_type": "display_data"
    }
   ],
   "source": [
    "# Plotting\n",
    "plt.rcParamsDefault.update({'font.size': 12})\n",
    "x = np.arange(len(hosts))  # the label locations\n",
    "width = 0.35  # the width of the bars\n",
    "\n",
    "fig, ax = plt.subplots(figsize=(8,4))\n",
    "\n",
    "# Updated colors: vivid but decent\n",
    "bars_hids = ax.bar(x - width/2, malicious_counts_hids, width, label='ecar', color='#B2B2FF')\n",
    "bars_nids = ax.bar(x + width/2, malicious_counts_nids, width, label='zeek', color='#FFB2B2') \n",
    "\n",
    "# Add labels, title, and legend\n",
    "ax.set_xlabel('Hosts')\n",
    "ax.set_ylabel('Malicious Event Counts')\n",
    "ax.set_xticks(x)\n",
    "ax.set_xticklabels(hosts)\n",
    "ax.legend()\n",
    "ax.set_yscale('log')\n",
    "ax.set_ylim(bottom=0.5, top=1e5)\n",
    "plt.xticks(rotation=45)\n",
    "fig.tight_layout()\n",
    "fig.savefig(\"plots/malicious_counts.pdf\", bbox_inches='tight')\n",
    "plt.show()"
   ]
  },
  {
   "cell_type": "code",
   "execution_count": 8,
   "metadata": {},
   "outputs": [],
   "source": [
    "import plotly.graph_objects as go\n",
    "\n",
    "transition = [[0.8, 0.2, 0., 0.], [0., 0., 1., 0.], [0.5, 0.25, 0, 0.25]]\n",
    "volume = [100, 20, 10]\n",
    "label = [\n",
    "        \"Target Host,<br>Initial Phase\",\n",
    "        \"Target Host,<br>Evaluation Phase\", \n",
    "        \"External Hosts<br>Malicious\",\n",
    "        \"Train\",\n",
    "        \"Validation\",\n",
    "        \"Test\",\n",
    "        \"Remaining<br>External Hosts\"]\n"
   ]
  },
  {
   "cell_type": "code",
   "execution_count": 12,
   "metadata": {},
   "outputs": [
    {
     "data": {
      "application/vnd.plotly.v1+json": {
       "config": {
        "plotlyServerURL": "https://plot.ly"
       },
       "data": [
        {
         "link": {
          "color": [
           "#B5D3EC",
           "#B5D3EC",
           "#E2CBA8",
           "#C3E2B8",
           "#C3E2B8",
           "#C3E2B8"
          ],
          "source": [
           0,
           0,
           1,
           2,
           2,
           2
          ],
          "target": [
           3,
           4,
           5,
           3,
           4,
           6
          ],
          "value": [
           80,
           20,
           20,
           5,
           2.5,
           2.5
          ]
         },
         "node": {
          "color": [
           "#82B9E6",
           "#D3B28C",
           "#A1D193",
           "#A3D8F4",
           "#5789A3",
           "#D3B28C",
           "#A1D193"
          ],
          "label": [
           "Target Host,<br>Initial Phase",
           "Target Host,<br>Evaluation Phase",
           "External Hosts<br>Malicious",
           "Train",
           "Validation",
           "Test",
           "Remaining<br>External Hosts"
          ],
          "line": {
           "color": "gray",
           "width": 0.5
          },
          "pad": 10,
          "thickness": 15,
          "x": [
           0,
           0,
           0,
           0.7,
           0.7,
           0.7,
           0.7
          ]
         },
         "type": "sankey"
        }
       ],
       "layout": {
        "font": {
         "size": 11
        },
        "height": 400,
        "margin": {
         "b": 10,
         "l": 10,
         "r": 10,
         "t": 10
        },
        "paper_bgcolor": "white",
        "plot_bgcolor": "white",
        "template": {
         "data": {
          "bar": [
           {
            "error_x": {
             "color": "#2a3f5f"
            },
            "error_y": {
             "color": "#2a3f5f"
            },
            "marker": {
             "line": {
              "color": "#E5ECF6",
              "width": 0.5
             },
             "pattern": {
              "fillmode": "overlay",
              "size": 10,
              "solidity": 0.2
             }
            },
            "type": "bar"
           }
          ],
          "barpolar": [
           {
            "marker": {
             "line": {
              "color": "#E5ECF6",
              "width": 0.5
             },
             "pattern": {
              "fillmode": "overlay",
              "size": 10,
              "solidity": 0.2
             }
            },
            "type": "barpolar"
           }
          ],
          "carpet": [
           {
            "aaxis": {
             "endlinecolor": "#2a3f5f",
             "gridcolor": "white",
             "linecolor": "white",
             "minorgridcolor": "white",
             "startlinecolor": "#2a3f5f"
            },
            "baxis": {
             "endlinecolor": "#2a3f5f",
             "gridcolor": "white",
             "linecolor": "white",
             "minorgridcolor": "white",
             "startlinecolor": "#2a3f5f"
            },
            "type": "carpet"
           }
          ],
          "choropleth": [
           {
            "colorbar": {
             "outlinewidth": 0,
             "ticks": ""
            },
            "type": "choropleth"
           }
          ],
          "contour": [
           {
            "colorbar": {
             "outlinewidth": 0,
             "ticks": ""
            },
            "colorscale": [
             [
              0,
              "#0d0887"
             ],
             [
              0.1111111111111111,
              "#46039f"
             ],
             [
              0.2222222222222222,
              "#7201a8"
             ],
             [
              0.3333333333333333,
              "#9c179e"
             ],
             [
              0.4444444444444444,
              "#bd3786"
             ],
             [
              0.5555555555555556,
              "#d8576b"
             ],
             [
              0.6666666666666666,
              "#ed7953"
             ],
             [
              0.7777777777777778,
              "#fb9f3a"
             ],
             [
              0.8888888888888888,
              "#fdca26"
             ],
             [
              1,
              "#f0f921"
             ]
            ],
            "type": "contour"
           }
          ],
          "contourcarpet": [
           {
            "colorbar": {
             "outlinewidth": 0,
             "ticks": ""
            },
            "type": "contourcarpet"
           }
          ],
          "heatmap": [
           {
            "colorbar": {
             "outlinewidth": 0,
             "ticks": ""
            },
            "colorscale": [
             [
              0,
              "#0d0887"
             ],
             [
              0.1111111111111111,
              "#46039f"
             ],
             [
              0.2222222222222222,
              "#7201a8"
             ],
             [
              0.3333333333333333,
              "#9c179e"
             ],
             [
              0.4444444444444444,
              "#bd3786"
             ],
             [
              0.5555555555555556,
              "#d8576b"
             ],
             [
              0.6666666666666666,
              "#ed7953"
             ],
             [
              0.7777777777777778,
              "#fb9f3a"
             ],
             [
              0.8888888888888888,
              "#fdca26"
             ],
             [
              1,
              "#f0f921"
             ]
            ],
            "type": "heatmap"
           }
          ],
          "histogram": [
           {
            "marker": {
             "pattern": {
              "fillmode": "overlay",
              "size": 10,
              "solidity": 0.2
             }
            },
            "type": "histogram"
           }
          ],
          "histogram2d": [
           {
            "colorbar": {
             "outlinewidth": 0,
             "ticks": ""
            },
            "colorscale": [
             [
              0,
              "#0d0887"
             ],
             [
              0.1111111111111111,
              "#46039f"
             ],
             [
              0.2222222222222222,
              "#7201a8"
             ],
             [
              0.3333333333333333,
              "#9c179e"
             ],
             [
              0.4444444444444444,
              "#bd3786"
             ],
             [
              0.5555555555555556,
              "#d8576b"
             ],
             [
              0.6666666666666666,
              "#ed7953"
             ],
             [
              0.7777777777777778,
              "#fb9f3a"
             ],
             [
              0.8888888888888888,
              "#fdca26"
             ],
             [
              1,
              "#f0f921"
             ]
            ],
            "type": "histogram2d"
           }
          ],
          "histogram2dcontour": [
           {
            "colorbar": {
             "outlinewidth": 0,
             "ticks": ""
            },
            "colorscale": [
             [
              0,
              "#0d0887"
             ],
             [
              0.1111111111111111,
              "#46039f"
             ],
             [
              0.2222222222222222,
              "#7201a8"
             ],
             [
              0.3333333333333333,
              "#9c179e"
             ],
             [
              0.4444444444444444,
              "#bd3786"
             ],
             [
              0.5555555555555556,
              "#d8576b"
             ],
             [
              0.6666666666666666,
              "#ed7953"
             ],
             [
              0.7777777777777778,
              "#fb9f3a"
             ],
             [
              0.8888888888888888,
              "#fdca26"
             ],
             [
              1,
              "#f0f921"
             ]
            ],
            "type": "histogram2dcontour"
           }
          ],
          "mesh3d": [
           {
            "colorbar": {
             "outlinewidth": 0,
             "ticks": ""
            },
            "type": "mesh3d"
           }
          ],
          "parcoords": [
           {
            "line": {
             "colorbar": {
              "outlinewidth": 0,
              "ticks": ""
             }
            },
            "type": "parcoords"
           }
          ],
          "pie": [
           {
            "automargin": true,
            "type": "pie"
           }
          ],
          "scatter": [
           {
            "fillpattern": {
             "fillmode": "overlay",
             "size": 10,
             "solidity": 0.2
            },
            "type": "scatter"
           }
          ],
          "scatter3d": [
           {
            "line": {
             "colorbar": {
              "outlinewidth": 0,
              "ticks": ""
             }
            },
            "marker": {
             "colorbar": {
              "outlinewidth": 0,
              "ticks": ""
             }
            },
            "type": "scatter3d"
           }
          ],
          "scattercarpet": [
           {
            "marker": {
             "colorbar": {
              "outlinewidth": 0,
              "ticks": ""
             }
            },
            "type": "scattercarpet"
           }
          ],
          "scattergeo": [
           {
            "marker": {
             "colorbar": {
              "outlinewidth": 0,
              "ticks": ""
             }
            },
            "type": "scattergeo"
           }
          ],
          "scattergl": [
           {
            "marker": {
             "colorbar": {
              "outlinewidth": 0,
              "ticks": ""
             }
            },
            "type": "scattergl"
           }
          ],
          "scattermap": [
           {
            "marker": {
             "colorbar": {
              "outlinewidth": 0,
              "ticks": ""
             }
            },
            "type": "scattermap"
           }
          ],
          "scattermapbox": [
           {
            "marker": {
             "colorbar": {
              "outlinewidth": 0,
              "ticks": ""
             }
            },
            "type": "scattermapbox"
           }
          ],
          "scatterpolar": [
           {
            "marker": {
             "colorbar": {
              "outlinewidth": 0,
              "ticks": ""
             }
            },
            "type": "scatterpolar"
           }
          ],
          "scatterpolargl": [
           {
            "marker": {
             "colorbar": {
              "outlinewidth": 0,
              "ticks": ""
             }
            },
            "type": "scatterpolargl"
           }
          ],
          "scatterternary": [
           {
            "marker": {
             "colorbar": {
              "outlinewidth": 0,
              "ticks": ""
             }
            },
            "type": "scatterternary"
           }
          ],
          "surface": [
           {
            "colorbar": {
             "outlinewidth": 0,
             "ticks": ""
            },
            "colorscale": [
             [
              0,
              "#0d0887"
             ],
             [
              0.1111111111111111,
              "#46039f"
             ],
             [
              0.2222222222222222,
              "#7201a8"
             ],
             [
              0.3333333333333333,
              "#9c179e"
             ],
             [
              0.4444444444444444,
              "#bd3786"
             ],
             [
              0.5555555555555556,
              "#d8576b"
             ],
             [
              0.6666666666666666,
              "#ed7953"
             ],
             [
              0.7777777777777778,
              "#fb9f3a"
             ],
             [
              0.8888888888888888,
              "#fdca26"
             ],
             [
              1,
              "#f0f921"
             ]
            ],
            "type": "surface"
           }
          ],
          "table": [
           {
            "cells": {
             "fill": {
              "color": "#EBF0F8"
             },
             "line": {
              "color": "white"
             }
            },
            "header": {
             "fill": {
              "color": "#C8D4E3"
             },
             "line": {
              "color": "white"
             }
            },
            "type": "table"
           }
          ]
         },
         "layout": {
          "annotationdefaults": {
           "arrowcolor": "#2a3f5f",
           "arrowhead": 0,
           "arrowwidth": 1
          },
          "autotypenumbers": "strict",
          "coloraxis": {
           "colorbar": {
            "outlinewidth": 0,
            "ticks": ""
           }
          },
          "colorscale": {
           "diverging": [
            [
             0,
             "#8e0152"
            ],
            [
             0.1,
             "#c51b7d"
            ],
            [
             0.2,
             "#de77ae"
            ],
            [
             0.3,
             "#f1b6da"
            ],
            [
             0.4,
             "#fde0ef"
            ],
            [
             0.5,
             "#f7f7f7"
            ],
            [
             0.6,
             "#e6f5d0"
            ],
            [
             0.7,
             "#b8e186"
            ],
            [
             0.8,
             "#7fbc41"
            ],
            [
             0.9,
             "#4d9221"
            ],
            [
             1,
             "#276419"
            ]
           ],
           "sequential": [
            [
             0,
             "#0d0887"
            ],
            [
             0.1111111111111111,
             "#46039f"
            ],
            [
             0.2222222222222222,
             "#7201a8"
            ],
            [
             0.3333333333333333,
             "#9c179e"
            ],
            [
             0.4444444444444444,
             "#bd3786"
            ],
            [
             0.5555555555555556,
             "#d8576b"
            ],
            [
             0.6666666666666666,
             "#ed7953"
            ],
            [
             0.7777777777777778,
             "#fb9f3a"
            ],
            [
             0.8888888888888888,
             "#fdca26"
            ],
            [
             1,
             "#f0f921"
            ]
           ],
           "sequentialminus": [
            [
             0,
             "#0d0887"
            ],
            [
             0.1111111111111111,
             "#46039f"
            ],
            [
             0.2222222222222222,
             "#7201a8"
            ],
            [
             0.3333333333333333,
             "#9c179e"
            ],
            [
             0.4444444444444444,
             "#bd3786"
            ],
            [
             0.5555555555555556,
             "#d8576b"
            ],
            [
             0.6666666666666666,
             "#ed7953"
            ],
            [
             0.7777777777777778,
             "#fb9f3a"
            ],
            [
             0.8888888888888888,
             "#fdca26"
            ],
            [
             1,
             "#f0f921"
            ]
           ]
          },
          "colorway": [
           "#636efa",
           "#EF553B",
           "#00cc96",
           "#ab63fa",
           "#FFA15A",
           "#19d3f3",
           "#FF6692",
           "#B6E880",
           "#FF97FF",
           "#FECB52"
          ],
          "font": {
           "color": "#2a3f5f"
          },
          "geo": {
           "bgcolor": "white",
           "lakecolor": "white",
           "landcolor": "#E5ECF6",
           "showlakes": true,
           "showland": true,
           "subunitcolor": "white"
          },
          "hoverlabel": {
           "align": "left"
          },
          "hovermode": "closest",
          "mapbox": {
           "style": "light"
          },
          "paper_bgcolor": "white",
          "plot_bgcolor": "#E5ECF6",
          "polar": {
           "angularaxis": {
            "gridcolor": "white",
            "linecolor": "white",
            "ticks": ""
           },
           "bgcolor": "#E5ECF6",
           "radialaxis": {
            "gridcolor": "white",
            "linecolor": "white",
            "ticks": ""
           }
          },
          "scene": {
           "xaxis": {
            "backgroundcolor": "#E5ECF6",
            "gridcolor": "white",
            "gridwidth": 2,
            "linecolor": "white",
            "showbackground": true,
            "ticks": "",
            "zerolinecolor": "white"
           },
           "yaxis": {
            "backgroundcolor": "#E5ECF6",
            "gridcolor": "white",
            "gridwidth": 2,
            "linecolor": "white",
            "showbackground": true,
            "ticks": "",
            "zerolinecolor": "white"
           },
           "zaxis": {
            "backgroundcolor": "#E5ECF6",
            "gridcolor": "white",
            "gridwidth": 2,
            "linecolor": "white",
            "showbackground": true,
            "ticks": "",
            "zerolinecolor": "white"
           }
          },
          "shapedefaults": {
           "line": {
            "color": "#2a3f5f"
           }
          },
          "ternary": {
           "aaxis": {
            "gridcolor": "white",
            "linecolor": "white",
            "ticks": ""
           },
           "baxis": {
            "gridcolor": "white",
            "linecolor": "white",
            "ticks": ""
           },
           "bgcolor": "#E5ECF6",
           "caxis": {
            "gridcolor": "white",
            "linecolor": "white",
            "ticks": ""
           }
          },
          "title": {
           "x": 0.05
          },
          "xaxis": {
           "automargin": true,
           "gridcolor": "white",
           "linecolor": "white",
           "ticks": "",
           "title": {
            "standoff": 15
           },
           "zerolinecolor": "white",
           "zerolinewidth": 2
          },
          "yaxis": {
           "automargin": true,
           "gridcolor": "white",
           "linecolor": "white",
           "ticks": "",
           "title": {
            "standoff": 15
           },
           "zerolinecolor": "white",
           "zerolinewidth": 2
          }
         }
        },
        "width": 900
       }
      }
     },
     "metadata": {},
     "output_type": "display_data"
    }
   ],
   "source": [
    "\n",
    "transition = [[0.8, 0.2, 0., 0.], [0., 0., 1., 0.], [0.5, 0.25, 0, 0.25]]\n",
    "volume = [100, 20, 10]\n",
    "label = [\n",
    "        \"Target Host,<br>Initial Phase\",\n",
    "        \"Target Host,<br>Evaluation Phase\", \n",
    "        \"External Hosts<br>Malicious\",\n",
    "        \"Train\",\n",
    "        \"Validation\",\n",
    "        \"Test\",\n",
    "        \"Remaining<br>External Hosts\"]\n",
    "# Define source and target indices for the Sankey diagram\n",
    "sources = []\n",
    "targets = []\n",
    "values = []\n",
    "\n",
    "# Map transitions from the first three labels to the last three (Train, Validation, Test)\n",
    "for i, row in enumerate(transition):\n",
    "    for j, frac in enumerate(row):\n",
    "        if frac > 0:\n",
    "            sources.append(i)\n",
    "            targets.append(3 + j)\n",
    "            values.append(volume[i] * frac)\n",
    "\n",
    "# Define muted colors for nodes and links (background-friendly, thesis style)\n",
    "node_colors = [\n",
    "    \"#82B9E6\",  # Target Host, Initial Phase (muted blue)\n",
    "    \"#D3B28C\",  # Target Host, Evaluation Phase (muted beige)\n",
    "    \"#A1D193\",  # External Hosts Malicious (muted green)\n",
    "    \"#A3D8F4\",  # Train (soft blue)\n",
    "    \"#5789A3\",  # Validation (soft yellow-orange)\n",
    "    \"#D3B28C\",  # Test (soft green)\n",
    "    \"#A1D193\"   # Remaining External Hosts (soft pink)\n",
    "]\n",
    "\n",
    "# Muted versions of the source node colors for links\n",
    "link_colors = [\n",
    "    \"#B5D3EC\", \"#B5D3EC\",  # from node 0 (muted blue)\n",
    "    \"#E2CBA8\",             # from node 1 (muted beige)\n",
    "    \"#C3E2B8\", \"#C3E2B8\", \"#C3E2B8\"  # from node 2 (muted green)\n",
    "]\n",
    "\n",
    "# Define manual vertical (y) positions for each node (0 = top, 1 = bottom)\n",
    "# Adjust to your desired visual order\n",
    "\n",
    "# Make the distance between source and target smaller by adjusting node_x\n",
    "node_x = [0.0, 0.0, 0.0, 0.7, 0.7, 0.7, 0.7]  # Move targets closer to sources\n",
    "\n",
    "# Update your Sankey chart with `x` and `y`\n",
    "fig = go.Figure(data=[go.Sankey(\n",
    "    node=dict(\n",
    "        pad=10,  # Reduce padding for a more compact layout\n",
    "        thickness=15,  # Reduce thickness for a smaller appearance\n",
    "        line=dict(color=\"gray\", width=0.5),\n",
    "        label=label,\n",
    "        color=node_colors,\n",
    "        x=node_x\n",
    "    ),\n",
    "    link=dict(\n",
    "        source=sources,\n",
    "        target=targets,\n",
    "        value=values,\n",
    "        color=link_colors\n",
    "    ))])\n",
    "\n",
    "fig.update_layout(\n",
    "    font_size=11,\n",
    "    plot_bgcolor='white',\n",
    "    paper_bgcolor='white',\n",
    "    width=900,\n",
    "    height=400,\n",
    "    margin=dict(l=10, r=10, t=10, b=10)\n",
    ")\n",
    "\n",
    "fig.write_image(\"plots/sankey_compact.pdf\", format=\"pdf\", width=600, height=350, scale=2)\n",
    "fig.show()"
   ]
  },
  {
   "cell_type": "code",
   "execution_count": 45,
   "metadata": {},
   "outputs": [
    {
     "data": {
      "text/html": [
       "<script type=\"esms-options\">{\"shimMode\": true}</script><style>*[data-root-id],\n",
       "*[data-root-id] > * {\n",
       "  box-sizing: border-box;\n",
       "  font-family: var(--jp-ui-font-family);\n",
       "  font-size: var(--jp-ui-font-size1);\n",
       "  color: var(--vscode-editor-foreground, var(--jp-ui-font-color1));\n",
       "}\n",
       "\n",
       "/* Override VSCode background color */\n",
       ".cell-output-ipywidget-background:has(\n",
       "    > .cell-output-ipywidget-background > .lm-Widget > *[data-root-id]\n",
       "  ),\n",
       ".cell-output-ipywidget-background:has(> .lm-Widget > *[data-root-id]) {\n",
       "  background-color: transparent !important;\n",
       "}\n",
       "</style>"
      ]
     },
     "metadata": {},
     "output_type": "display_data"
    },
    {
     "data": {
      "application/javascript": "(function(root) {\n  function now() {\n    return new Date();\n  }\n\n  const force = true;\n  const py_version = '3.7.3'.replace('rc', '-rc.').replace('.dev', '-dev.');\n  const reloading = false;\n  const Bokeh = root.Bokeh;\n\n  // Set a timeout for this load but only if we are not already initializing\n  if (typeof (root._bokeh_timeout) === \"undefined\" || (force || !root._bokeh_is_initializing)) {\n    root._bokeh_timeout = Date.now() + 5000;\n    root._bokeh_failed_load = false;\n  }\n\n  function run_callbacks() {\n    try {\n      root._bokeh_onload_callbacks.forEach(function(callback) {\n        if (callback != null)\n          callback();\n      });\n    } finally {\n      delete root._bokeh_onload_callbacks;\n    }\n    console.debug(\"Bokeh: all callbacks have finished\");\n  }\n\n  function load_libs(css_urls, js_urls, js_modules, js_exports, callback) {\n    if (css_urls == null) css_urls = [];\n    if (js_urls == null) js_urls = [];\n    if (js_modules == null) js_modules = [];\n    if (js_exports == null) js_exports = {};\n\n    root._bokeh_onload_callbacks.push(callback);\n\n    if (root._bokeh_is_loading > 0) {\n      // Don't load bokeh if it is still initializing\n      console.debug(\"Bokeh: BokehJS is being loaded, scheduling callback at\", now());\n      return null;\n    } else if (js_urls.length === 0 && js_modules.length === 0 && Object.keys(js_exports).length === 0) {\n      // There is nothing to load\n      run_callbacks();\n      return null;\n    }\n\n    function on_load() {\n      root._bokeh_is_loading--;\n      if (root._bokeh_is_loading === 0) {\n        console.debug(\"Bokeh: all BokehJS libraries/stylesheets loaded\");\n        run_callbacks()\n      }\n    }\n    window._bokeh_on_load = on_load\n\n    function on_error(e) {\n      const src_el = e.srcElement\n      console.error(\"failed to load \" + (src_el.href || src_el.src));\n    }\n\n    const skip = [];\n    if (window.requirejs) {\n      window.requirejs.config({'packages': {}, 'paths': {}, 'shim': {}});\n      root._bokeh_is_loading = css_urls.length + 0;\n    } else {\n      root._bokeh_is_loading = css_urls.length + js_urls.length + js_modules.length + Object.keys(js_exports).length;\n    }\n\n    const existing_stylesheets = []\n    const links = document.getElementsByTagName('link')\n    for (let i = 0; i < links.length; i++) {\n      const link = links[i]\n      if (link.href != null) {\n        existing_stylesheets.push(link.href)\n      }\n    }\n    for (let i = 0; i < css_urls.length; i++) {\n      const url = css_urls[i];\n      const escaped = encodeURI(url)\n      if (existing_stylesheets.indexOf(escaped) !== -1) {\n        on_load()\n        continue;\n      }\n      const element = document.createElement(\"link\");\n      element.onload = on_load;\n      element.onerror = on_error;\n      element.rel = \"stylesheet\";\n      element.type = \"text/css\";\n      element.href = url;\n      console.debug(\"Bokeh: injecting link tag for BokehJS stylesheet: \", url);\n      document.body.appendChild(element);\n    }    var existing_scripts = []\n    const scripts = document.getElementsByTagName('script')\n    for (let i = 0; i < scripts.length; i++) {\n      var script = scripts[i]\n      if (script.src != null) {\n        existing_scripts.push(script.src)\n      }\n    }\n    for (let i = 0; i < js_urls.length; i++) {\n      const url = js_urls[i];\n      const escaped = encodeURI(url)\n      if (skip.indexOf(escaped) !== -1 || existing_scripts.indexOf(escaped) !== -1) {\n        if (!window.requirejs) {\n          on_load();\n        }\n        continue;\n      }\n      const element = document.createElement('script');\n      element.onload = on_load;\n      element.onerror = on_error;\n      element.async = false;\n      element.src = url;\n      console.debug(\"Bokeh: injecting script tag for BokehJS library: \", url);\n      document.head.appendChild(element);\n    }\n    for (let i = 0; i < js_modules.length; i++) {\n      const url = js_modules[i];\n      const escaped = encodeURI(url)\n      if (skip.indexOf(escaped) !== -1 || existing_scripts.indexOf(escaped) !== -1) {\n        if (!window.requirejs) {\n          on_load();\n        }\n        continue;\n      }\n      var element = document.createElement('script');\n      element.onload = on_load;\n      element.onerror = on_error;\n      element.async = false;\n      element.src = url;\n      element.type = \"module\";\n      console.debug(\"Bokeh: injecting script tag for BokehJS library: \", url);\n      document.head.appendChild(element);\n    }\n    for (const name in js_exports) {\n      const url = js_exports[name];\n      const escaped = encodeURI(url)\n      if (skip.indexOf(escaped) >= 0 || root[name] != null) {\n        if (!window.requirejs) {\n          on_load();\n        }\n        continue;\n      }\n      var element = document.createElement('script');\n      element.onerror = on_error;\n      element.async = false;\n      element.type = \"module\";\n      console.debug(\"Bokeh: injecting script tag for BokehJS library: \", url);\n      element.textContent = `\n      import ${name} from \"${url}\"\n      window.${name} = ${name}\n      window._bokeh_on_load()\n      `\n      document.head.appendChild(element);\n    }\n    if (!js_urls.length && !js_modules.length) {\n      on_load()\n    }\n  };\n\n  function inject_raw_css(css) {\n    const element = document.createElement(\"style\");\n    element.appendChild(document.createTextNode(css));\n    document.body.appendChild(element);\n  }\n\n  const js_urls = [\"https://cdn.holoviz.org/panel/1.7.0/dist/bundled/reactiveesm/es-module-shims@^1.10.0/dist/es-module-shims.min.js\", \"https://cdn.bokeh.org/bokeh/release/bokeh-3.7.3.min.js\", \"https://cdn.bokeh.org/bokeh/release/bokeh-gl-3.7.3.min.js\", \"https://cdn.bokeh.org/bokeh/release/bokeh-widgets-3.7.3.min.js\", \"https://cdn.bokeh.org/bokeh/release/bokeh-tables-3.7.3.min.js\", \"https://cdn.holoviz.org/panel/1.7.0/dist/panel.min.js\"];\n  const js_modules = [];\n  const js_exports = {};\n  const css_urls = [];\n  const inline_js = [    function(Bokeh) {\n      Bokeh.set_log_level(\"info\");\n    },\nfunction(Bokeh) {} // ensure no trailing comma for IE\n  ];\n\n  function run_inline_js() {\n    if ((root.Bokeh !== undefined) || (force === true)) {\n      for (let i = 0; i < inline_js.length; i++) {\n        try {\n          inline_js[i].call(root, root.Bokeh);\n        } catch(e) {\n          if (!reloading) {\n            throw e;\n          }\n        }\n      }\n      // Cache old bokeh versions\n      if (Bokeh != undefined && !reloading) {\n        var NewBokeh = root.Bokeh;\n        if (Bokeh.versions === undefined) {\n          Bokeh.versions = new Map();\n        }\n        if (NewBokeh.version !== Bokeh.version) {\n          Bokeh.versions.set(NewBokeh.version, NewBokeh)\n        }\n        root.Bokeh = Bokeh;\n      }\n    } else if (Date.now() < root._bokeh_timeout) {\n      setTimeout(run_inline_js, 100);\n    } else if (!root._bokeh_failed_load) {\n      console.log(\"Bokeh: BokehJS failed to load within specified timeout.\");\n      root._bokeh_failed_load = true;\n    }\n    root._bokeh_is_initializing = false\n  }\n\n  function load_or_wait() {\n    // Implement a backoff loop that tries to ensure we do not load multiple\n    // versions of Bokeh and its dependencies at the same time.\n    // In recent versions we use the root._bokeh_is_initializing flag\n    // to determine whether there is an ongoing attempt to initialize\n    // bokeh, however for backward compatibility we also try to ensure\n    // that we do not start loading a newer (Panel>=1.0 and Bokeh>3) version\n    // before older versions are fully initialized.\n    if (root._bokeh_is_initializing && Date.now() > root._bokeh_timeout) {\n      // If the timeout and bokeh was not successfully loaded we reset\n      // everything and try loading again\n      root._bokeh_timeout = Date.now() + 5000;\n      root._bokeh_is_initializing = false;\n      root._bokeh_onload_callbacks = undefined;\n      root._bokeh_is_loading = 0\n      console.log(\"Bokeh: BokehJS was loaded multiple times but one version failed to initialize.\");\n      load_or_wait();\n    } else if (root._bokeh_is_initializing || (typeof root._bokeh_is_initializing === \"undefined\" && root._bokeh_onload_callbacks !== undefined)) {\n      setTimeout(load_or_wait, 100);\n    } else {\n      root._bokeh_is_initializing = true\n      root._bokeh_onload_callbacks = []\n      const bokeh_loaded = root.Bokeh != null && (root.Bokeh.version === py_version || (root.Bokeh.versions !== undefined && root.Bokeh.versions.has(py_version)));\n      if (!reloading && !bokeh_loaded) {\n        if (root.Bokeh) {\n          root.Bokeh = undefined;\n        }\n        console.debug(\"Bokeh: BokehJS not loaded, scheduling load and callback at\", now());\n      }\n      load_libs(css_urls, js_urls, js_modules, js_exports, function() {\n        console.debug(\"Bokeh: BokehJS plotting callback run at\", now());\n        run_inline_js();\n      });\n    }\n  }\n  // Give older versions of the autoload script a head-start to ensure\n  // they initialize before we start loading newer version.\n  setTimeout(load_or_wait, 100)\n}(window));",
      "application/vnd.holoviews_load.v0+json": ""
     },
     "metadata": {},
     "output_type": "display_data"
    },
    {
     "data": {
      "application/javascript": "\nif ((window.PyViz === undefined) || (window.PyViz instanceof HTMLElement)) {\n  window.PyViz = {comms: {}, comm_status:{}, kernels:{}, receivers: {}, plot_index: []}\n}\n\n\n    function JupyterCommManager() {\n    }\n\n    JupyterCommManager.prototype.register_target = function(plot_id, comm_id, msg_handler) {\n      if (window.comm_manager || ((window.Jupyter !== undefined) && (Jupyter.notebook.kernel != null))) {\n        var comm_manager = window.comm_manager || Jupyter.notebook.kernel.comm_manager;\n        comm_manager.register_target(comm_id, function(comm) {\n          comm.on_msg(msg_handler);\n        });\n      } else if ((plot_id in window.PyViz.kernels) && (window.PyViz.kernels[plot_id])) {\n        window.PyViz.kernels[plot_id].registerCommTarget(comm_id, function(comm) {\n          comm.onMsg = msg_handler;\n        });\n      } else if (typeof google != 'undefined' && google.colab.kernel != null) {\n        google.colab.kernel.comms.registerTarget(comm_id, (comm) => {\n          var messages = comm.messages[Symbol.asyncIterator]();\n          function processIteratorResult(result) {\n            var message = result.value;\n            console.log(message)\n            var content = {data: message.data, comm_id};\n            var buffers = []\n            for (var buffer of message.buffers || []) {\n              buffers.push(new DataView(buffer))\n            }\n            var metadata = message.metadata || {};\n            var msg = {content, buffers, metadata}\n            msg_handler(msg);\n            return messages.next().then(processIteratorResult);\n          }\n          return messages.next().then(processIteratorResult);\n        })\n      }\n    }\n\n    JupyterCommManager.prototype.get_client_comm = function(plot_id, comm_id, msg_handler) {\n      if (comm_id in window.PyViz.comms) {\n        return window.PyViz.comms[comm_id];\n      } else if (window.comm_manager || ((window.Jupyter !== undefined) && (Jupyter.notebook.kernel != null))) {\n        var comm_manager = window.comm_manager || Jupyter.notebook.kernel.comm_manager;\n        var comm = comm_manager.new_comm(comm_id, {}, {}, {}, comm_id);\n        if (msg_handler) {\n          comm.on_msg(msg_handler);\n        }\n      } else if ((plot_id in window.PyViz.kernels) && (window.PyViz.kernels[plot_id])) {\n        var comm = window.PyViz.kernels[plot_id].connectToComm(comm_id);\n        comm.open();\n        if (msg_handler) {\n          comm.onMsg = msg_handler;\n        }\n      } else if (typeof google != 'undefined' && google.colab.kernel != null) {\n        var comm_promise = google.colab.kernel.comms.open(comm_id)\n        comm_promise.then((comm) => {\n          window.PyViz.comms[comm_id] = comm;\n          if (msg_handler) {\n            var messages = comm.messages[Symbol.asyncIterator]();\n            function processIteratorResult(result) {\n              var message = result.value;\n              var content = {data: message.data};\n              var metadata = message.metadata || {comm_id};\n              var msg = {content, metadata}\n              msg_handler(msg);\n              return messages.next().then(processIteratorResult);\n            }\n            return messages.next().then(processIteratorResult);\n          }\n        })\n        var sendClosure = (data, metadata, buffers, disposeOnDone) => {\n          return comm_promise.then((comm) => {\n            comm.send(data, metadata, buffers, disposeOnDone);\n          });\n        };\n        var comm = {\n          send: sendClosure\n        };\n      }\n      window.PyViz.comms[comm_id] = comm;\n      return comm;\n    }\n    window.PyViz.comm_manager = new JupyterCommManager();\n    \n\n\nvar JS_MIME_TYPE = 'application/javascript';\nvar HTML_MIME_TYPE = 'text/html';\nvar EXEC_MIME_TYPE = 'application/vnd.holoviews_exec.v0+json';\nvar CLASS_NAME = 'output';\n\n/**\n * Render data to the DOM node\n */\nfunction render(props, node) {\n  var div = document.createElement(\"div\");\n  var script = document.createElement(\"script\");\n  node.appendChild(div);\n  node.appendChild(script);\n}\n\n/**\n * Handle when a new output is added\n */\nfunction handle_add_output(event, handle) {\n  var output_area = handle.output_area;\n  var output = handle.output;\n  if ((output.data == undefined) || (!output.data.hasOwnProperty(EXEC_MIME_TYPE))) {\n    return\n  }\n  var id = output.metadata[EXEC_MIME_TYPE][\"id\"];\n  var toinsert = output_area.element.find(\".\" + CLASS_NAME.split(' ')[0]);\n  if (id !== undefined) {\n    var nchildren = toinsert.length;\n    var html_node = toinsert[nchildren-1].children[0];\n    html_node.innerHTML = output.data[HTML_MIME_TYPE];\n    var scripts = [];\n    var nodelist = html_node.querySelectorAll(\"script\");\n    for (var i in nodelist) {\n      if (nodelist.hasOwnProperty(i)) {\n        scripts.push(nodelist[i])\n      }\n    }\n\n    scripts.forEach( function (oldScript) {\n      var newScript = document.createElement(\"script\");\n      var attrs = [];\n      var nodemap = oldScript.attributes;\n      for (var j in nodemap) {\n        if (nodemap.hasOwnProperty(j)) {\n          attrs.push(nodemap[j])\n        }\n      }\n      attrs.forEach(function(attr) { newScript.setAttribute(attr.name, attr.value) });\n      newScript.appendChild(document.createTextNode(oldScript.innerHTML));\n      oldScript.parentNode.replaceChild(newScript, oldScript);\n    });\n    if (JS_MIME_TYPE in output.data) {\n      toinsert[nchildren-1].children[1].textContent = output.data[JS_MIME_TYPE];\n    }\n    output_area._hv_plot_id = id;\n    if ((window.Bokeh !== undefined) && (id in Bokeh.index)) {\n      window.PyViz.plot_index[id] = Bokeh.index[id];\n    } else {\n      window.PyViz.plot_index[id] = null;\n    }\n  } else if (output.metadata[EXEC_MIME_TYPE][\"server_id\"] !== undefined) {\n    var bk_div = document.createElement(\"div\");\n    bk_div.innerHTML = output.data[HTML_MIME_TYPE];\n    var script_attrs = bk_div.children[0].attributes;\n    for (var i = 0; i < script_attrs.length; i++) {\n      toinsert[toinsert.length - 1].childNodes[1].setAttribute(script_attrs[i].name, script_attrs[i].value);\n    }\n    // store reference to server id on output_area\n    output_area._bokeh_server_id = output.metadata[EXEC_MIME_TYPE][\"server_id\"];\n  }\n}\n\n/**\n * Handle when an output is cleared or removed\n */\nfunction handle_clear_output(event, handle) {\n  var id = handle.cell.output_area._hv_plot_id;\n  var server_id = handle.cell.output_area._bokeh_server_id;\n  if (((id === undefined) || !(id in PyViz.plot_index)) && (server_id !== undefined)) { return; }\n  var comm = window.PyViz.comm_manager.get_client_comm(\"hv-extension-comm\", \"hv-extension-comm\", function () {});\n  if (server_id !== null) {\n    comm.send({event_type: 'server_delete', 'id': server_id});\n    return;\n  } else if (comm !== null) {\n    comm.send({event_type: 'delete', 'id': id});\n  }\n  delete PyViz.plot_index[id];\n  if ((window.Bokeh !== undefined) & (id in window.Bokeh.index)) {\n    var doc = window.Bokeh.index[id].model.document\n    doc.clear();\n    const i = window.Bokeh.documents.indexOf(doc);\n    if (i > -1) {\n      window.Bokeh.documents.splice(i, 1);\n    }\n  }\n}\n\n/**\n * Handle kernel restart event\n */\nfunction handle_kernel_cleanup(event, handle) {\n  delete PyViz.comms[\"hv-extension-comm\"];\n  window.PyViz.plot_index = {}\n}\n\n/**\n * Handle update_display_data messages\n */\nfunction handle_update_output(event, handle) {\n  handle_clear_output(event, {cell: {output_area: handle.output_area}})\n  handle_add_output(event, handle)\n}\n\nfunction register_renderer(events, OutputArea) {\n  function append_mime(data, metadata, element) {\n    // create a DOM node to render to\n    var toinsert = this.create_output_subarea(\n    metadata,\n    CLASS_NAME,\n    EXEC_MIME_TYPE\n    );\n    this.keyboard_manager.register_events(toinsert);\n    // Render to node\n    var props = {data: data, metadata: metadata[EXEC_MIME_TYPE]};\n    render(props, toinsert[0]);\n    element.append(toinsert);\n    return toinsert\n  }\n\n  events.on('output_added.OutputArea', handle_add_output);\n  events.on('output_updated.OutputArea', handle_update_output);\n  events.on('clear_output.CodeCell', handle_clear_output);\n  events.on('delete.Cell', handle_clear_output);\n  events.on('kernel_ready.Kernel', handle_kernel_cleanup);\n\n  OutputArea.prototype.register_mime_type(EXEC_MIME_TYPE, append_mime, {\n    safe: true,\n    index: 0\n  });\n}\n\nif (window.Jupyter !== undefined) {\n  try {\n    var events = require('base/js/events');\n    var OutputArea = require('notebook/js/outputarea').OutputArea;\n    if (OutputArea.prototype.mime_types().indexOf(EXEC_MIME_TYPE) == -1) {\n      register_renderer(events, OutputArea);\n    }\n  } catch(err) {\n  }\n}\n",
      "application/vnd.holoviews_load.v0+json": ""
     },
     "metadata": {},
     "output_type": "display_data"
    },
    {
     "data": {
      "application/vnd.holoviews_exec.v0+json": "",
      "text/html": [
       "<div id='1086fe9b-8a5f-4a60-958e-94c647c93649'>\n",
       "  <div id=\"d702096b-05dd-4417-a24f-32e5ed5ea547\" data-root-id=\"1086fe9b-8a5f-4a60-958e-94c647c93649\" style=\"display: contents;\"></div>\n",
       "</div>\n",
       "<script type=\"application/javascript\">(function(root) {\n",
       "  var docs_json = {\"77b3a372-c4a2-40ea-8fe5-78bad5104716\":{\"version\":\"3.7.3\",\"title\":\"Bokeh Application\",\"roots\":[{\"type\":\"object\",\"name\":\"panel.models.browser.BrowserInfo\",\"id\":\"1086fe9b-8a5f-4a60-958e-94c647c93649\"},{\"type\":\"object\",\"name\":\"panel.models.comm_manager.CommManager\",\"id\":\"cfbf5989-47c4-4c0c-8c27-d25e230182ee\",\"attributes\":{\"plot_id\":\"1086fe9b-8a5f-4a60-958e-94c647c93649\",\"comm_id\":\"a67b97326f4b483b90d20e67581dc4ec\",\"client_comm_id\":\"7a903e7a87554529889067aba460f6f2\"}}],\"defs\":[{\"type\":\"model\",\"name\":\"ReactiveHTML1\"},{\"type\":\"model\",\"name\":\"FlexBox1\",\"properties\":[{\"name\":\"align_content\",\"kind\":\"Any\",\"default\":\"flex-start\"},{\"name\":\"align_items\",\"kind\":\"Any\",\"default\":\"flex-start\"},{\"name\":\"flex_direction\",\"kind\":\"Any\",\"default\":\"row\"},{\"name\":\"flex_wrap\",\"kind\":\"Any\",\"default\":\"wrap\"},{\"name\":\"gap\",\"kind\":\"Any\",\"default\":\"\"},{\"name\":\"justify_content\",\"kind\":\"Any\",\"default\":\"flex-start\"}]},{\"type\":\"model\",\"name\":\"FloatPanel1\",\"properties\":[{\"name\":\"config\",\"kind\":\"Any\",\"default\":{\"type\":\"map\"}},{\"name\":\"contained\",\"kind\":\"Any\",\"default\":true},{\"name\":\"position\",\"kind\":\"Any\",\"default\":\"right-top\"},{\"name\":\"offsetx\",\"kind\":\"Any\",\"default\":null},{\"name\":\"offsety\",\"kind\":\"Any\",\"default\":null},{\"name\":\"theme\",\"kind\":\"Any\",\"default\":\"primary\"},{\"name\":\"status\",\"kind\":\"Any\",\"default\":\"normalized\"}]},{\"type\":\"model\",\"name\":\"GridStack1\",\"properties\":[{\"name\":\"ncols\",\"kind\":\"Any\",\"default\":null},{\"name\":\"nrows\",\"kind\":\"Any\",\"default\":null},{\"name\":\"allow_resize\",\"kind\":\"Any\",\"default\":true},{\"name\":\"allow_drag\",\"kind\":\"Any\",\"default\":true},{\"name\":\"state\",\"kind\":\"Any\",\"default\":[]}]},{\"type\":\"model\",\"name\":\"drag1\",\"properties\":[{\"name\":\"slider_width\",\"kind\":\"Any\",\"default\":5},{\"name\":\"slider_color\",\"kind\":\"Any\",\"default\":\"black\"},{\"name\":\"value\",\"kind\":\"Any\",\"default\":50}]},{\"type\":\"model\",\"name\":\"click1\",\"properties\":[{\"name\":\"terminal_output\",\"kind\":\"Any\",\"default\":\"\"},{\"name\":\"debug_name\",\"kind\":\"Any\",\"default\":\"\"},{\"name\":\"clears\",\"kind\":\"Any\",\"default\":0}]},{\"type\":\"model\",\"name\":\"FastWrapper1\",\"properties\":[{\"name\":\"object\",\"kind\":\"Any\",\"default\":null},{\"name\":\"style\",\"kind\":\"Any\",\"default\":null}]},{\"type\":\"model\",\"name\":\"NotificationArea1\",\"properties\":[{\"name\":\"js_events\",\"kind\":\"Any\",\"default\":{\"type\":\"map\"}},{\"name\":\"max_notifications\",\"kind\":\"Any\",\"default\":5},{\"name\":\"notifications\",\"kind\":\"Any\",\"default\":[]},{\"name\":\"position\",\"kind\":\"Any\",\"default\":\"bottom-right\"},{\"name\":\"_clear\",\"kind\":\"Any\",\"default\":0},{\"name\":\"types\",\"kind\":\"Any\",\"default\":[{\"type\":\"map\",\"entries\":[[\"type\",\"warning\"],[\"background\",\"#ffc107\"],[\"icon\",{\"type\":\"map\",\"entries\":[[\"className\",\"fas fa-exclamation-triangle\"],[\"tagName\",\"i\"],[\"color\",\"white\"]]}]]},{\"type\":\"map\",\"entries\":[[\"type\",\"info\"],[\"background\",\"#007bff\"],[\"icon\",{\"type\":\"map\",\"entries\":[[\"className\",\"fas fa-info-circle\"],[\"tagName\",\"i\"],[\"color\",\"white\"]]}]]}]}]},{\"type\":\"model\",\"name\":\"Notification\",\"properties\":[{\"name\":\"background\",\"kind\":\"Any\",\"default\":null},{\"name\":\"duration\",\"kind\":\"Any\",\"default\":3000},{\"name\":\"icon\",\"kind\":\"Any\",\"default\":null},{\"name\":\"message\",\"kind\":\"Any\",\"default\":\"\"},{\"name\":\"notification_type\",\"kind\":\"Any\",\"default\":null},{\"name\":\"_rendered\",\"kind\":\"Any\",\"default\":false},{\"name\":\"_destroyed\",\"kind\":\"Any\",\"default\":false}]},{\"type\":\"model\",\"name\":\"TemplateActions1\",\"properties\":[{\"name\":\"open_modal\",\"kind\":\"Any\",\"default\":0},{\"name\":\"close_modal\",\"kind\":\"Any\",\"default\":0}]},{\"type\":\"model\",\"name\":\"BootstrapTemplateActions1\",\"properties\":[{\"name\":\"open_modal\",\"kind\":\"Any\",\"default\":0},{\"name\":\"close_modal\",\"kind\":\"Any\",\"default\":0}]},{\"type\":\"model\",\"name\":\"TemplateEditor1\",\"properties\":[{\"name\":\"layout\",\"kind\":\"Any\",\"default\":[]}]},{\"type\":\"model\",\"name\":\"MaterialTemplateActions1\",\"properties\":[{\"name\":\"open_modal\",\"kind\":\"Any\",\"default\":0},{\"name\":\"close_modal\",\"kind\":\"Any\",\"default\":0}]},{\"type\":\"model\",\"name\":\"ReactiveESM1\",\"properties\":[{\"name\":\"esm_constants\",\"kind\":\"Any\",\"default\":{\"type\":\"map\"}}]},{\"type\":\"model\",\"name\":\"JSComponent1\",\"properties\":[{\"name\":\"esm_constants\",\"kind\":\"Any\",\"default\":{\"type\":\"map\"}}]},{\"type\":\"model\",\"name\":\"ReactComponent1\",\"properties\":[{\"name\":\"esm_constants\",\"kind\":\"Any\",\"default\":{\"type\":\"map\"}}]},{\"type\":\"model\",\"name\":\"AnyWidgetComponent1\",\"properties\":[{\"name\":\"esm_constants\",\"kind\":\"Any\",\"default\":{\"type\":\"map\"}}]},{\"type\":\"model\",\"name\":\"request_value1\",\"properties\":[{\"name\":\"fill\",\"kind\":\"Any\",\"default\":\"none\"},{\"name\":\"_synced\",\"kind\":\"Any\",\"default\":null},{\"name\":\"_request_sync\",\"kind\":\"Any\",\"default\":0}]}]}};\n",
       "  var render_items = [{\"docid\":\"77b3a372-c4a2-40ea-8fe5-78bad5104716\",\"roots\":{\"1086fe9b-8a5f-4a60-958e-94c647c93649\":\"d702096b-05dd-4417-a24f-32e5ed5ea547\"},\"root_ids\":[\"1086fe9b-8a5f-4a60-958e-94c647c93649\"]}];\n",
       "  var docs = Object.values(docs_json)\n",
       "  if (!docs) {\n",
       "    return\n",
       "  }\n",
       "  const py_version = docs[0].version.replace('rc', '-rc.').replace('.dev', '-dev.')\n",
       "  async function embed_document(root) {\n",
       "    var Bokeh = get_bokeh(root)\n",
       "    await Bokeh.embed.embed_items_notebook(docs_json, render_items);\n",
       "    for (const render_item of render_items) {\n",
       "      for (const root_id of render_item.root_ids) {\n",
       "\tconst id_el = document.getElementById(root_id)\n",
       "\tif (id_el.children.length && id_el.children[0].hasAttribute('data-root-id')) {\n",
       "\t  const root_el = id_el.children[0]\n",
       "\t  root_el.id = root_el.id + '-rendered'\n",
       "\t  for (const child of root_el.children) {\n",
       "            // Ensure JupyterLab does not capture keyboard shortcuts\n",
       "            // see: https://jupyterlab.readthedocs.io/en/4.1.x/extension/notebook.html#keyboard-interaction-model\n",
       "\t    child.setAttribute('data-lm-suppress-shortcuts', 'true')\n",
       "\t  }\n",
       "\t}\n",
       "      }\n",
       "    }\n",
       "  }\n",
       "  function get_bokeh(root) {\n",
       "    if (root.Bokeh === undefined) {\n",
       "      return null\n",
       "    } else if (root.Bokeh.version !== py_version) {\n",
       "      if (root.Bokeh.versions === undefined || !root.Bokeh.versions.has(py_version)) {\n",
       "\treturn null\n",
       "      }\n",
       "      return root.Bokeh.versions.get(py_version);\n",
       "    } else if (root.Bokeh.version === py_version) {\n",
       "      return root.Bokeh\n",
       "    }\n",
       "    return null\n",
       "  }\n",
       "  function is_loaded(root) {\n",
       "    var Bokeh = get_bokeh(root)\n",
       "    return (Bokeh != null && Bokeh.Panel !== undefined)\n",
       "  }\n",
       "  if (is_loaded(root)) {\n",
       "    embed_document(root);\n",
       "  } else {\n",
       "    var attempts = 0;\n",
       "    var timer = setInterval(function(root) {\n",
       "      if (is_loaded(root)) {\n",
       "        clearInterval(timer);\n",
       "        embed_document(root);\n",
       "      } else if (document.readyState == \"complete\") {\n",
       "        attempts++;\n",
       "        if (attempts > 200) {\n",
       "          clearInterval(timer);\n",
       "\t  var Bokeh = get_bokeh(root)\n",
       "\t  if (Bokeh == null || Bokeh.Panel == null) {\n",
       "            console.warn(\"Panel: ERROR: Unable to run Panel code because Bokeh or Panel library is missing\");\n",
       "\t  } else {\n",
       "\t    console.warn(\"Panel: WARNING: Attempting to render but not all required libraries could be resolved.\")\n",
       "\t    embed_document(root)\n",
       "\t  }\n",
       "        }\n",
       "      }\n",
       "    }, 25, root)\n",
       "  }\n",
       "})(window);</script>"
      ]
     },
     "metadata": {
      "application/vnd.holoviews_exec.v0+json": {
       "id": "1086fe9b-8a5f-4a60-958e-94c647c93649"
      }
     },
     "output_type": "display_data"
    },
    {
     "data": {
      "text/html": [
       "\n",
       "<div class=\"logo-block\">\n",
       "<img src='data:image/png;base64,iVBORw0KGgoAAAANSUhEUgAAAEAAAABACAYAAACqaXHeAAAABHNCSVQICAgIfAhkiAAAAAlwSFlz\n",
       "AAAB+wAAAfsBxc2miwAAABl0RVh0U29mdHdhcmUAd3d3Lmlua3NjYXBlLm9yZ5vuPBoAAA6zSURB\n",
       "VHic7ZtpeFRVmsf/5966taWqUlUJ2UioBBJiIBAwCZtog9IOgjqACsogKtqirT2ttt069nQ/zDzt\n",
       "tI4+CrJIREFaFgWhBXpUNhHZQoKBkIUASchWla1S+3ar7r1nPkDaCAnZKoQP/D7mnPOe9/xy76n3\n",
       "nFSAW9ziFoPFNED2LLK5wcyBDObkb8ZkxuaoSYlI6ZcOKq1eWFdedqNzGHQBk9RMEwFAASkk0Xw3\n",
       "ETacDNi2vtvc7L0ROdw0AjoSotQVkKSvHQz/wRO1lScGModBFbDMaNRN1A4tUBCS3lk7BWhQkgpD\n",
       "lG4852/+7DWr1R3uHAZVQDsbh6ZPN7CyxUrCzJMRouusj0ipRwD2uKm0Zn5d2dFwzX1TCGhnmdGo\n",
       "G62Nna+isiUqhkzuKrkQaJlPEv5mFl2fvGg2t/VnzkEV8F5ioioOEWkLG86fvbpthynjdhXYZziQ\n",
       "x1hC9J2NFyi8vCTt91Fh04KGip0AaG9zuCk2wQCVyoNU3Hjezee9bq92duzzTmxsRJoy+jEZZZYo\n",
       "GTKJ6SJngdJqAfRzpze0+jHreUtPc7gpBLQnIYK6BYp/uGhw9YK688eu7v95ysgshcg9qSLMo3JC\n",
       "4jqLKQFBgdKDPoQ+Pltb8dUyQLpeDjeVgI6EgLIQFT5tEl3rn2losHVsexbZ3EyT9wE1uGdkIPcy\n",
       "BGxn8QUq1QrA5nqW5i2tLqvrrM9NK6AdkVIvL9E9bZL/oyfMVd/jqvc8LylzRBKDJSzIExwhQzuL\n",
       "QYGQj4rHfFTc8mUdu3E7yoLtbTe9gI4EqVgVkug2i5+uXGo919ixbRog+3fTbQ8qJe4ZOYNfMoTI\n",
       "OoshUNosgO60AisX15aeI2PSIp5KiFLI9ubb1vV3Qb2ltwLakUCDAkWX7/nHKRmmGIl9VgYsUhJm\n",
       "2NXjKYADtM1ygne9QQDIXlk49FBstMKx66D1v4+XuQr7vqTe0VcBHQlRWiOCbmmSYe2SqtL6q5rJ\n",
       "zsTb7lKx3FKOYC4DoqyS/B5bvLPxvD9Qtf6saxYLQGJErmDOdOMr/zo96km1nElr8bmPOBwI9COv\n",
       "HnFPRIwmkSOv9kcAS4heRsidOkpeWBgZM+UBrTFAXNYL5Vf2ii9c1trNzpYdaoVil3WIc+wdk+gQ\n",
       "noie3ecCcxt9ITcLAPWt/laGEO/9U6PmzZkenTtsSMQ8uYywJVW+grCstAvCIaAdArAsIWkRDDs/\n",
       "KzLm2YcjY1Lv0UdW73HabE9n6V66cxSzfEmuJssTpKGVp+0vHq73FwL46eOjpMpbRAnNmJFrGJNu\n",
       "Ukf9Yrz+3rghiumCKNXXWPhLYcjxGsIpoCMsIRoFITkW8AuyM8jC1+/QLx4bozCEJIq38+1rtpR6\n",
       "V/yzb8eBlRb3fo5l783N0CWolAzJHaVNzkrTzlEp2bQ2q3TC5gn6wpnoQAmwSiGh2GitnTmVMc5O\n",
       "UyfKWUKCIsU7+fZDKwqdT6DDpvkzAX4/+AMFjk0tDp5GRXLpQ2MUmhgDp5gxQT8+Y7hyPsMi8uxF\n",
       "71H0oebujHALECjFKaW9Lm68n18wXp2kVzIcABytD5iXFzg+WVXkegpAsOOYziqo0OkK76GyquC3\n",
       "ltZAzMhhqlSNmmWTE5T6e3IN05ITFLM4GdN0vtZ3ob8Jh1NAKXFbm5PtLU/eqTSlGjkNAJjdgn/N\n",
       "aedXa0tdi7+t9G0FIF49rtMSEgAs1kDLkTPO7ebm4IUWeyh1bKomXqlgMG6kJmHcSM0clYLJ8XtR\n",
       "1GTnbV3F6I5wCGikAb402npp1h1s7LQUZZSMIfALFOuL3UUrfnS8+rez7v9qcold5tilgHbO1fjK\n",
       "9ubb17u9oshxzMiUBKXWqJNxd+fqb0tLVs4lILFnK71H0Ind7uiPgACVcFJlrb0tV6DzxqqTIhUM\n",
       "CwDf1/rrVhTa33/3pGPxJYdQ2l2cbgVcQSosdx8uqnDtbGjh9SlDVSMNWhlnilfqZk42Th2ZpLpf\n",
       "xrHec5e815zrr0dfBZSwzkZfqsv+1FS1KUknUwPARVvItfKUY+cn57yP7qv07UE3p8B2uhUwLk09\n",
       "e0SCOrK+hbdYHYLjRIl71wWzv9jpEoeOHhGRrJAzyEyNiJuUqX0g2sBN5kGK6y2Blp5M3lsB9Qh4\n",
       "y2Ja6x6+i0ucmKgwMATwhSjdUu49tKrQ/pvN5d53ml2CGwCmJipmKjgmyuaXzNeL2a0AkQ01Th5j\n",
       "2DktO3Jyk8f9vcOBQHV94OK+fPumJmvQHxJoWkaKWq9Vs+yUsbq0zGT1I4RgeH2b5wef7+c7bl8F\n",
       "eKgoHVVZa8ZPEORzR6sT1BzDUAD/d9F78e2Tzv99v8D+fLVTqAKAsbGamKey1Mt9Ann4eH3gTXTz\n",
       "idWtAJ8PQWOk7NzSeQn/OTHDuEikVF1R4z8BQCy+6D1aWRfY0tTGG2OM8rRoPaeIj5ZHzJxszElN\n",
       "VM8K8JS5WOfv8mzRnQAKoEhmt8gyPM4lU9SmBK1MCQBnW4KONT86v1hZ1PbwSXPw4JWussVjtH9Y\n",
       "NCoiL9UoH/6PSu8jFrfY2t36erQHXLIEakMi1SydmzB31h3GGXFDFNPaK8Rme9B79Ixrd0WN+1ij\n",
       "NRQ/doRmuFLBkHSTOm5GruG+pFjFdAmorG4IXH1Qua6ASniclfFtDYt+oUjKipPrCQB7QBQ2lrgP\n",
       "fFzm+9XWUtcqJ3/5vDLDpJ79XHZk3u8nGZ42qlj1+ydtbxysCezrydp6ugmipNJ7WBPB5tydY0jP\n",
       "HaVNzs3QzeE4ZpTbI+ZbnSFPbVOw9vsfnVvqWnirPyCNGD08IlqtYkh2hjZ5dErEQzoNm+6ykyOt\n",
       "Lt5/PQEuSRRKo22VkydK+vvS1XEKlhCJAnsqvcVvH7f/ZU2R67eXbMEGAMiIV5oWZWiWvz5Fv2xG\n",
       "sjqNJQRvn3Rs2lji/lNP19VjAQDgD7FHhujZB9OGqYxRkZxixgRDVlqS6uEOFaJUVu0rPFzctrnF\n",
       "JqijImVp8dEKVWyUXDk92zAuMZ6bFwpBU1HrOw6AdhQgUooChb0+ItMbWJitSo5Ws3IAOGEOtL53\n",
       "0vHZih9sC4vtofZ7Qu6523V/fmGcds1TY3V36pUsBwAbSlxnVh2xLfAD/IAIMDf7XYIkNmXfpp2l\n",
       "18rkAJAy9HKFaIr/qULkeQQKy9zf1JgDB2uaeFNGijo5QsUyacNUUTOnGO42xSnv4oOwpDi1zYkc\n",
       "efUc3I5Gk6PhyTuVKaOGyLUAYPGIoY9Pu/atL/L92+4q9wbflRJ2Trpm/jPjdBtfnqB/dIThcl8A\n",
       "KG7hbRuKnb8qsQsVvVlTrwQAQMUlf3kwJI24Z4JhPMtcfng5GcH49GsrxJpGvvHIaeem2ma+KSjQ\n",
       "lIwUdYyCY8j4dE1KzijNnIP2llF2wcXNnsoapw9XxsgYAl6k+KzUXbi2yP3KR2ecf6z3BFsBICdW\n",
       "nvnIaG3eHybqX7vbpEqUMT+9OL4Qpe8VON7dXuFd39v19FoAABRVePbGGuXTszO0P7tu6lghUonE\n",
       "llRdrhArLvmKdh9u29jcFiRRkfLUxBiFNiqSU9icoZQHo5mYBI1MBgBH6wMNb+U7Pnw337H4gi1Y\n",
       "ciWs+uks3Z9fztUvfzxTm9Ne8XXkvQLHNytOOZeiD4e0PgkAIAYCYknKUNUDSXEKzdWNpnil7r4p\n",
       "xqkjTarZMtk/K8TQ6Qve78qqvXurGwIJqcOUKfUWHsm8KGvxSP68YudXq4pcj39X49uOK2X142O0\n",
       "Tz5/u/7TVybqH0rSya6ZBwD21/gubbrgWdDgEOx9WUhfBaC2ibcEBYm7a7x+ukrBMNcEZggyR0TE\n",
       "T8zUPjikQ4VosQZbTpS4vqizBKvqmvjsqnpfzaZyx9JPiz1/bfGKdgD45XB1zoIMzYbfTdS/NClB\n",
       "Gct0USiY3YL/g0LHy/uq/Ef6uo5+n0R/vyhp17Klpge763f8rMu6YU/zrn2nml+2WtH+Z+5IAAFc\n",
       "2bUTdTDOSNa9+cQY7YLsOIXhevEkCvzph7a8laecz/Un/z4/Ae04XeL3UQb57IwU9ZDr9UuKVajv\n",
       "nxp1+1UVIo/LjztZkKH59fO3G/JemqCfmaCRqbqbd90ZZ8FfjtkfAyD0J/9+C2h1hDwsSxvGjNDc\n",
       "b4zk5NfrSwiQblLHzZhg+Jf4aPlUwpDqkQqa9nimbt1/TDH8OitGMaQnj+RJS6B1fbF7SY1TqO5v\n",
       "/v0WAADl1f7zokgS7s7VT2DZ7pegUjBM7mjtiDZbcN4j0YrHH0rXpCtY0qPX0cVL0rv5jv/ZXend\n",
       "0u/EESYBAFBU4T4Qa5TflZOhTe7pmKpaP8kCVUVw1+yhXfJWvn1P3hnXi33JsTN6PnP3hHZ8Z3/h\n",
       "aLHzmkNPuPj7Bc/F/Q38CwjTpSwQXgE4Vmwry9tpfq/ZFgqFMy4AVDtCvi8rvMvOmv0N4YwbVgEA\n",
       "sPM72/KVnzfspmH7HQGCRLG2yL1+z8XwvPcdCbsAANh+xPzstgMtxeGKt+6MK3/tacfvwhWvIwMi\n",
       "oKEBtm0H7W+UVfkc/Y1V0BhoPlDr/w1w/eu1vjIgAgDg22OtX6/eYfnEz/focrZTHAFR+PSs56/7\n",
       "q32nwpjazxgwAQCwcU/T62t3WL7r6/jVRa6/byp1rei+Z98ZUAEAhEPHPc8fKnTU9nbgtnOe8h0l\n",
       "9hcGIqmODLQAHCy2Xti6v/XNRivf43f4fFvIteu854+VHnR7q9tfBlwAAGz+pnndB9vM26UebAe8\n",
       "SLHujPOTPVW+rwY+sxskAAC2HrA8t2Vvc7ffP1r9o+vwR2dcr92InIAbKKC1FZ5tB1tf+/G8p8sv\n",
       "N/9Q5zd/XR34LYCwV5JdccMEAMDBk45DH243r/X4xGvqxFa/GNpS7n6rwOwNWwHVE26oAADYurf1\n",
       "zx/utOzt+DMKYM0p17YtZZ5VNzqfsB2HewG1WXE8PoZ7gOclbTIvynZf9JV+fqZtfgs/8F/Nu5rB\n",
       "EIBmJ+8QRMmpU7EzGRsf2FzuePqYRbzh/zE26EwdrT10f6r6o8HOYzCJB9Dpff8tbnGLG8L/A/WE\n",
       "roTBs2RqAAAAAElFTkSuQmCC'\n",
       "     style='height:25px; border-radius:12px; display: inline-block; float: left; vertical-align: middle'></img>\n",
       "\n",
       "\n",
       "  <img src='data:image/png;base64,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'\n",
       "       style='height:15px; border-radius:12px; display: inline-block; float: left'></img>\n",
       "  \n",
       "\n",
       "\n",
       "\n",
       "\n",
       "</div>\n"
      ]
     },
     "metadata": {},
     "output_type": "display_data"
    },
    {
     "data": {},
     "metadata": {},
     "output_type": "display_data"
    },
    {
     "data": {
      "application/vnd.holoviews_exec.v0+json": "",
      "text/html": [
       "<div id='6f3ea48e-435c-4d69-9142-da466ae5f14e'>\n",
       "  <div id=\"ec4ceebc-074f-47da-a608-69b2dfc90360\" data-root-id=\"6f3ea48e-435c-4d69-9142-da466ae5f14e\" style=\"display: contents;\"></div>\n",
       "</div>\n",
       "<script type=\"application/javascript\">(function(root) {\n",
       "  var docs_json = {\"ae91a480-c81f-4832-aa22-e9b116b0bf70\":{\"version\":\"3.7.3\",\"title\":\"Bokeh Application\",\"roots\":[{\"type\":\"object\",\"name\":\"Row\",\"id\":\"6f3ea48e-435c-4d69-9142-da466ae5f14e\",\"attributes\":{\"name\":\"Row02775\",\"tags\":[\"embedded\"],\"stylesheets\":[\"\\n:host(.pn-loading):before, .pn-loading:before {\\n  background-color: #c3c3c3;\\n  mask-size: auto calc(min(50%, 400px));\\n  -webkit-mask-size: auto calc(min(50%, 400px));\\n}\",{\"type\":\"object\",\"name\":\"ImportedStyleSheet\",\"id\":\"55c73347-02c7-41cf-83fb-eae41fd88ed8\",\"attributes\":{\"url\":\"https://cdn.holoviz.org/panel/1.7.0/dist/css/loading.css\"}},{\"type\":\"object\",\"name\":\"ImportedStyleSheet\",\"id\":\"c3b7ca41-cded-4cde-bc9c-9bc8f30bf26f\",\"attributes\":{\"url\":\"https://cdn.holoviz.org/panel/1.7.0/dist/css/listpanel.css\"}},{\"type\":\"object\",\"name\":\"ImportedStyleSheet\",\"id\":\"9c058545-8136-49f2-8326-7a7e4b49da31\",\"attributes\":{\"url\":\"https://cdn.holoviz.org/panel/1.7.0/dist/bundled/theme/default.css\"}},{\"type\":\"object\",\"name\":\"ImportedStyleSheet\",\"id\":\"ef584bb7-05d5-4fca-928e-5e7217998c3d\",\"attributes\":{\"url\":\"https://cdn.holoviz.org/panel/1.7.0/dist/bundled/theme/native.css\"}}],\"min_width\":800,\"margin\":0,\"sizing_mode\":\"stretch_width\",\"align\":\"start\",\"children\":[{\"type\":\"object\",\"name\":\"Spacer\",\"id\":\"d02e5da9-86e0-4e45-b373-a0975d799da7\",\"attributes\":{\"name\":\"HSpacer02779\",\"stylesheets\":[\"\\n:host(.pn-loading):before, .pn-loading:before {\\n  background-color: #c3c3c3;\\n  mask-size: auto calc(min(50%, 400px));\\n  -webkit-mask-size: auto calc(min(50%, 400px));\\n}\",{\"id\":\"55c73347-02c7-41cf-83fb-eae41fd88ed8\"},{\"id\":\"9c058545-8136-49f2-8326-7a7e4b49da31\"},{\"id\":\"ef584bb7-05d5-4fca-928e-5e7217998c3d\"}],\"min_width\":0,\"margin\":0,\"sizing_mode\":\"stretch_width\",\"align\":\"start\"}},{\"type\":\"object\",\"name\":\"Figure\",\"id\":\"9abef77d-859d-4613-8cc5-ef4a38ff9456\",\"attributes\":{\"width\":800,\"height\":500,\"margin\":[5,10],\"sizing_mode\":\"fixed\",\"align\":\"start\",\"x_range\":{\"type\":\"object\",\"name\":\"Range1d\",\"id\":\"f6efd141-21fa-422e-bad9-29a51149ed98\",\"attributes\":{\"name\":\"x\",\"tags\":[[[\"x\",null]],[]],\"start\":-238.75,\"end\":1041.75,\"reset_start\":-238.75,\"reset_end\":1041.75}},\"y_range\":{\"type\":\"object\",\"name\":\"Range1d\",\"id\":\"368e8e34-4b6b-45f7-94d1-1f4786c10907\",\"attributes\":{\"name\":\"y\",\"tags\":[[[\"y\",null]],{\"type\":\"map\",\"entries\":[[\"invert_yaxis\",false],[\"autorange\",false]]}],\"start\":-25.0,\"end\":525.0,\"reset_start\":-25.0,\"reset_end\":525.0}},\"x_scale\":{\"type\":\"object\",\"name\":\"LinearScale\",\"id\":\"cb446ea6-1d32-4c13-9972-5fef079fcc79\"},\"y_scale\":{\"type\":\"object\",\"name\":\"LinearScale\",\"id\":\"0fb17c3e-8145-4625-af96-fc0ad03e316c\"},\"title\":{\"type\":\"object\",\"name\":\"Title\",\"id\":\"54a5974c-5eed-425e-8f59-7b599f60ac23\",\"attributes\":{\"text\":\"Sankey Diagram of Data Transitions\",\"text_color\":\"black\",\"text_font_size\":\"12pt\"}},\"outline_line_alpha\":0,\"renderers\":[{\"type\":\"object\",\"name\":\"GraphRenderer\",\"id\":\"12bd7ea6-c3c6-4d26-b20d-2d14bbca4e58\",\"attributes\":{\"layout_provider\":{\"type\":\"object\",\"name\":\"StaticLayoutProvider\",\"id\":\"c268b423-a191-49a6-a9fd-7c130fd6a2fe\",\"attributes\":{\"graph_layout\":{\"type\":\"map\",\"entries\":[[0,[7.5,169.230769]],[1,[7.5,464.43044113840665]],[2,[7.5,375.38461523076916]],[3,[992.5,143.846154]],[4,[992.5,345.76923084615385]],[5,[992.5,466.1538461538461]],[6,[992.5,408.07692292307684]]]}}},\"node_renderer\":{\"type\":\"object\",\"name\":\"GlyphRenderer\",\"id\":\"e4a1babe-c310-49ba-a676-b01d4bd727de\",\"attributes\":{\"data_source\":{\"type\":\"object\",\"name\":\"ColumnDataSource\",\"id\":\"7f5f2a02-6899-45d6-85bf-33472a41ed47\",\"attributes\":{\"selected\":{\"type\":\"object\",\"name\":\"Selection\",\"id\":\"68670d54-96d6-4dcc-81a2-ce21eaa14916\",\"attributes\":{\"indices\":[],\"line_indices\":[]}},\"selection_policy\":{\"type\":\"object\",\"name\":\"UnionRenderers\",\"id\":\"ee668a75-49f4-4703-aa9d-10a15aeb2e4e\"},\"data\":{\"type\":\"map\",\"entries\":[[\"index\",[\"Target Host, Initial Phase\",\"Target Host, Evaluation Phase\",\"External Hosts Malicious\",\"Train\",\"Validation\",\"Test\",\"Remaining External Hosts\"]],[\"x0\",[0.0,0.0,0.0,985.0,985.0,985.0,985.0]],[\"x1\",[15.0,15.0,15.0,1000.0,1000.0,1000.0,1000.0]],[\"y0\",[0.0,430.5842872768133,358.46153846153834,0.0,307.6923076923077,432.3076923076922,403.84615384615375]],[\"y1\",[338.461538,498.276595,392.307692,287.692308,383.846154,500.0,412.307692]]]}}},\"view\":{\"type\":\"object\",\"name\":\"CDSView\",\"id\":\"d3ab6ef4-57c3-4461-9e5b-831c0aba1d86\",\"attributes\":{\"filter\":{\"type\":\"object\",\"name\":\"AllIndices\",\"id\":\"6cf03a1d-d096-4b5d-a5f8-57b045dc07d9\"}}},\"glyph\":{\"type\":\"object\",\"name\":\"Scatter\",\"id\":\"eb1475b9-592d-45ab-b202-eb6644375c6f\",\"attributes\":{\"size\":{\"type\":\"value\",\"value\":10},\"fill_color\":{\"type\":\"field\",\"field\":\"index\",\"transform\":{\"type\":\"object\",\"name\":\"CategoricalColorMapper\",\"id\":\"a2cfb7da-1d3a-4fad-babb-0b3a0f77e04f\",\"attributes\":{\"palette\":[\"#1f77b4\",\"#aec7e8\",\"#ff7f0e\",\"#ffbb78\",\"#2ca02c\",\"#98df8a\",\"#d62728\"],\"factors\":[\"Target Host, Initial Phase\",\"Target Host, Evaluation Phase\",\"External Hosts Malicious\",\"Train\",\"Validation\",\"Test\",\"Remaining External Hosts\"]}}}}},\"selection_glyph\":{\"type\":\"object\",\"name\":\"Scatter\",\"id\":\"d6e06aba-aab6-4b16-9798-f7f814f72652\",\"attributes\":{\"size\":{\"type\":\"value\",\"value\":10},\"fill_color\":{\"type\":\"field\",\"field\":\"index\",\"transform\":{\"id\":\"a2cfb7da-1d3a-4fad-babb-0b3a0f77e04f\"}}}},\"nonselection_glyph\":{\"type\":\"object\",\"name\":\"Scatter\",\"id\":\"437bbaee-0c42-4212-b8c1-8f0e9c5e3d7d\",\"attributes\":{\"size\":{\"type\":\"value\",\"value\":10},\"line_alpha\":{\"type\":\"value\",\"value\":0.2},\"fill_color\":{\"type\":\"field\",\"field\":\"index\",\"transform\":{\"id\":\"a2cfb7da-1d3a-4fad-babb-0b3a0f77e04f\"}},\"fill_alpha\":{\"type\":\"value\",\"value\":0.2},\"hatch_alpha\":{\"type\":\"value\",\"value\":0.2}}},\"hover_glyph\":{\"type\":\"object\",\"name\":\"Scatter\",\"id\":\"b3386c00-cdab-4992-adac-5abf22dda337\",\"attributes\":{\"size\":{\"type\":\"value\",\"value\":10},\"fill_color\":{\"type\":\"field\",\"field\":\"index\",\"transform\":{\"id\":\"a2cfb7da-1d3a-4fad-babb-0b3a0f77e04f\"}}}},\"muted_glyph\":{\"type\":\"object\",\"name\":\"Scatter\",\"id\":\"16c7b372-04c5-4316-b290-867a1b44cf5e\",\"attributes\":{\"size\":{\"type\":\"value\",\"value\":10},\"line_alpha\":{\"type\":\"value\",\"value\":0.2},\"fill_color\":{\"type\":\"field\",\"field\":\"index\",\"transform\":{\"id\":\"a2cfb7da-1d3a-4fad-babb-0b3a0f77e04f\"}},\"fill_alpha\":{\"type\":\"value\",\"value\":0.2},\"hatch_alpha\":{\"type\":\"value\",\"value\":0.2}}}}},\"edge_renderer\":{\"type\":\"object\",\"name\":\"GlyphRenderer\",\"id\":\"49f7bbd6-6a4b-4e5d-888b-a67d0d9ea584\",\"attributes\":{\"data_source\":{\"type\":\"object\",\"name\":\"ColumnDataSource\",\"id\":\"569daa30-8e77-40dc-8d27-b230db105556\",\"attributes\":{\"selected\":{\"type\":\"object\",\"name\":\"Selection\",\"id\":\"c8ff1eda-bed4-4d40-98aa-04d4fd3dc49d\",\"attributes\":{\"indices\":[],\"line_indices\":[]}},\"selection_policy\":{\"type\":\"object\",\"name\":\"UnionRenderers\",\"id\":\"173f4fad-2778-4071-8e4e-2cafd4ae0b20\"},\"data\":{\"type\":\"map\",\"entries\":[[\"start\",{\"type\":\"ndarray\",\"array\":{\"type\":\"bytes\",\"data\":\"AAAAAAAAAAABAAAAAgAAAAIAAAACAAAA\"},\"shape\":[6],\"dtype\":\"int32\",\"order\":\"little\"}],[\"end\",{\"type\":\"ndarray\",\"array\":{\"type\":\"bytes\",\"data\":\"AwAAAAQAAAAFAAAAAwAAAAQAAAAGAAAA\"},\"shape\":[6],\"dtype\":\"int32\",\"order\":\"little\"}],[\"xs\",[{\"type\":\"ndarray\",\"array\":{\"type\":\"bytes\",\"data\":\"AAAAAAAALkAAAAAAAAAuQAAAAAAAAC5AaNk40k0MRkAkPIj/5gFSQBQID8RqtlhAQ2p8t9wmX0A6/k2tM6tiQDOsHJcapGVA8QuQWbh/aEBQ6g01oj9rQDQU/Glt5W1APCtgnFc5cEAEP+BwfnRxQN0rsdL1pHJAOdgFYojLc0CLKhG/AOl0QEAJBoop/nVAyFoXY80Ld0CXBXjqthJ4QBnwWsCwE3lAwgDzhIUPekD/HXPY/wZ7QEYuDlvq+ntAARj3rA/sfEClwWBuOtt9QKARfj81yX5AYu6BwMq2f0Atn8/IYlKAQP9zhCn4yYBA3eh40opCgUAAccYTgLyBQJ5/hj09OIJA84fSnye2gkA0/cOKpDaDQJxSdE4ZuoNAYPv8OutAhEC6anegf8uEQOIT/c47WoVAEGqnFoXthUB+4I/HwIWGQGDqzzFUI4dA8vqApaTGh0BshbxyF3CIQAT9m+kRIIlA89Q4WvnWiUBwgKwUM5WKQLdyEGkkW4tA/R5+pzIpjEB7+A4gw/+MQGly3CI7341AAAAAAADIjkAAAAAAAMiOQAAAAAAAyI5AAAAAAADIjkBqctwiO9+NQHv4DiDD/4xA/h5+pzIpjEC4chBpJFuLQHKArBQzlYpA89Q4WvnWiUAF/ZvpESCJQG2FvHIXcIhA9PqApaTGh0Bh6s8xVCOHQH7gj8fAhYZAEGqnFoXthUDiE/3OO1qFQLtqd6B/y4RAYfv8OutAhECdUnROGbqDQDX9w4qkNoNA84fSnye2gkCff4Y9PTiCQP9wxhOAvIFA3eh40opCgUAAdIQp+MmAQC6fz8hiUoBAY+6BwMq2f0CfEX4/Ncl+QKXBYG46231AAxj3rA/sfEBGLg5b6vp7QAEec9j/BntAxADzhIUPekAb8FrAsBN5QJcFeOq2EnhAyVoXY80Ld0A/CQaKKf51QI0qEb8A6XRAPNgFYojLc0DfK7HS9aRyQAU/4HB+dHFAQCtgnFc5cEA3FPxpbeVtQFPqDTWiP2tA8guQWbh/aEA1rByXGqRlQD/+Ta0zq2JATGp8t9wmX0AaCA/EarZYQCk8iP/mAVJAbNk40k0MRkAAAAAAAAAuQA==\"},\"shape\":[104],\"dtype\":\"float64\",\"order\":\"little\"},{\"type\":\"ndarray\",\"array\":{\"type\":\"bytes\",\"data\":\"AAAAAAAALkAAAAAAAAAuQAAAAAAAAC5AaNk40k0MRkAkPIj/5gFSQBQID8RqtlhAQ2p8t9wmX0A6/k2tM6tiQDOsHJcapGVA8QuQWbh/aEBQ6g01oj9rQDQU/Glt5W1APCtgnFc5cEAEP+BwfnRxQN0rsdL1pHJAOdgFYojLc0CLKhG/AOl0QEAJBoop/nVAyFoXY80Ld0CXBXjqthJ4QBnwWsCwE3lAwgDzhIUPekD/HXPY/wZ7QEYuDlvq+ntAARj3rA/sfEClwWBuOtt9QKARfj81yX5AYu6BwMq2f0Atn8/IYlKAQP9zhCn4yYBA3eh40opCgUAAccYTgLyBQJ5/hj09OIJA84fSnye2gkA0/cOKpDaDQJxSdE4ZuoNAYPv8OutAhEC6anegf8uEQOIT/c47WoVAEGqnFoXthUB+4I/HwIWGQGDqzzFUI4dA8vqApaTGh0BshbxyF3CIQAT9m+kRIIlA89Q4WvnWiUBwgKwUM5WKQLdyEGkkW4tA/R5+pzIpjEB7+A4gw/+MQGly3CI7341AAAAAAADIjkAAAAAAAMiOQAAAAAAAyI5AAAAAAADIjkBqctwiO9+NQHv4DiDD/4xA/h5+pzIpjEC4chBpJFuLQHKArBQzlYpA89Q4WvnWiUAF/ZvpESCJQG2FvHIXcIhA9PqApaTGh0Bh6s8xVCOHQH7gj8fAhYZAEGqnFoXthUDiE/3OO1qFQLtqd6B/y4RAYfv8OutAhECdUnROGbqDQDX9w4qkNoNA84fSnye2gkCff4Y9PTiCQP9wxhOAvIFA3eh40opCgUAAdIQp+MmAQC6fz8hiUoBAY+6BwMq2f0CfEX4/Ncl+QKXBYG46231AAxj3rA/sfEBGLg5b6vp7QAEec9j/BntAxADzhIUPekAb8FrAsBN5QJcFeOq2EnhAyVoXY80Ld0A/CQaKKf51QI0qEb8A6XRAPNgFYojLc0DfK7HS9aRyQAU/4HB+dHFAQCtgnFc5cEA3FPxpbeVtQFPqDTWiP2tA8guQWbh/aEA1rByXGqRlQD/+Ta0zq2JATGp8t9wmX0AaCA/EarZYQCk8iP/mAVJAbNk40k0MRkAAAAAAAAAuQA==\"},\"shape\":[104],\"dtype\":\"float64\",\"order\":\"little\"},{\"type\":\"ndarray\",\"array\":{\"type\":\"bytes\",\"data\":\"AAAAAAAALkAAAAAAAAAuQAAAAAAAAC5AaNk40k0MRkAkPIj/5gFSQBQID8RqtlhAQ2p8t9wmX0A6/k2tM6tiQDOsHJcapGVA8QuQWbh/aEBQ6g01oj9rQDQU/Glt5W1APCtgnFc5cEAEP+BwfnRxQN0rsdL1pHJAOdgFYojLc0CLKhG/AOl0QEAJBoop/nVAyFoXY80Ld0CXBXjqthJ4QBnwWsCwE3lAwgDzhIUPekD/HXPY/wZ7QEYuDlvq+ntAARj3rA/sfEClwWBuOtt9QKARfj81yX5AYu6BwMq2f0Atn8/IYlKAQP9zhCn4yYBA3eh40opCgUAAccYTgLyBQJ5/hj09OIJA84fSnye2gkA0/cOKpDaDQJxSdE4ZuoNAYPv8OutAhEC6anegf8uEQOIT/c47WoVAEGqnFoXthUB+4I/HwIWGQGDqzzFUI4dA8vqApaTGh0BshbxyF3CIQAT9m+kRIIlA89Q4WvnWiUBwgKwUM5WKQLdyEGkkW4tA/R5+pzIpjEB7+A4gw/+MQGly3CI7341AAAAAAADIjkAAAAAAAMiOQAAAAAAAyI5AAAAAAADIjkBqctwiO9+NQHv4DiDD/4xA/h5+pzIpjEC4chBpJFuLQHKArBQzlYpA89Q4WvnWiUAF/ZvpESCJQG2FvHIXcIhA9PqApaTGh0Bh6s8xVCOHQH7gj8fAhYZAEGqnFoXthUDiE/3OO1qFQLtqd6B/y4RAYfv8OutAhECdUnROGbqDQDX9w4qkNoNA84fSnye2gkCff4Y9PTiCQP9wxhOAvIFA3eh40opCgUAAdIQp+MmAQC6fz8hiUoBAY+6BwMq2f0CfEX4/Ncl+QKXBYG46231AAxj3rA/sfEBGLg5b6vp7QAEec9j/BntAxADzhIUPekAb8FrAsBN5QJcFeOq2EnhAyVoXY80Ld0A/CQaKKf51QI0qEb8A6XRAPNgFYojLc0DfK7HS9aRyQAU/4HB+dHFAQCtgnFc5cEA3FPxpbeVtQFPqDTWiP2tA8guQWbh/aEA1rByXGqRlQD/+Ta0zq2JATGp8t9wmX0AaCA/EarZYQCk8iP/mAVJAbNk40k0MRkAAAAAAAAAuQA==\"},\"shape\":[104],\"dtype\":\"float64\",\"order\":\"little\"},{\"type\":\"ndarray\",\"array\":{\"type\":\"bytes\",\"data\":\"AAAAAAAALkAAAAAAAAAuQAAAAAAAAC5AaNk40k0MRkAkPIj/5gFSQBQID8RqtlhAQ2p8t9wmX0A6/k2tM6tiQDOsHJcapGVA8QuQWbh/aEBQ6g01oj9rQDQU/Glt5W1APCtgnFc5cEAEP+BwfnRxQN0rsdL1pHJAOdgFYojLc0CLKhG/AOl0QEAJBoop/nVAyFoXY80Ld0CXBXjqthJ4QBnwWsCwE3lAwgDzhIUPekD/HXPY/wZ7QEYuDlvq+ntAARj3rA/sfEClwWBuOtt9QKARfj81yX5AYu6BwMq2f0Atn8/IYlKAQP9zhCn4yYBA3eh40opCgUAAccYTgLyBQJ5/hj09OIJA84fSnye2gkA0/cOKpDaDQJxSdE4ZuoNAYPv8OutAhEC6anegf8uEQOIT/c47WoVAEGqnFoXthUB+4I/HwIWGQGDqzzFUI4dA8vqApaTGh0BshbxyF3CIQAT9m+kRIIlA89Q4WvnWiUBwgKwUM5WKQLdyEGkkW4tA/R5+pzIpjEB7+A4gw/+MQGly3CI7341AAAAAAADIjkAAAAAAAMiOQAAAAAAAyI5AAAAAAADIjkBqctwiO9+NQHv4DiDD/4xA/h5+pzIpjEC4chBpJFuLQHKArBQzlYpA89Q4WvnWiUAF/ZvpESCJQG2FvHIXcIhA9PqApaTGh0Bh6s8xVCOHQH7gj8fAhYZAEGqnFoXthUDiE/3OO1qFQLtqd6B/y4RAYfv8OutAhECdUnROGbqDQDX9w4qkNoNA84fSnye2gkCff4Y9PTiCQP9wxhOAvIFA3eh40opCgUAAdIQp+MmAQC6fz8hiUoBAY+6BwMq2f0CfEX4/Ncl+QKXBYG46231AAxj3rA/sfEBGLg5b6vp7QAEec9j/BntAxADzhIUPekAb8FrAsBN5QJcFeOq2EnhAyVoXY80Ld0A/CQaKKf51QI0qEb8A6XRAPNgFYojLc0DfK7HS9aRyQAU/4HB+dHFAQCtgnFc5cEA3FPxpbeVtQFPqDTWiP2tA8guQWbh/aEA1rByXGqRlQD/+Ta0zq2JATGp8t9wmX0AaCA/EarZYQCk8iP/mAVJAbNk40k0MRkAAAAAAAAAuQA==\"},\"shape\":[104],\"dtype\":\"float64\",\"order\":\"little\"},{\"type\":\"ndarray\",\"array\":{\"type\":\"bytes\",\"data\":\"AAAAAAAALkAAAAAAAAAuQAAAAAAAAC5AaNk40k0MRkAkPIj/5gFSQBQID8RqtlhAQ2p8t9wmX0A6/k2tM6tiQDOsHJcapGVA8QuQWbh/aEBQ6g01oj9rQDQU/Glt5W1APCtgnFc5cEAEP+BwfnRxQN0rsdL1pHJAOdgFYojLc0CLKhG/AOl0QEAJBoop/nVAyFoXY80Ld0CXBXjqthJ4QBnwWsCwE3lAwgDzhIUPekD/HXPY/wZ7QEYuDlvq+ntAARj3rA/sfEClwWBuOtt9QKARfj81yX5AYu6BwMq2f0Atn8/IYlKAQP9zhCn4yYBA3eh40opCgUAAccYTgLyBQJ5/hj09OIJA84fSnye2gkA0/cOKpDaDQJxSdE4ZuoNAYPv8OutAhEC6anegf8uEQOIT/c47WoVAEGqnFoXthUB+4I/HwIWGQGDqzzFUI4dA8vqApaTGh0BshbxyF3CIQAT9m+kRIIlA89Q4WvnWiUBwgKwUM5WKQLdyEGkkW4tA/R5+pzIpjEB7+A4gw/+MQGly3CI7341AAAAAAADIjkAAAAAAAMiOQAAAAAAAyI5AAAAAAADIjkBqctwiO9+NQHv4DiDD/4xA/h5+pzIpjEC4chBpJFuLQHKArBQzlYpA89Q4WvnWiUAF/ZvpESCJQG2FvHIXcIhA9PqApaTGh0Bh6s8xVCOHQH7gj8fAhYZAEGqnFoXthUDiE/3OO1qFQLtqd6B/y4RAYfv8OutAhECdUnROGbqDQDX9w4qkNoNA84fSnye2gkCff4Y9PTiCQP9wxhOAvIFA3eh40opCgUAAdIQp+MmAQC6fz8hiUoBAY+6BwMq2f0CfEX4/Ncl+QKXBYG46231AAxj3rA/sfEBGLg5b6vp7QAEec9j/BntAxADzhIUPekAb8FrAsBN5QJcFeOq2EnhAyVoXY80Ld0A/CQaKKf51QI0qEb8A6XRAPNgFYojLc0DfK7HS9aRyQAU/4HB+dHFAQCtgnFc5cEA3FPxpbeVtQFPqDTWiP2tA8guQWbh/aEA1rByXGqRlQD/+Ta0zq2JATGp8t9wmX0AaCA/EarZYQCk8iP/mAVJAbNk40k0MRkAAAAAAAAAuQA==\"},\"shape\":[104],\"dtype\":\"float64\",\"order\":\"little\"},{\"type\":\"ndarray\",\"array\":{\"type\":\"bytes\",\"data\":\"AAAAAAAALkAAAAAAAAAuQAAAAAAAAC5AaNk40k0MRkAkPIj/5gFSQBQID8RqtlhAQ2p8t9wmX0A6/k2tM6tiQDOsHJcapGVA8QuQWbh/aEBQ6g01oj9rQDQU/Glt5W1APCtgnFc5cEAEP+BwfnRxQN0rsdL1pHJAOdgFYojLc0CLKhG/AOl0QEAJBoop/nVAyFoXY80Ld0CXBXjqthJ4QBnwWsCwE3lAwgDzhIUPekD/HXPY/wZ7QEYuDlvq+ntAARj3rA/sfEClwWBuOtt9QKARfj81yX5AYu6BwMq2f0Atn8/IYlKAQP9zhCn4yYBA3eh40opCgUAAccYTgLyBQJ5/hj09OIJA84fSnye2gkA0/cOKpDaDQJxSdE4ZuoNAYPv8OutAhEC6anegf8uEQOIT/c47WoVAEGqnFoXthUB+4I/HwIWGQGDqzzFUI4dA8vqApaTGh0BshbxyF3CIQAT9m+kRIIlA89Q4WvnWiUBwgKwUM5WKQLdyEGkkW4tA/R5+pzIpjEB7+A4gw/+MQGly3CI7341AAAAAAADIjkAAAAAAAMiOQAAAAAAAyI5AAAAAAADIjkBqctwiO9+NQHv4DiDD/4xA/h5+pzIpjEC4chBpJFuLQHKArBQzlYpA89Q4WvnWiUAF/ZvpESCJQG2FvHIXcIhA9PqApaTGh0Bh6s8xVCOHQH7gj8fAhYZAEGqnFoXthUDiE/3OO1qFQLtqd6B/y4RAYfv8OutAhECdUnROGbqDQDX9w4qkNoNA84fSnye2gkCff4Y9PTiCQP9wxhOAvIFA3eh40opCgUAAdIQp+MmAQC6fz8hiUoBAY+6BwMq2f0CfEX4/Ncl+QKXBYG46231AAxj3rA/sfEBGLg5b6vp7QAEec9j/BntAxADzhIUPekAb8FrAsBN5QJcFeOq2EnhAyVoXY80Ld0A/CQaKKf51QI0qEb8A6XRAPNgFYojLc0DfK7HS9aRyQAU/4HB+dHFAQCtgnFc5cEA3FPxpbeVtQFPqDTWiP2tA8guQWbh/aEA1rByXGqRlQD/+Ta0zq2JATGp8t9wmX0AaCA/EarZYQCk8iP/mAVJAbNk40k0MRkAAAAAAAAAuQA==\"},\"shape\":[104],\"dtype\":\"float64\",\"order\":\"little\"}]],[\"ys\",[{\"type\":\"ndarray\",\"array\":{\"type\":\"bytes\",\"data\":\"xU7sxE7scEAAAAAAAAAAAAAAAAAAAAAAAAAAAAAAAAAAAAAAAAAAAAAAAAAAAAAAAAAAAAAAAAAAAAAAAAAAAAAAAAAAAAAAAAAAAAAAAAAAAAAAAAAAAAAAAAAAAAAAAAAAAAAAAAAAAAAAAAAAAAAAAAAAAAAAAAAAAAAAAAAAAAAAAAAAAAAAAAAAAAAAAAAAAAAAAAAAAAAAAAAAAAAAAAAAAAAAAAAAAAAAAAAAAAAAAAAAAAAAAAAAAAAAAAAAAAAAAAAAAAAAAAAAAAAAAAAAAAAAAAAAAAAAAAAAAAAAAAAAAAAAAAAAAAAAAAAAAAAAAAAAAAAAAAAAAAAAAAAAAAAAAAAAAAAAAAAAAAAAAAAAAAAAAAAAAAAAAAAAAAAAAAAAAAAAAAAAAAAAAAAAAAAAAAAAAAAAAAAAAAAAAAAAAAAAAAAAAAAAAAAAAAAAAAAAAAAAAAAAAAAAAAAAAAAAAAAAAAAAAAAAAAAAAAAAAAAAAAAAAAAAAAAAAAAAAAAAAAAAAAAAAAAAAAAAAAAAAAAAAAAAAAAAAAAAAAAAAMVO7MRO7HBAxU7sxE7scEDFTuzETuxwQMRO7MRO7HBAxU7sxE7scEDETuzETuxwQMRO7MRO7HBAxU7sxE7scEDGTuzETuxwQMZO7MRO7HBAxU7sxE7scEDETuzETuxwQMRO7MRO7HBAxE7sxE7scEDETuzETuxwQMZO7MRO7HBAxU7sxE7scEDFTuzETuxwQMZO7MRO7HBAxU7sxE7scEDFTuzETuxwQMRO7MRO7HBAxU7sxE7scEDFTuzETuxwQMVO7MRO7HBAxU7sxE7scEDFTuzETuxwQMVO7MRO7HBAxU7sxE7scEDFTuzETuxwQMVO7MRO7HBAxU7sxE7scEDFTuzETuxwQMRO7MRO7HBAxU7sxE7scEDFTuzETuxwQMVO7MRO7HBAxU7sxE7scEDFTuzETuxwQMVO7MRO7HBAxU7sxE7scEDFTuzETuxwQMVO7MRO7HBAxk7sxE7scEDFTuzETuxwQMVO7MRO7HBAxU7sxE7scEDFTuzETuxwQMVO7MRO7HBAxU7sxE7scEDFTuzETuxwQA==\"},\"shape\":[104],\"dtype\":\"float64\",\"order\":\"little\"},{\"type\":\"ndarray\",\"array\":{\"type\":\"bytes\",\"data\":\"d2IndmIndUDFTuzETuxwQMVO7MRO7HBAmeJoKgntcEAvQS4SLu9wQC/fMw+u8nBAOzFxtHn3cED8q92Ugf1wQBfEcEO2BHFANe4hUwgNcUD3nuhWaBZxQAVLvOHGIHFABWeUhhQscUCeZ2jYQThxQHbBL2o/RXFAMunhzv1ScUB7U3aZbWFxQPJ05Fx/cHFAQMIjrCOAcUAMsCsaS5BxQPiy8znmoHFArz9znuWxcUDUyqHaOcNxQA7JdoHT1HFAA6/pJaPmcUBZ8fFamfhxQLcEh7OmCnJAwF2gwrscckAccTUbyS5yQHOzPVC/QHJAaJmw9I5SckCil4WbKGRyQMcitNd8dXJAfq8zPHyGckBrsvtbF5dyQDagA8o+p3JAhO1CGeO2ckD8DrHc9MVyQEN5Radk1HJAAKH3CyPickDX+r6dIO9yQHD7ku9N+3JAchdrlJsGc0CAwz4f+hBzQEJ0BSNaGnNAXp62Mqwic0B5tknh4ClzQDoxtsHoL3NASIPzZrQ0c0BGIfljNDhzQNx/vktZOnNAsRM7sRM7c0CxEzuxEztzQGMndmIndndAYyd2Yid2d0COk/n8bHV3QPc0NBVIc3dA+pYuGMhvd0DsRPFy/Gp3QCzKhJL0ZHdAD7Lx479dd0D1h0DUbVV3QDLXedANTHdAJCumRa9Bd0AiD86gYTZ3QIgO+k40KndAsLQyvTYdd0D0jIBYeA93QK4i7I0IAXdANwF+yvbxdkDosz57UuJ2QB7GNg0r0nZALsNu7Y/BdkB5Nu+IkLB2QFOrwEw8n3ZAGa3rpaKNdkAlx3gB03t2QM6EcMzcaXZAcnHbc89XdkBoGMJkukV2QAsFLQytM3ZAtcIk17YhdkDC3LEy5w92QIbe3ItN/nVAYVOuT/nsdUCsxi7r+dt1QL3DZstey3VA8tVeXTe7dUCjiB8Ok6t1QCxnsUqBnHVA5fwcgBGOdUAp1WobU4B1QFF7o4lVc3VAt3rPNyhndUC2XveS2lt1QKiyIwh8UXVA5gFdBBxIdUDK16v0yT91QK6/GEaVOHVA7USsZY0ydUDh8m7AwS11QOJUacNBKnVATPaj2xwodUB3Yid2Yid1QA==\"},\"shape\":[104],\"dtype\":\"float64\",\"order\":\"little\"},{\"type\":\"ndarray\",\"array\":{\"type\":\"bytes\",\"data\":\"z6nY7mwkf0Adlp09Wel6QB2WnT1Z6XpAgAvb8GHpekAVk7GPe+l6QARozmGl6XpAa8Xert7pekBy5o++Jup6QDwGj9h86npA71+JRODqekCqLixKUOt6QJOtJDHM63pA0BcgQVPsekCEqMvB5Ox6QNGa1Pp/7XpA3inoMyTuekDPkLO00O56QMcK5MSE73pA5tImrD/wekBWJCmyAPF6QDU6mB7H8XpArk8hOZLyekDen3FJYfN6QO9lNpcz9HpAAt0cagj1ekA7QNIJ3/V6QL7KA7629npArbdezo73ekAwQpCCZvh6QGilRSI9+XpAexws9RH6ekCK4vBC5Pp6QLwyQVOz+3pANEjKbX78ekAUXjnaRP16QISvO+AF/npApHd+x8D+ekCc8a7XdP96QIpYelghAHtAmOeNkcUAe0Dm2ZbKYAF7QJpqQkvyAXtA2NQ9W3kCe0DCUzZC9QJ7QH4i2UdlA3tALnzTs8gDe0D4m9LNHgR7QP+8g91mBHtAaBqUKqAEe0BU77D8yQR7QOp2h5vjBHtATezETuwEe0BN7MRO7AR7QP//////P39A//////8/f0CbisJM9z9/QAUD7K3dP39AGi7P27M/f0Cx0L6Oej9/QKqvDX8yP39A348OZdw+f0AyNhT5eD5/QHVncfMIPn9Aiuh4DI09f0BKfn38BT1/QJjt0Xt0PH9ASPvIQtk7f0A7bLUJNTt/QE0F6oiIOn9AV4u5eNQ5f0A2w3aRGTl/QMhxdItYOH9A5VsFH5I3f0BvRnwExzZ/QDv2K/T3NX9ALDBnpiU1f0AauYDTUDR/QOFVyzN6M39AYMuZf6Iyf0Bu3j5vyjF/QOxTDbvyMH9AtPBXGxwwf0CjeXFIRy9/QJKzrPp0Ln9AYGNc6qUtf0DpTdPP2ix/QAY4ZGMULH9AmOZhXVMrf0B3Hh92mCp/QIKk7mXkKX9Akj0j5Tcpf0CErg+skyh/QDa8BnP4J39Agitb8mYnf0BFwV/i3yZ/QFtCZ/tjJn9An3PE9fMlf0DtGcqJkCV/QCT6ym86JX9AHdkZYPIkf0C1ewkTuSR/QMim7ECPJH9AMh8WonUkf0DPqdjubCR/QA==\"},\"shape\":[104],\"dtype\":\"float64\",\"order\":\"little\"},{\"type\":\"ndarray\",\"array\":{\"type\":\"bytes\",\"data\":\"YCd2Yid2d0B0Yid2Ymd2QHRiJ3ZiZ3ZAW4MfxadldkC1wqoekGB2QHlrvSVAWHZAmshLfdxMdkAPJUrIiT52QM7LrKlsLXZAzgdoxKkZdkABJHC7ZQN2QF9ruTHF6nVA2ig4yuzPdUBtp+AnAbN1QA0yp+0mlHVArxOAvoJzdUBHl189OVF1QMsHOg1vLXVAMbAD0UgIdUBv27Ar6+F0QHrUNcB6unRASeaGMRySdEDPW5gi9Gh0QAWAXjYnP3RA4Z3ND9oUdEBUANpRMepzQFjyd59Rv3NA4b6bm1+Uc0DlsDnpf2lzQFgTRivXPnNAMzG1BIoUc0BpVXsYvepyQPHKjAmVwXJAwNzdejaZckDK1WIPxnFyQAgBEGpoS3JAb6nZLUImckDzGbT9dwJyQIqdk3wu4HFAK39sTYq/cUDKCTMTsKBxQF6I23DEg3FA3EVaCexocUA6jaN/S1BxQG2pq3YHOnFAauVmkUQmcUApjMlyJxVxQJ/ox73UBnFAwEVWFXH7cECD7mgcIfNwQN0t9HUJ7nBAxU7sxE7scEDFTuzETuxwQLETO7ET+3FAsRM7sRP7cUDK8kJizvxxQG6ztwjmAXJArAqlATYKckCLrRaqmRVyQBVRGF/sI3JAVaq1fQk1ckBabvpizEhyQCZS8msQX3JAyQqp9bB3ckBITSpdiZJyQLbOgf90r3JAFkS7OU/OckB2YuJo8+5yQN/eAuo8EXNAW24oGgc1c0D1xV5WLVpzQLiasfuKgHNAq6EsZ/unc0Dcj9v1WdBzQFQaygSC+XNAHvYD8U4jdEBF2JQXnE10QNF1iNVEeHRAzYPqhySjdEBFt8aLFs50QEDFKD72+HRAzGIc/J4jdUDzRK0i7E11QLsg5w65d3VANKvVHeGgdUBmmYSsP8l1QFqg/xew8HVAHHVSvQ0XdkC2zIj5Mzx2QDJcrin+X3ZAmtjOqkeCdkD69vXZ66J2QFtsLxTGwXZAx+2GtrHedkBKMAgeivl2QOzovqcqEndAusy2sG4od0C6kPuVMTx3QPzpmLROTXdAho2aaaFbd0BlMAwSBWd3QKKH+QpVb3dASEhusWx0d0BgJ3ZiJ3Z3QA==\"},\"shape\":[104],\"dtype\":\"float64\",\"order\":\"little\"},{\"type\":\"ndarray\",\"array\":{\"type\":\"bytes\",\"data\":\"1omd2In9d0BgJ3ZiJ3Z3QGAndmIndndAYCd2Yid2d0BfJ3ZiJ3Z3QGAndmIndndAYCd2Yid2d0BgJ3ZiJ3Z3QF8ndmIndndAYid2Yid2d0BgJ3ZiJ3Z3QGEndmIndndAXid2Yid2d0BgJ3ZiJ3Z3QF8ndmIndndAYCd2Yid2d0BgJ3ZiJ3Z3QGIndmIndndAYSd2Yid2d0BiJ3ZiJ3Z3QGAndmIndndAYCd2Yid2d0BfJ3ZiJ3Z3QGEndmIndndAYid2Yid2d0BhJ3ZiJ3Z3QGEndmIndndAYSd2Yid2d0BgJ3ZiJ3Z3QGEndmIndndAYSd2Yid2d0BiJ3ZiJ3Z3QGEndmIndndAYid2Yid2d0BhJ3ZiJ3Z3QGIndmIndndAYSd2Yid2d0BiJ3ZiJ3Z3QGIndmIndndAYid2Yid2d0BiJ3ZiJ3Z3QGIndmIndndAYid2Yid2d0BiJ3ZiJ3Z3QGIndmIndndAYid2Yid2d0BiJ3ZiJ3Z3QGIndmIndndAYid2Yid2d0BiJ3ZiJ3Z3QGIndmIndndAYid2Yid2d0BiJ3ZiJ3Z3QNiJndiJ/XdA2Imd2In9d0DYiZ3Yif13QNeJndiJ/XdA2Imd2In9d0DYiZ3Yif13QNiJndiJ/XdA14md2In9d0DZiZ3Yif13QNmJndiJ/XdA2Imd2In9d0DXiZ3Yif13QNeJndiJ/XdA1omd2In9d0DYiZ3Yif13QNiJndiJ/XdA2Ymd2In9d0DYiZ3Yif13QNiJndiJ/XdA2Imd2In9d0DYiZ3Yif13QNaJndiJ/XdA1omd2In9d0DYiZ3Yif13QNeJndiJ/XdA14md2In9d0DXiZ3Yif13QNeJndiJ/XdA14md2In9d0DXiZ3Yif13QNeJndiJ/XdA14md2In9d0DXiZ3Yif13QNaJndiJ/XdA1omd2In9d0DWiZ3Yif13QNeJndiJ/XdA1omd2In9d0DWiZ3Yif13QNaJndiJ/XdA1omd2In9d0DWiZ3Yif13QNaJndiJ/XdA1omd2In9d0DWiZ3Yif13QNaJndiJ/XdA1omd2In9d0DWiZ3Yif13QNaJndiJ/XdA1omd2In9d0DWiZ3Yif13QA==\"},\"shape\":[104],\"dtype\":\"float64\",\"order\":\"little\"},{\"type\":\"ndarray\",\"array\":{\"type\":\"bytes\",\"data\":\"TOzETuyEeEDWiZ3Yif13QNaJndiJ/XdA6VmWz+79d0DQl3YiGP93QBD4Lnb9AHhAKy+wb5YDeECo8eqz2gZ4QA30z+fBCnhA3+pPsEMPeECbiluyVxR4QM6H45L1GXhA+JbY9hQgeEChbCuDrSZ4QEu9zNy2LXhAfD2tqCg1eEC4ob2L+jx4QIWe7iokRXhAZOgwK51NeEDdM3UxXVZ4QHM1rOJbX3hAq6HG45BoeEAILbXZ83F4QBOMaGl8e3hATnPRNyKFeEA9l+Dp3I54QGSshiSkmHhASWe0jG+ieEBwfFrHNqx4QF+gaXnxtXhAmofSR5e/eECk5oXXH8l4QAJydM2C0nhAO96OzrfbeEDQ38V/tuR4QEorCoZ27XhAKnVMhu/1eED1cX0lGf54QDHWjQjrBXlAYlZu1FwNeUAMpw8uZhR5QLR8Yrr+GnlA4ItXHh4heUASid/+uyZ5QNAo6wDQK3lAoB9ryVEweUADIlD9ODR5QILkikF9N3lAnhsMOxY6eUDde8SO+zt5QMS5pOEkPXlA14md2Ik9eUDXiZ3YiT15QE3sxE7sxHlATezETuzEeUA4HMxXh8R5QFLe6wRew3lAFH4zsXjBeUD4RrK33755QHmEd3Obu3lAFIKSP7S3eUBIixJ3MrN5QInrBnUernlAVu5+lICoeUAp34kwYaJ5QIEJN6TIm3lA1riVSr+UeUClOLV+TY15QGrUpJt7hXlAoNdz/FF9eUDAjTH82HR5QEhC7fUYbHlAsEC2RBpjeUB41JtD5Vl5QBlJrU2CUHlADur5vflGeUDWApHvUz15QOfegT2ZM3lAwMnbAtIpeUDZDq6aBiB5QLL5B2A/FnlAxNX4rYQMeUCL7o/f3gJ5QH+P3E9W+XhAIATuWfPveEDpl9NYvuZ4QFKWnKe/3XhA2kpYof/UeED6ABahhsx4QC8E5QFdxHhA85/UHou8eEDCH/RSGbV4QBjPUvkPrnhAb/n/bHeneEBE6goJWKF4QBLtgii6m3hAU013JqaWeECEVvddJJJ4QCBUEio9jnhAopHX5fiKeECGWlbsX4h4QEb6nZh6hnhAX7y9RVGFeEBM7MRO7IR4QA==\"},\"shape\":[104],\"dtype\":\"float64\",\"order\":\"little\"}]],[\"start_values\",[\"Target Host, Initial Phase\",\"Target Host, Initial Phase\",\"Target Host, Evaluation Phase\",\"External Hosts Malicious\",\"External Hosts Malicious\",\"External Hosts Malicious\"]],[\"end_values\",[\"Train\",\"Validation\",\"Test\",\"Train\",\"Validation\",\"Remaining External Hosts\"]],[\"Value\",{\"type\":\"ndarray\",\"array\":{\"type\":\"bytes\",\"data\":\"AAAAAAAAVEAAAAAAAAA0QAAAAAAAADRAAAAAAAAAFEAAAAAAAAAEQAAAAAAAAARA\"},\"shape\":[6],\"dtype\":\"float64\",\"order\":\"little\"}]]}}},\"view\":{\"type\":\"object\",\"name\":\"CDSView\",\"id\":\"bf93b47e-1ce9-4ca9-8149-1c068aed3c74\",\"attributes\":{\"filter\":{\"type\":\"object\",\"name\":\"AllIndices\",\"id\":\"bd1e7ec1-f35b-4d93-8394-a66c68ad7add\"}}},\"glyph\":{\"type\":\"object\",\"name\":\"Patches\",\"id\":\"add5d6cd-6522-4c9a-8722-a7db01bb3782\",\"attributes\":{\"xs\":{\"type\":\"field\",\"field\":\"xs\"},\"ys\":{\"type\":\"field\",\"field\":\"ys\"},\"fill_alpha\":{\"type\":\"value\",\"value\":0.6}}},\"selection_glyph\":{\"type\":\"object\",\"name\":\"Patches\",\"id\":\"6f1bfb2f-1f20-4e49-a16c-3439c0339f10\",\"attributes\":{\"xs\":{\"type\":\"field\",\"field\":\"xs\"},\"ys\":{\"type\":\"field\",\"field\":\"ys\"},\"fill_alpha\":{\"type\":\"value\",\"value\":0.6}}},\"nonselection_glyph\":{\"type\":\"object\",\"name\":\"Patches\",\"id\":\"872c0613-2d85-4530-9c96-24ace33fc698\",\"attributes\":{\"xs\":{\"type\":\"field\",\"field\":\"xs\"},\"ys\":{\"type\":\"field\",\"field\":\"ys\"},\"line_alpha\":{\"type\":\"value\",\"value\":0.2},\"fill_alpha\":{\"type\":\"value\",\"value\":0.2}}},\"hover_glyph\":{\"type\":\"object\",\"name\":\"Patches\",\"id\":\"86167301-39a6-41ca-8360-ccd76429bbbe\",\"attributes\":{\"xs\":{\"type\":\"field\",\"field\":\"xs\"},\"ys\":{\"type\":\"field\",\"field\":\"ys\"},\"line_alpha\":{\"type\":\"value\",\"value\":0.9},\"fill_alpha\":{\"type\":\"value\",\"value\":0.9}}},\"muted_glyph\":{\"type\":\"object\",\"name\":\"Patches\",\"id\":\"d519fa3d-9f3f-47bc-93dd-9834556174a7\",\"attributes\":{\"xs\":{\"type\":\"field\",\"field\":\"xs\"},\"ys\":{\"type\":\"field\",\"field\":\"ys\"},\"fill_alpha\":{\"type\":\"value\",\"value\":0.6}}}}},\"selection_policy\":{\"type\":\"object\",\"name\":\"NodesAndLinkedEdges\",\"id\":\"d465c161-f5f8-4b06-ab77-1ac4e0ebd94a\"},\"inspection_policy\":{\"type\":\"object\",\"name\":\"EdgesAndLinkedNodes\",\"id\":\"e5567da3-6848-4d2d-9a31-40249aee1fd8\"}}},{\"type\":\"object\",\"name\":\"GlyphRenderer\",\"id\":\"5d33ea75-a183-4f16-b4b1-47a0ff45e36d\",\"attributes\":{\"data_source\":{\"id\":\"7f5f2a02-6899-45d6-85bf-33472a41ed47\"},\"view\":{\"id\":\"d3ab6ef4-57c3-4461-9e5b-831c0aba1d86\"},\"glyph\":{\"type\":\"object\",\"name\":\"Quad\",\"id\":\"290a884b-2a98-4c52-8ee7-1711d5fadfe3\",\"attributes\":{\"left\":{\"type\":\"field\",\"field\":\"x0\"},\"right\":{\"type\":\"field\",\"field\":\"x1\"},\"bottom\":{\"type\":\"field\",\"field\":\"y0\"},\"top\":{\"type\":\"field\",\"field\":\"y1\"},\"fill_color\":{\"type\":\"field\",\"field\":\"index\",\"transform\":{\"id\":\"a2cfb7da-1d3a-4fad-babb-0b3a0f77e04f\"}}}},\"selection_glyph\":{\"type\":\"object\",\"name\":\"Quad\",\"id\":\"1dec7b7b-108b-4af4-a1fe-8d5eb294f918\",\"attributes\":{\"left\":{\"type\":\"field\",\"field\":\"x0\"},\"right\":{\"type\":\"field\",\"field\":\"x1\"},\"bottom\":{\"type\":\"field\",\"field\":\"y0\"},\"top\":{\"type\":\"field\",\"field\":\"y1\"},\"fill_color\":{\"type\":\"field\",\"field\":\"index\",\"transform\":{\"id\":\"a2cfb7da-1d3a-4fad-babb-0b3a0f77e04f\"}}}},\"nonselection_glyph\":{\"type\":\"object\",\"name\":\"Quad\",\"id\":\"a864cb7a-9087-491c-9d3e-2f7bff4e01dd\",\"attributes\":{\"left\":{\"type\":\"field\",\"field\":\"x0\"},\"right\":{\"type\":\"field\",\"field\":\"x1\"},\"bottom\":{\"type\":\"field\",\"field\":\"y0\"},\"top\":{\"type\":\"field\",\"field\":\"y1\"},\"line_alpha\":{\"type\":\"value\",\"value\":0.2},\"fill_color\":{\"type\":\"field\",\"field\":\"index\",\"transform\":{\"id\":\"a2cfb7da-1d3a-4fad-babb-0b3a0f77e04f\"}},\"fill_alpha\":{\"type\":\"value\",\"value\":0.2},\"hatch_alpha\":{\"type\":\"value\",\"value\":0.2}}},\"hover_glyph\":{\"type\":\"object\",\"name\":\"Quad\",\"id\":\"ebce8ef6-d234-4398-a441-d53b65929563\",\"attributes\":{\"left\":{\"type\":\"field\",\"field\":\"x0\"},\"right\":{\"type\":\"field\",\"field\":\"x1\"},\"bottom\":{\"type\":\"field\",\"field\":\"y0\"},\"top\":{\"type\":\"field\",\"field\":\"y1\"},\"fill_color\":{\"type\":\"field\",\"field\":\"index\",\"transform\":{\"id\":\"a2cfb7da-1d3a-4fad-babb-0b3a0f77e04f\"}}}},\"muted_glyph\":{\"type\":\"object\",\"name\":\"Quad\",\"id\":\"245f5983-d0ae-4910-8734-24db42a3d7c9\",\"attributes\":{\"left\":{\"type\":\"field\",\"field\":\"x0\"},\"right\":{\"type\":\"field\",\"field\":\"x1\"},\"bottom\":{\"type\":\"field\",\"field\":\"y0\"},\"top\":{\"type\":\"field\",\"field\":\"y1\"},\"line_alpha\":{\"type\":\"value\",\"value\":0.2},\"fill_color\":{\"type\":\"field\",\"field\":\"index\",\"transform\":{\"id\":\"a2cfb7da-1d3a-4fad-babb-0b3a0f77e04f\"}},\"fill_alpha\":{\"type\":\"value\",\"value\":0.2},\"hatch_alpha\":{\"type\":\"value\",\"value\":0.2}}}}},{\"type\":\"object\",\"name\":\"GlyphRenderer\",\"id\":\"4785356b-8bc4-4bb6-86bd-5931fd1d48a8\",\"attributes\":{\"data_source\":{\"type\":\"object\",\"name\":\"ColumnDataSource\",\"id\":\"e2e062dc-b5ea-4718-bb73-cfd1214bd5f6\",\"attributes\":{\"selected\":{\"type\":\"object\",\"name\":\"Selection\",\"id\":\"14fc0c8d-2305-45a1-a35e-47da4d30adb7\",\"attributes\":{\"indices\":[],\"line_indices\":[]}},\"selection_policy\":{\"type\":\"object\",\"name\":\"UnionRenderers\",\"id\":\"82288901-7d0e-4501-899e-3e5909211503\"},\"data\":{\"type\":\"map\",\"entries\":[[\"x\",{\"type\":\"ndarray\",\"array\":{\"type\":\"bytes\",\"data\":\"AAAAAAAADsAAAAAAAAAOwAAAAAAAAA7AAAAAAACqjkAAAAAAAKqOQAAAAAAAqo5AAAAAAACqjkA=\"},\"shape\":[7],\"dtype\":\"float64\",\"order\":\"little\"}],[\"y\",{\"type\":\"ndarray\",\"array\":{\"type\":\"bytes\",\"data\":\"yH2rdWInZUD0RD8W4wZ9QCfbTGIndndAJqyNsRP7YUDi9ADFTpx1QCZ2Yid2In1A2O6HEzuBeUA=\"},\"shape\":[7],\"dtype\":\"float64\",\"order\":\"little\"}],[\"text\",[\"Target Host, Initial Phase - 100\",\"Target Host, Evaluation Phase - 20\",\"External Hosts Malicious - 10\",\"Train - 85\",\"Validation - 22.5\",\"Test - 20\",\"Remaining External Hosts - 2.5\"]]]}}},\"view\":{\"type\":\"object\",\"name\":\"CDSView\",\"id\":\"da5ceaf6-6b12-4937-a5ef-bd0bffc03e92\",\"attributes\":{\"filter\":{\"type\":\"object\",\"name\":\"AllIndices\",\"id\":\"75edf6a3-04dd-4186-867c-f56c1b7dc0c9\"}}},\"glyph\":{\"type\":\"object\",\"name\":\"Text\",\"id\":\"27752d6b-0002-4efa-ac9c-f9047338bebf\",\"attributes\":{\"x\":{\"type\":\"field\",\"field\":\"x\"},\"y\":{\"type\":\"field\",\"field\":\"y\"},\"text\":{\"type\":\"field\",\"field\":\"text\"},\"text_color\":{\"type\":\"value\",\"value\":\"black\"},\"text_font_size\":{\"type\":\"value\",\"value\":\"8pt\"},\"text_align\":{\"type\":\"value\",\"value\":\"right\"},\"text_baseline\":{\"type\":\"value\",\"value\":\"middle\"}}},\"selection_glyph\":{\"type\":\"object\",\"name\":\"Text\",\"id\":\"3a16002a-6659-4cc5-a004-db6db63ccd96\",\"attributes\":{\"x\":{\"type\":\"field\",\"field\":\"x\"},\"y\":{\"type\":\"field\",\"field\":\"y\"},\"text\":{\"type\":\"field\",\"field\":\"text\"},\"angle\":{\"type\":\"value\",\"value\":0},\"x_offset\":{\"type\":\"value\",\"value\":0},\"y_offset\":{\"type\":\"value\",\"value\":0},\"outline_shape\":{\"type\":\"value\",\"value\":\"box\"},\"text_color\":{\"type\":\"value\",\"value\":\"black\"},\"text_outline_color\":{\"type\":\"value\",\"value\":null},\"text_alpha\":{\"type\":\"value\",\"value\":1.0},\"text_font_size\":{\"type\":\"value\",\"value\":\"8pt\"},\"text_font_style\":{\"type\":\"value\",\"value\":\"normal\"},\"text_align\":{\"type\":\"value\",\"value\":\"right\"},\"text_baseline\":{\"type\":\"value\",\"value\":\"middle\"},\"text_line_height\":{\"type\":\"value\",\"value\":1.2},\"background_fill_color\":{\"type\":\"value\",\"value\":null},\"background_fill_alpha\":{\"type\":\"value\",\"value\":1.0},\"background_hatch_color\":{\"type\":\"value\",\"value\":null},\"background_hatch_alpha\":{\"type\":\"value\",\"value\":1.0},\"background_hatch_scale\":{\"type\":\"value\",\"value\":12.0},\"background_hatch_pattern\":{\"type\":\"value\",\"value\":null},\"background_hatch_weight\":{\"type\":\"value\",\"value\":1.0},\"border_line_color\":{\"type\":\"value\",\"value\":null},\"border_line_alpha\":{\"type\":\"value\",\"value\":1.0},\"border_line_width\":{\"type\":\"value\",\"value\":1},\"border_line_join\":{\"type\":\"value\",\"value\":\"bevel\"},\"border_line_cap\":{\"type\":\"value\",\"value\":\"butt\"},\"border_line_dash\":{\"type\":\"value\",\"value\":[]},\"border_line_dash_offset\":{\"type\":\"value\",\"value\":0}}},\"nonselection_glyph\":{\"type\":\"object\",\"name\":\"Text\",\"id\":\"d4d9dfa8-625a-4dca-a9b9-307a44883ea8\",\"attributes\":{\"x\":{\"type\":\"field\",\"field\":\"x\"},\"y\":{\"type\":\"field\",\"field\":\"y\"},\"text\":{\"type\":\"field\",\"field\":\"text\"},\"text_color\":{\"type\":\"value\",\"value\":\"black\"},\"text_alpha\":{\"type\":\"value\",\"value\":0.1},\"text_font_size\":{\"type\":\"value\",\"value\":\"8pt\"},\"text_align\":{\"type\":\"value\",\"value\":\"right\"},\"text_baseline\":{\"type\":\"value\",\"value\":\"middle\"}}},\"muted_glyph\":{\"type\":\"object\",\"name\":\"Text\",\"id\":\"cc06ebb5-e264-402f-b3a7-065a89ae34f7\",\"attributes\":{\"x\":{\"type\":\"field\",\"field\":\"x\"},\"y\":{\"type\":\"field\",\"field\":\"y\"},\"text\":{\"type\":\"field\",\"field\":\"text\"},\"text_color\":{\"type\":\"value\",\"value\":\"black\"},\"text_alpha\":{\"type\":\"value\",\"value\":0.2},\"text_font_size\":{\"type\":\"value\",\"value\":\"8pt\"},\"text_align\":{\"type\":\"value\",\"value\":\"right\"},\"text_baseline\":{\"type\":\"value\",\"value\":\"middle\"}}}}}],\"toolbar\":{\"type\":\"object\",\"name\":\"Toolbar\",\"id\":\"799ef852-ba03-4fb4-9688-a7ae1811c528\",\"attributes\":{\"tools\":[{\"type\":\"object\",\"name\":\"WheelZoomTool\",\"id\":\"b4861f9f-352a-4163-b7d4-1495ec4508f7\",\"attributes\":{\"tags\":[\"hv_created\"],\"renderers\":\"auto\",\"zoom_together\":\"none\"}},{\"type\":\"object\",\"name\":\"HoverTool\",\"id\":\"8fc5870c-cbd6-4829-9926-124a31e4ed58\",\"attributes\":{\"tags\":[\"hv_created\"],\"renderers\":[{\"id\":\"12bd7ea6-c3c6-4d26-b20d-2d14bbca4e58\"}],\"tooltips\":[[\"start\",\"@{start_values}\"],[\"end\",\"@{end_values}\"],[\"Value\",\"@{Value}\"]]}},{\"type\":\"object\",\"name\":\"SaveTool\",\"id\":\"f210f7c4-5ec8-49ff-9096-57ad0665ce31\"},{\"type\":\"object\",\"name\":\"PanTool\",\"id\":\"4bc28df7-254f-4828-a6db-373cab3e9d7c\"},{\"type\":\"object\",\"name\":\"BoxZoomTool\",\"id\":\"303c9bae-a83a-4e31-bf98-a344f8d56c2d\",\"attributes\":{\"dimensions\":\"both\",\"overlay\":{\"type\":\"object\",\"name\":\"BoxAnnotation\",\"id\":\"62e47870-8cca-47f5-bfd0-b1528d0de417\",\"attributes\":{\"syncable\":false,\"line_color\":\"black\",\"line_alpha\":1.0,\"line_width\":2,\"line_dash\":[4,4],\"fill_color\":\"lightgrey\",\"fill_alpha\":0.5,\"level\":\"overlay\",\"visible\":false,\"left\":{\"type\":\"number\",\"value\":\"nan\"},\"right\":{\"type\":\"number\",\"value\":\"nan\"},\"top\":{\"type\":\"number\",\"value\":\"nan\"},\"bottom\":{\"type\":\"number\",\"value\":\"nan\"},\"left_units\":\"canvas\",\"right_units\":\"canvas\",\"top_units\":\"canvas\",\"bottom_units\":\"canvas\",\"handles\":{\"type\":\"object\",\"name\":\"BoxInteractionHandles\",\"id\":\"b1b27161-c05c-44c0-92fd-1c1829b91008\",\"attributes\":{\"all\":{\"type\":\"object\",\"name\":\"AreaVisuals\",\"id\":\"1d8c3f58-1262-44f0-84f5-938c047ac760\",\"attributes\":{\"fill_color\":\"white\",\"hover_fill_color\":\"lightgray\"}}}}}}}},{\"type\":\"object\",\"name\":\"ResetTool\",\"id\":\"ec65be8a-1aee-4d5a-a6c9-f7579b1a8ddd\"},{\"type\":\"object\",\"name\":\"TapTool\",\"id\":\"9f3e2538-fdf0-4bb8-906f-3827cb31fb9e\",\"attributes\":{\"renderers\":\"auto\"}}],\"active_drag\":{\"id\":\"4bc28df7-254f-4828-a6db-373cab3e9d7c\"},\"active_scroll\":{\"id\":\"b4861f9f-352a-4163-b7d4-1495ec4508f7\"}}},\"left\":[{\"type\":\"object\",\"name\":\"LinearAxis\",\"id\":\"73eca1ee-793c-4433-bfe2-3d7c91e8827a\",\"attributes\":{\"visible\":false,\"ticker\":{\"type\":\"object\",\"name\":\"BasicTicker\",\"id\":\"fbb2b1cb-ad03-4da0-812e-72bab960a995\",\"attributes\":{\"mantissas\":[1,2,5]}},\"formatter\":{\"type\":\"object\",\"name\":\"BasicTickFormatter\",\"id\":\"09508d58-5ef6-470d-a96c-1c9c6e3098e5\"},\"axis_label\":\"y\",\"major_label_policy\":{\"type\":\"object\",\"name\":\"AllLabels\",\"id\":\"0a779be4-8c91-48d9-9849-169665b5d52f\"}}}],\"below\":[{\"type\":\"object\",\"name\":\"LinearAxis\",\"id\":\"063ee3d7-a99a-4d22-88b1-8873fdedf6c8\",\"attributes\":{\"visible\":false,\"ticker\":{\"type\":\"object\",\"name\":\"BasicTicker\",\"id\":\"e051f60c-2313-469f-a4bd-2baa9a6e222f\",\"attributes\":{\"mantissas\":[1,2,5]}},\"formatter\":{\"type\":\"object\",\"name\":\"BasicTickFormatter\",\"id\":\"d79f1672-3304-423a-9fd8-f4e79f07b3be\"},\"axis_label\":\"x\",\"major_label_policy\":{\"type\":\"object\",\"name\":\"AllLabels\",\"id\":\"ba5da72b-647d-4df9-808b-36dfa7cfb42e\"}}}],\"center\":[{\"type\":\"object\",\"name\":\"Grid\",\"id\":\"7e6b1fca-8032-4b45-b74b-b779bb9581c9\",\"attributes\":{\"axis\":{\"id\":\"063ee3d7-a99a-4d22-88b1-8873fdedf6c8\"},\"grid_line_color\":null}},{\"type\":\"object\",\"name\":\"Grid\",\"id\":\"ef27c025-c387-407d-a155-6343d0f468a2\",\"attributes\":{\"dimension\":1,\"axis\":{\"id\":\"73eca1ee-793c-4433-bfe2-3d7c91e8827a\"},\"grid_line_color\":null}}],\"min_border_top\":10,\"min_border_bottom\":10,\"min_border_left\":10,\"min_border_right\":10,\"output_backend\":\"webgl\"}},{\"type\":\"object\",\"name\":\"Spacer\",\"id\":\"0fc743d1-455f-4564-9018-d62602b29f81\",\"attributes\":{\"name\":\"HSpacer02780\",\"stylesheets\":[\"\\n:host(.pn-loading):before, .pn-loading:before {\\n  background-color: #c3c3c3;\\n  mask-size: auto calc(min(50%, 400px));\\n  -webkit-mask-size: auto calc(min(50%, 400px));\\n}\",{\"id\":\"55c73347-02c7-41cf-83fb-eae41fd88ed8\"},{\"id\":\"9c058545-8136-49f2-8326-7a7e4b49da31\"},{\"id\":\"ef584bb7-05d5-4fca-928e-5e7217998c3d\"}],\"min_width\":0,\"margin\":0,\"sizing_mode\":\"stretch_width\",\"align\":\"start\"}}]}}],\"defs\":[{\"type\":\"model\",\"name\":\"ReactiveHTML1\"},{\"type\":\"model\",\"name\":\"FlexBox1\",\"properties\":[{\"name\":\"align_content\",\"kind\":\"Any\",\"default\":\"flex-start\"},{\"name\":\"align_items\",\"kind\":\"Any\",\"default\":\"flex-start\"},{\"name\":\"flex_direction\",\"kind\":\"Any\",\"default\":\"row\"},{\"name\":\"flex_wrap\",\"kind\":\"Any\",\"default\":\"wrap\"},{\"name\":\"gap\",\"kind\":\"Any\",\"default\":\"\"},{\"name\":\"justify_content\",\"kind\":\"Any\",\"default\":\"flex-start\"}]},{\"type\":\"model\",\"name\":\"FloatPanel1\",\"properties\":[{\"name\":\"config\",\"kind\":\"Any\",\"default\":{\"type\":\"map\"}},{\"name\":\"contained\",\"kind\":\"Any\",\"default\":true},{\"name\":\"position\",\"kind\":\"Any\",\"default\":\"right-top\"},{\"name\":\"offsetx\",\"kind\":\"Any\",\"default\":null},{\"name\":\"offsety\",\"kind\":\"Any\",\"default\":null},{\"name\":\"theme\",\"kind\":\"Any\",\"default\":\"primary\"},{\"name\":\"status\",\"kind\":\"Any\",\"default\":\"normalized\"}]},{\"type\":\"model\",\"name\":\"GridStack1\",\"properties\":[{\"name\":\"ncols\",\"kind\":\"Any\",\"default\":null},{\"name\":\"nrows\",\"kind\":\"Any\",\"default\":null},{\"name\":\"allow_resize\",\"kind\":\"Any\",\"default\":true},{\"name\":\"allow_drag\",\"kind\":\"Any\",\"default\":true},{\"name\":\"state\",\"kind\":\"Any\",\"default\":[]}]},{\"type\":\"model\",\"name\":\"drag1\",\"properties\":[{\"name\":\"slider_width\",\"kind\":\"Any\",\"default\":5},{\"name\":\"slider_color\",\"kind\":\"Any\",\"default\":\"black\"},{\"name\":\"value\",\"kind\":\"Any\",\"default\":50}]},{\"type\":\"model\",\"name\":\"click1\",\"properties\":[{\"name\":\"terminal_output\",\"kind\":\"Any\",\"default\":\"\"},{\"name\":\"debug_name\",\"kind\":\"Any\",\"default\":\"\"},{\"name\":\"clears\",\"kind\":\"Any\",\"default\":0}]},{\"type\":\"model\",\"name\":\"FastWrapper1\",\"properties\":[{\"name\":\"object\",\"kind\":\"Any\",\"default\":null},{\"name\":\"style\",\"kind\":\"Any\",\"default\":null}]},{\"type\":\"model\",\"name\":\"NotificationArea1\",\"properties\":[{\"name\":\"js_events\",\"kind\":\"Any\",\"default\":{\"type\":\"map\"}},{\"name\":\"max_notifications\",\"kind\":\"Any\",\"default\":5},{\"name\":\"notifications\",\"kind\":\"Any\",\"default\":[]},{\"name\":\"position\",\"kind\":\"Any\",\"default\":\"bottom-right\"},{\"name\":\"_clear\",\"kind\":\"Any\",\"default\":0},{\"name\":\"types\",\"kind\":\"Any\",\"default\":[{\"type\":\"map\",\"entries\":[[\"type\",\"warning\"],[\"background\",\"#ffc107\"],[\"icon\",{\"type\":\"map\",\"entries\":[[\"className\",\"fas fa-exclamation-triangle\"],[\"tagName\",\"i\"],[\"color\",\"white\"]]}]]},{\"type\":\"map\",\"entries\":[[\"type\",\"info\"],[\"background\",\"#007bff\"],[\"icon\",{\"type\":\"map\",\"entries\":[[\"className\",\"fas fa-info-circle\"],[\"tagName\",\"i\"],[\"color\",\"white\"]]}]]}]}]},{\"type\":\"model\",\"name\":\"Notification\",\"properties\":[{\"name\":\"background\",\"kind\":\"Any\",\"default\":null},{\"name\":\"duration\",\"kind\":\"Any\",\"default\":3000},{\"name\":\"icon\",\"kind\":\"Any\",\"default\":null},{\"name\":\"message\",\"kind\":\"Any\",\"default\":\"\"},{\"name\":\"notification_type\",\"kind\":\"Any\",\"default\":null},{\"name\":\"_rendered\",\"kind\":\"Any\",\"default\":false},{\"name\":\"_destroyed\",\"kind\":\"Any\",\"default\":false}]},{\"type\":\"model\",\"name\":\"TemplateActions1\",\"properties\":[{\"name\":\"open_modal\",\"kind\":\"Any\",\"default\":0},{\"name\":\"close_modal\",\"kind\":\"Any\",\"default\":0}]},{\"type\":\"model\",\"name\":\"BootstrapTemplateActions1\",\"properties\":[{\"name\":\"open_modal\",\"kind\":\"Any\",\"default\":0},{\"name\":\"close_modal\",\"kind\":\"Any\",\"default\":0}]},{\"type\":\"model\",\"name\":\"TemplateEditor1\",\"properties\":[{\"name\":\"layout\",\"kind\":\"Any\",\"default\":[]}]},{\"type\":\"model\",\"name\":\"MaterialTemplateActions1\",\"properties\":[{\"name\":\"open_modal\",\"kind\":\"Any\",\"default\":0},{\"name\":\"close_modal\",\"kind\":\"Any\",\"default\":0}]},{\"type\":\"model\",\"name\":\"ReactiveESM1\",\"properties\":[{\"name\":\"esm_constants\",\"kind\":\"Any\",\"default\":{\"type\":\"map\"}}]},{\"type\":\"model\",\"name\":\"JSComponent1\",\"properties\":[{\"name\":\"esm_constants\",\"kind\":\"Any\",\"default\":{\"type\":\"map\"}}]},{\"type\":\"model\",\"name\":\"ReactComponent1\",\"properties\":[{\"name\":\"esm_constants\",\"kind\":\"Any\",\"default\":{\"type\":\"map\"}}]},{\"type\":\"model\",\"name\":\"AnyWidgetComponent1\",\"properties\":[{\"name\":\"esm_constants\",\"kind\":\"Any\",\"default\":{\"type\":\"map\"}}]},{\"type\":\"model\",\"name\":\"request_value1\",\"properties\":[{\"name\":\"fill\",\"kind\":\"Any\",\"default\":\"none\"},{\"name\":\"_synced\",\"kind\":\"Any\",\"default\":null},{\"name\":\"_request_sync\",\"kind\":\"Any\",\"default\":0}]}]}};\n",
       "  var render_items = [{\"docid\":\"ae91a480-c81f-4832-aa22-e9b116b0bf70\",\"roots\":{\"6f3ea48e-435c-4d69-9142-da466ae5f14e\":\"ec4ceebc-074f-47da-a608-69b2dfc90360\"},\"root_ids\":[\"6f3ea48e-435c-4d69-9142-da466ae5f14e\"]}];\n",
       "  var docs = Object.values(docs_json)\n",
       "  if (!docs) {\n",
       "    return\n",
       "  }\n",
       "  const py_version = docs[0].version.replace('rc', '-rc.').replace('.dev', '-dev.')\n",
       "  async function embed_document(root) {\n",
       "    var Bokeh = get_bokeh(root)\n",
       "    await Bokeh.embed.embed_items_notebook(docs_json, render_items);\n",
       "    for (const render_item of render_items) {\n",
       "      for (const root_id of render_item.root_ids) {\n",
       "\tconst id_el = document.getElementById(root_id)\n",
       "\tif (id_el.children.length && id_el.children[0].hasAttribute('data-root-id')) {\n",
       "\t  const root_el = id_el.children[0]\n",
       "\t  root_el.id = root_el.id + '-rendered'\n",
       "\t  for (const child of root_el.children) {\n",
       "            // Ensure JupyterLab does not capture keyboard shortcuts\n",
       "            // see: https://jupyterlab.readthedocs.io/en/4.1.x/extension/notebook.html#keyboard-interaction-model\n",
       "\t    child.setAttribute('data-lm-suppress-shortcuts', 'true')\n",
       "\t  }\n",
       "\t}\n",
       "      }\n",
       "    }\n",
       "  }\n",
       "  function get_bokeh(root) {\n",
       "    if (root.Bokeh === undefined) {\n",
       "      return null\n",
       "    } else if (root.Bokeh.version !== py_version) {\n",
       "      if (root.Bokeh.versions === undefined || !root.Bokeh.versions.has(py_version)) {\n",
       "\treturn null\n",
       "      }\n",
       "      return root.Bokeh.versions.get(py_version);\n",
       "    } else if (root.Bokeh.version === py_version) {\n",
       "      return root.Bokeh\n",
       "    }\n",
       "    return null\n",
       "  }\n",
       "  function is_loaded(root) {\n",
       "    var Bokeh = get_bokeh(root)\n",
       "    return (Bokeh != null && Bokeh.Panel !== undefined)\n",
       "  }\n",
       "  if (is_loaded(root)) {\n",
       "    embed_document(root);\n",
       "  } else {\n",
       "    var attempts = 0;\n",
       "    var timer = setInterval(function(root) {\n",
       "      if (is_loaded(root)) {\n",
       "        clearInterval(timer);\n",
       "        embed_document(root);\n",
       "      } else if (document.readyState == \"complete\") {\n",
       "        attempts++;\n",
       "        if (attempts > 200) {\n",
       "          clearInterval(timer);\n",
       "\t  var Bokeh = get_bokeh(root)\n",
       "\t  if (Bokeh == null || Bokeh.Panel == null) {\n",
       "            console.warn(\"Panel: ERROR: Unable to run Panel code because Bokeh or Panel library is missing\");\n",
       "\t  } else {\n",
       "\t    console.warn(\"Panel: WARNING: Attempting to render but not all required libraries could be resolved.\")\n",
       "\t    embed_document(root)\n",
       "\t  }\n",
       "        }\n",
       "      }\n",
       "    }, 25, root)\n",
       "  }\n",
       "})(window);</script>"
      ],
      "text/plain": [
       ":Sankey   [start,end]   (Value)"
      ]
     },
     "execution_count": 45,
     "metadata": {
      "application/vnd.holoviews_exec.v0+json": {
       "id": "6f3ea48e-435c-4d69-9142-da466ae5f14e"
      }
     },
     "output_type": "execute_result"
    }
   ],
   "source": [
    "import holoviews as hv\n",
    "hv.extension('bokeh')\n",
    "\n",
    "\n",
    "# Input data\n",
    "transition = [[0.8, 0.2, 0., 0.], \n",
    "              [0., 0., 1., 0.], \n",
    "              [0.5, 0.25, 0, 0.25]]\n",
    "volume = [100, 20, 10]\n",
    "\n",
    "# Labels\n",
    "source_labels = [\n",
    "    \"Target Host, Initial Phase\",\n",
    "    \"Target Host, Evaluation Phase\", \n",
    "    \"External Hosts Malicious\"\n",
    "]\n",
    "target_labels = [\n",
    "    \"Train\",\n",
    "    \"Validation\",\n",
    "    \"Test\",\n",
    "    \"Remaining External Hosts\"\n",
    "]\n",
    "# Define muted colors for nodes and links (background-friendly, thesis style)\n",
    "node_colors = [\n",
    "    \"#82B9E6\",  # Target Host, Initial Phase (muted blue)\n",
    "    \"#D3B28C\",  # Target Host, Evaluation Phase (muted beige)\n",
    "    \"#A1D193\",  # External Hosts Malicious (muted green)\n",
    "    \"#A3D8F4\",  # Train (soft blue)\n",
    "    \"#5789A3\",  # Validation (soft yellow-orange)\n",
    "    \"#D3B28C\",  # Test (soft green)\n",
    "    \"#A1D193\"   # Remaining External Hosts (soft pink)\n",
    "]\n",
    "\n",
    "# Muted versions of the source node colors for links\n",
    "link_colors = [\n",
    "    \"#B5D3EC\", \"#B5D3EC\",  # from node 0 (muted blue)\n",
    "    \"#E2CBA8\",             # from node 1 (muted beige)\n",
    "    \"#C3E2B8\", \"#C3E2B8\", \"#C3E2B8\"  # from node 2 (muted green)\n",
    "]\n",
    "# Construct Sankey edge list\n",
    "edges = []\n",
    "for i, row in enumerate(transition):\n",
    "    for j, frac in enumerate(row):\n",
    "        if frac > 0:\n",
    "            from_node = source_labels[i]\n",
    "            to_node = target_labels[j]\n",
    "            weight = volume[i] * frac\n",
    "            edges.append((from_node, to_node, weight))\n",
    "            # Add edge color to each edge using link_colors\n",
    "            for idx, edge in enumerate(edges):\n",
    "                edges[idx] = edge + (link_colors[idx],)\n",
    "# Create Sankey diagram\n",
    "sankey = hv.Sankey(edges).opts(\n",
    "    width=800, height=500,\n",
    "    labels='index',\n",
    "    node_color=node_colors,\n",
    "    label_position='left',\n",
    "    title='Sankey Diagram of Data Transitions'\n",
    ")\n",
    "\n",
    "sankey"
   ]
  },
  {
   "cell_type": "code",
   "execution_count": null,
   "metadata": {},
   "outputs": [],
   "source": []
  }
 ],
 "metadata": {
  "kernelspec": {
   "display_name": "cids3.12",
   "language": "python",
   "name": "python3"
  },
  "language_info": {
   "codemirror_mode": {
    "name": "ipython",
    "version": 3
   },
   "file_extension": ".py",
   "mimetype": "text/x-python",
   "name": "python",
   "nbconvert_exporter": "python",
   "pygments_lexer": "ipython3",
   "version": "3.12.8"
  }
 },
 "nbformat": 4,
 "nbformat_minor": 2
}
